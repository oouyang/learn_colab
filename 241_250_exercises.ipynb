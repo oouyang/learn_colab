{
  "nbformat": 4,
  "nbformat_minor": 0,
  "metadata": {
    "colab": {
      "name": "241-250_exercises.ipynb",
      "provenance": [],
      "collapsed_sections": [],
      "include_colab_link": true
    },
    "kernelspec": {
      "name": "python3",
      "display_name": "Python 3"
    }
  },
  "cells": [
    {
      "cell_type": "markdown",
      "metadata": {
        "id": "view-in-github",
        "colab_type": "text"
      },
      "source": [
        "<a href=\"https://colab.research.google.com/github/oouyang/learn_colab/blob/master/241_250_exercises.ipynb\" target=\"_parent\"><img src=\"https://colab.research.google.com/assets/colab-badge.svg\" alt=\"Open In Colab\"/></a>"
      ]
    },
    {
      "cell_type": "markdown",
      "metadata": {
        "id": "WLEgCW5F1hho",
        "colab_type": "text"
      },
      "source": [
        "## Data Science Bootcamp\n",
        "\n",
        "### Table of contents:\n",
        "* [Import biblioteki](#0)\n",
        "* [Exercise 241](#1)\n",
        "* [Exercise 242](#2)\n",
        "* [Exercise 243](#3)\n",
        "* [Exercise 244](#4)\n",
        "* [Exercise 245](#5)\n",
        "* [Exercise 246](#6)\n",
        "* [Exercise 247](#7)\n",
        "* [Exercise 248](#8)\n",
        "* [Exercise 249](#9)\n",
        "* [Exercise 250](#10)"
      ]
    },
    {
      "cell_type": "markdown",
      "metadata": {
        "id": "zeLOLmTj1kBM",
        "colab_type": "text"
      },
      "source": [
        "### <a name='0'></a> Import of libraries"
      ]
    },
    {
      "cell_type": "code",
      "metadata": {
        "id": "HXMB7SMe1Wnz",
        "colab_type": "code",
        "colab": {}
      },
      "source": [
        "import numpy as np\n",
        "\n",
        "np.__version__"
      ],
      "execution_count": 0,
      "outputs": []
    },
    {
      "cell_type": "markdown",
      "metadata": {
        "id": "8_9Ny8q-U5Pe",
        "colab_type": "text"
      },
      "source": [
        "Run the following command (download image from Google cloud)."
      ]
    },
    {
      "cell_type": "code",
      "metadata": {
        "id": "j_u7YnXIU7Cg",
        "colab_type": "code",
        "colab": {}
      },
      "source": [
        "!wget https://storage.googleapis.com/esmartdata-courses-files/ds-bootcamp/ds-bootcamp.jpg"
      ],
      "execution_count": 0,
      "outputs": []
    },
    {
      "cell_type": "markdown",
      "metadata": {
        "id": "cyc70pMe1oCg",
        "colab_type": "text"
      },
      "source": [
        "### <a name='1'></a> Exercise 241\n",
        "Import the _opencv_ library and the _cv2_imshow_ function to display the image using the _opencv_ library."
      ]
    },
    {
      "cell_type": "code",
      "metadata": {
        "id": "bIdHci3nVCeT",
        "colab_type": "code",
        "colab": {}
      },
      "source": [
        "import cv2\n",
        "from google.colab.patches import cv2_imshow\n",
        "\n",
        "cv2.__version__"
      ],
      "execution_count": 0,
      "outputs": []
    },
    {
      "cell_type": "markdown",
      "metadata": {
        "id": "HEsbUDOHVGoS",
        "colab_type": "text"
      },
      "source": [
        "Load the _ds-bootcamp.jpg_ image into the _numpy_ array as a grayscale image using the _opencv_ library and assign to the variable _img\\_gray_. Display array."
      ]
    },
    {
      "cell_type": "code",
      "metadata": {
        "id": "Nfspt_oBVOR3",
        "colab_type": "code",
        "colab": {}
      },
      "source": [
        "# enter solution here"
      ],
      "execution_count": 0,
      "outputs": []
    },
    {
      "cell_type": "markdown",
      "metadata": {
        "id": "J9pY1rtr1sC0",
        "colab_type": "text"
      },
      "source": [
        "### <a name='2'></a> Exercise 242\n",
        "Display array shape _img\\_gray_."
      ]
    },
    {
      "cell_type": "code",
      "metadata": {
        "id": "YHlrq0LyVTP-",
        "colab_type": "code",
        "colab": {}
      },
      "source": [
        "# enter solution here"
      ],
      "execution_count": 0,
      "outputs": []
    },
    {
      "cell_type": "markdown",
      "metadata": {
        "id": "hGI1EesWVVXc",
        "colab_type": "text"
      },
      "source": [
        "Display the image (array _img\\_gray_) using the function _cv2\\_imshow_."
      ]
    },
    {
      "cell_type": "code",
      "metadata": {
        "id": "aetxoeSnVX9l",
        "colab_type": "code",
        "colab": {}
      },
      "source": [
        "# enter solution here"
      ],
      "execution_count": 0,
      "outputs": []
    },
    {
      "cell_type": "markdown",
      "metadata": {
        "id": "XQLYT2m11wVG",
        "colab_type": "text"
      },
      "source": [
        "### <a name='3'></a> Exercise 243\n",
        "Import the _imutils_ library. We will use it to change the image size."
      ]
    },
    {
      "cell_type": "code",
      "metadata": {
        "id": "0fPM5zlyVb0K",
        "colab_type": "code",
        "colab": {}
      },
      "source": [
        "import imutils\n",
        "\n",
        "imutils.__version__"
      ],
      "execution_count": 0,
      "outputs": []
    },
    {
      "cell_type": "markdown",
      "metadata": {
        "id": "PWSIQWCfVeTg",
        "colab_type": "text"
      },
      "source": [
        "Using the _resize()_ function from the _imutils_ library, set the image height (array _img\\_gray_) to 300 pixels. Save changes permanently to the _img\\_gray_ variable. Display the shape of the array."
      ]
    },
    {
      "cell_type": "code",
      "metadata": {
        "id": "cc9gnXQMVjmg",
        "colab_type": "code",
        "colab": {}
      },
      "source": [
        "# enter solution here"
      ],
      "execution_count": 0,
      "outputs": []
    },
    {
      "cell_type": "markdown",
      "metadata": {
        "id": "wiUNfdfOVmMB",
        "colab_type": "text"
      },
      "source": [
        "Display image _img\\_gray_."
      ]
    },
    {
      "cell_type": "code",
      "metadata": {
        "id": "i84oZUdvVo2R",
        "colab_type": "code",
        "colab": {}
      },
      "source": [
        "# enter solution here"
      ],
      "execution_count": 0,
      "outputs": []
    },
    {
      "cell_type": "markdown",
      "metadata": {
        "id": "4xTKSUzg10MK",
        "colab_type": "text"
      },
      "source": [
        "### <a name='4'></a> Exercise 244\n",
        "Load the _ds-bootcamp.jpg_ image into the _numpy_ array as a color image using the _opencv_ library and assign it to the variable _img_. Display array."
      ]
    },
    {
      "cell_type": "code",
      "metadata": {
        "id": "uKQrTg5iVvaD",
        "colab_type": "code",
        "colab": {}
      },
      "source": [
        "# enter solution here"
      ],
      "execution_count": 0,
      "outputs": []
    },
    {
      "cell_type": "markdown",
      "metadata": {
        "id": "0QcZZHM1VxMB",
        "colab_type": "text"
      },
      "source": [
        "Display array _img_ shape."
      ]
    },
    {
      "cell_type": "code",
      "metadata": {
        "id": "3ovuc-eFVy6o",
        "colab_type": "code",
        "colab": {}
      },
      "source": [
        "# enter solution here"
      ],
      "execution_count": 0,
      "outputs": []
    },
    {
      "cell_type": "markdown",
      "metadata": {
        "id": "GV8l28JFV47B",
        "colab_type": "text"
      },
      "source": [
        "Display the image (array _img_) with the function _cv2\\_imshow_."
      ]
    },
    {
      "cell_type": "code",
      "metadata": {
        "id": "T_5m9g_0V8g3",
        "colab_type": "code",
        "colab": {}
      },
      "source": [
        "# enter solution here"
      ],
      "execution_count": 0,
      "outputs": []
    },
    {
      "cell_type": "markdown",
      "metadata": {
        "id": "o3HKIKlP15Ro",
        "colab_type": "text"
      },
      "source": [
        "### <a name='5'></a> Exercise 245\n",
        "Use the _resize()_ function from the _imutils_ library to set the image width (array _img_) to 400 pixels. Save the changes permanently to the _img_ variable. Display the shape of the array thus obtained."
      ]
    },
    {
      "cell_type": "code",
      "metadata": {
        "id": "dMW8HVQ9WDf_",
        "colab_type": "code",
        "colab": {}
      },
      "source": [
        "# enter solution here"
      ],
      "execution_count": 0,
      "outputs": []
    },
    {
      "cell_type": "markdown",
      "metadata": {
        "id": "LILRvpahWFVz",
        "colab_type": "text"
      },
      "source": [
        "Display image _img_."
      ]
    },
    {
      "cell_type": "code",
      "metadata": {
        "id": "aRvJAvG3WHRt",
        "colab_type": "code",
        "colab": {}
      },
      "source": [
        "# enter solution here"
      ],
      "execution_count": 0,
      "outputs": []
    },
    {
      "cell_type": "markdown",
      "metadata": {
        "id": "PunXd_Ey16so",
        "colab_type": "text"
      },
      "source": [
        "### <a name='6'></a> Exercise 246\n",
        "Using proper cutting of the _img_ array, cut (approximately) the python logo from the image. Display result."
      ]
    },
    {
      "cell_type": "code",
      "metadata": {
        "id": "2wlUsgPkWNqH",
        "colab_type": "code",
        "colab": {}
      },
      "source": [
        "# enter solution here"
      ],
      "execution_count": 0,
      "outputs": []
    },
    {
      "cell_type": "markdown",
      "metadata": {
        "id": "hOhqDRz618Tx",
        "colab_type": "text"
      },
      "source": [
        "### <a name='7'></a> Exercise 247\n",
        "Using the _cv2.copyMakeBorder()_ function from the _opencv_ library, add a 50-pixel-wide _img_ border to each side. Use the _cv2.BORDER_REPLICATE_ border type.\n",
        "\n",
        "More: https://docs.opencv.org/master/d3/df2/tutorial_py_basic_ops.html"
      ]
    },
    {
      "cell_type": "code",
      "metadata": {
        "id": "5F3RwuY6WcCL",
        "colab_type": "code",
        "colab": {}
      },
      "source": [
        "# enter solution here"
      ],
      "execution_count": 0,
      "outputs": []
    },
    {
      "cell_type": "markdown",
      "metadata": {
        "id": "TXUd_4631-gw",
        "colab_type": "text"
      },
      "source": [
        "### <a name='8'></a> Exercise 248\n",
        "Using the _cv2.copyMakeBorder()_ function from the _opencv_ library, add a 100-pixel-wide _img_ border to each side. Use border type _cv2.BORDER_REFLECT_.\n",
        "\n",
        "More: https://docs.opencv.org/master/d3/df2/tutorial_py_basic_ops.html"
      ]
    },
    {
      "cell_type": "code",
      "metadata": {
        "id": "xfbLoYxuWkAC",
        "colab_type": "code",
        "colab": {}
      },
      "source": [
        "# enter solution here"
      ],
      "execution_count": 0,
      "outputs": []
    },
    {
      "cell_type": "markdown",
      "metadata": {
        "id": "tgI6xEn-2AQo",
        "colab_type": "text"
      },
      "source": [
        "### <a name='9'></a> Exercise 249\n",
        "Using the _cv2.copyMakeBorder()_ function from the _opencv_ library, add a 100-pixel-wide _img_ border to each side. Use the border type _cv2.BORDER_WRAP_.\n",
        "\n",
        "More; https://docs.opencv.org/master/d3/df2/tutorial_py_basic_ops.html"
      ]
    },
    {
      "cell_type": "code",
      "metadata": {
        "id": "pabaC95iWrk_",
        "colab_type": "code",
        "colab": {}
      },
      "source": [
        "# enter solution here"
      ],
      "execution_count": 0,
      "outputs": []
    },
    {
      "cell_type": "markdown",
      "metadata": {
        "id": "wxhpf-uq2B1I",
        "colab_type": "text"
      },
      "source": [
        "### <a name='10'></a> Exercise 250\n",
        "Using the _cv2.rectangle()_ function from the _opencv_ library, add a rectangle border to the _img_ image surrounding the python logo. Set the color to green `color = (0, 255, 0)` and thickness to 3 pixels."
      ]
    },
    {
      "cell_type": "code",
      "metadata": {
        "id": "YFc0KW6URsuc",
        "colab_type": "code",
        "colab": {}
      },
      "source": [
        "# enter solution here"
      ],
      "execution_count": 0,
      "outputs": []
    },
    {
      "cell_type": "markdown",
      "metadata": {
        "id": "631QbwViWzcz",
        "colab_type": "text"
      },
      "source": [
        "Using the _cv2.circle()_ function from the _opencv_ library add a circle to the _img_ image covering the python logo. Set the color to green `color = (0, 255, 0)`."
      ]
    },
    {
      "cell_type": "code",
      "metadata": {
        "id": "8HXZVJZsWxX8",
        "colab_type": "code",
        "colab": {}
      },
      "source": [
        "# enter solution here"
      ],
      "execution_count": 0,
      "outputs": []
    },
    {
      "cell_type": "markdown",
      "metadata": {
        "id": "xykZn_aMW6KV",
        "colab_type": "text"
      },
      "source": [
        "Using the _cv2.putText()_ function from the _opencv_ library, add 'Logo: Python' to the _img_ image in the upper left corner. Set the text position `org = (10, 40)`, font to `fontFace = cv2.FONT_HERSHEY_SIMPLEX`, font size to` fontScale = 1.2`, text color to yellow `color = (0, 255, 255)` and thickness ` thickness = 5`."
      ]
    },
    {
      "cell_type": "code",
      "metadata": {
        "id": "HsEq-9QlW2LO",
        "colab_type": "code",
        "colab": {}
      },
      "source": [
        "# enter solution here"
      ],
      "execution_count": 0,
      "outputs": []
    }
  ]
}