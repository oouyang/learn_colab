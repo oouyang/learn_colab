{
  "nbformat": 4,
  "nbformat_minor": 0,
  "metadata": {
    "colab": {
      "name": "221-230_exercises.ipynb",
      "provenance": [],
      "collapsed_sections": [],
      "include_colab_link": true
    },
    "kernelspec": {
      "name": "python3",
      "display_name": "Python 3"
    }
  },
  "cells": [
    {
      "cell_type": "markdown",
      "metadata": {
        "id": "view-in-github",
        "colab_type": "text"
      },
      "source": [
        "<a href=\"https://colab.research.google.com/github/oouyang/learn_colab/blob/master/221_230_exercises.ipynb\" target=\"_parent\"><img src=\"https://colab.research.google.com/assets/colab-badge.svg\" alt=\"Open In Colab\"/></a>"
      ]
    },
    {
      "cell_type": "markdown",
      "metadata": {
        "id": "WLEgCW5F1hho",
        "colab_type": "text"
      },
      "source": [
        "## Data Science Bootcamp\n",
        "\n",
        "### Table of contents:\n",
        "* [Import biblioteki](#0)\n",
        "* [Exercise 221](#1)\n",
        "* [Exercise 222](#2)\n",
        "* [Exercise 223](#3)\n",
        "* [Exercise 224](#4)\n",
        "* [Exercise 225](#5)\n",
        "* [Exercise 226](#6)\n",
        "* [Exercise 227](#7)\n",
        "* [Exercise 228](#8)\n",
        "* [Exercise 229](#9)\n",
        "* [Exercise 230](#10)"
      ]
    },
    {
      "cell_type": "markdown",
      "metadata": {
        "id": "zeLOLmTj1kBM",
        "colab_type": "text"
      },
      "source": [
        "### <a name='0'></a> Import of libraries"
      ]
    },
    {
      "cell_type": "code",
      "metadata": {
        "id": "HXMB7SMe1Wnz",
        "colab_type": "code",
        "colab": {}
      },
      "source": [
        "import numpy as np\n",
        "np.random.seed(20)\n",
        "\n",
        "np.__version__"
      ],
      "execution_count": 0,
      "outputs": []
    },
    {
      "cell_type": "markdown",
      "metadata": {
        "id": "foyjwX_7K5so",
        "colab_type": "text"
      },
      "source": [
        "### Solving systems of equations\n",
        "Let's consider the system of equations $U$:  \n",
        "$${\\displaystyle \\mathrm {U} \\colon {\\begin{cases}{\\begin{matrix}a_{11}x_{1}&+&a_{12}x_{2}&+&\\dots &+&a_{1n}x_{n}&=b_{1},\\\\a_{21}x_{1}&+&a_{22}x_{2}&+&\\dots &+&a_{2n}x_{n}&=b_{2},\\\\\\vdots &&\\vdots &&\\ddots &&\\vdots &\\vdots \\\\a_{m1}x_{1}&+&a_{m2}x_{2}&+&\\dots &+&a_{mn}x_{n}&=b_{m}.\\end{matrix}}\\end{cases}}.}$$\n",
        "\n",
        "Using matrices we can present it as follows:\n",
        "\n",
        "$${\\begin{bmatrix}a_{11}&a_{12}&\\dots &a_{1n}\\\\a_{21}&a_{22}&\\dots &a_{2n}\\\\\\vdots &\\vdots &\\ddots &\\vdots \\\\a_{m1}&a_{m2}&\\dots &a_{mn}\\end{bmatrix}}{\\begin{bmatrix}x_{1}\\\\x_{2}\\\\\\vdots \\\\x_{n}\\end{bmatrix}}={\\begin{bmatrix}b_{1}\\\\b_{2}\\\\\\vdots \\\\b_{m}\\end{bmatrix}}$$\n",
        "And in the summary:\n",
        "$$\\mathbf {AX} =\\mathbf {B}$$\n",
        "\n",
        "Where:   \n",
        "$A = {\\begin{bmatrix}a_{11}&a_{12}&\\dots &a_{1n}\\\\a_{21}&a_{22}&\\dots &a_{2n}\\\\\\vdots &\\vdots &\\ddots &\\vdots \\\\a_{m1}&a_{m2}&\\dots &a_{mn}\\end{bmatrix}}$ - coefficient matrix\n",
        "\n",
        "${\\displaystyle \\mathbf {B} =[b_{1},b_{2},\\dots ,b_{m}]} $ - vector  \n",
        "${\\mathbf  X}=[x_{1},x_{2},\\dots ,x_{n}] $ - vector  \n",
        "\n",
        "If the system matrix $ A $ is a square matrix, then the determinate of the system is equivalent to its reversibility, i.e.\n",
        "$$\\mathbf {AX} =\\mathbf {B}$$\n",
        "$${\\displaystyle \\mathbf {A} ^{-1}\\mathbf {AX} =\\mathbf {A} ^{-1}\\mathbf {B}} $$\n",
        "$$\\mathbf {X} =\\mathbf {A} ^{-1}\\mathbf {B} .$$\n",
        "\n",
        "#### Example:\n",
        "Let's consider the system of equations:\n",
        "$$\\begin{cases}2x + 4y = 10 \\\\ x - y = -1 \\end{cases}$$  \n",
        "The solution is a pair of numbers:\n",
        "$$\\begin{cases}x = 1 \\\\ y = 2 \\end{cases}$$  \n"
      ]
    },
    {
      "cell_type": "markdown",
      "metadata": {
        "id": "cyc70pMe1oCg",
        "colab_type": "text"
      },
      "source": [
        "### <a name='1'></a> Exercise 221\n",
        "Solve the following system of equations using the numpy library:\n",
        "$$\\begin{cases}5x - 3y = 21 \\\\ x - 2y = 7 \\end{cases}$$\n"
      ]
    },
    {
      "cell_type": "code",
      "metadata": {
        "id": "YD-tsrR-MEhg",
        "colab_type": "code",
        "colab": {}
      },
      "source": [
        "# enter solution here"
      ],
      "execution_count": 0,
      "outputs": []
    },
    {
      "cell_type": "markdown",
      "metadata": {
        "id": "SHwOYUVBMOEr",
        "colab_type": "text"
      },
      "source": [
        "Check the solution.\n",
        "\n",
        "__Tip:__ Use the _np.allclose()_ function."
      ]
    },
    {
      "cell_type": "code",
      "metadata": {
        "id": "O99iteZYMRGR",
        "colab_type": "code",
        "colab": {}
      },
      "source": [
        "# enter solution here"
      ],
      "execution_count": 0,
      "outputs": []
    },
    {
      "cell_type": "markdown",
      "metadata": {
        "id": "J9pY1rtr1sC0",
        "colab_type": "text"
      },
      "source": [
        "### <a name='2'></a> Exercise 222\n",
        "Solve the following system of equations using the numpy library:\n",
        "\n",
        "$$\\begin{cases}x + y + z = 1 \\\\ 2x + y + 5z = 0 \\\\ x - y = z \\end{cases}$$"
      ]
    },
    {
      "cell_type": "code",
      "metadata": {
        "id": "Kau7NefAMWbX",
        "colab_type": "code",
        "colab": {}
      },
      "source": [
        "# enter solution here"
      ],
      "execution_count": 0,
      "outputs": []
    },
    {
      "cell_type": "markdown",
      "metadata": {
        "id": "mZTLfuQmMeYt",
        "colab_type": "text"
      },
      "source": [
        "Check the solution.\n",
        "\n",
        "__Tip:__ Use the _np.allclose()_ function."
      ]
    },
    {
      "cell_type": "code",
      "metadata": {
        "id": "JbXBIw12Mfvz",
        "colab_type": "code",
        "colab": {}
      },
      "source": [
        "# enter solution here"
      ],
      "execution_count": 0,
      "outputs": []
    },
    {
      "cell_type": "markdown",
      "metadata": {
        "id": "XQLYT2m11wVG",
        "colab_type": "text"
      },
      "source": [
        "### <a name='3'></a> Exercise 223\n",
        "\n",
        "Load the popular IRIS data set into the _data_raw_ variable using the _scikit-learn_ library."
      ]
    },
    {
      "cell_type": "code",
      "metadata": {
        "id": "OSTU0TIOMkDB",
        "colab_type": "code",
        "colab": {}
      },
      "source": [
        "# enter solution here"
      ],
      "execution_count": 0,
      "outputs": []
    },
    {
      "cell_type": "markdown",
      "metadata": {
        "id": "iL1frEVxMpnn",
        "colab_type": "text"
      },
      "source": [
        "Display description of the IRIS dataset."
      ]
    },
    {
      "cell_type": "code",
      "metadata": {
        "id": "dae_N1OTMtBi",
        "colab_type": "code",
        "colab": {}
      },
      "source": [
        "# enter solution here"
      ],
      "execution_count": 0,
      "outputs": []
    },
    {
      "cell_type": "markdown",
      "metadata": {
        "id": "nNmCcgUrMvJu",
        "colab_type": "text"
      },
      "source": [
        "Display variable names in the dataset."
      ]
    },
    {
      "cell_type": "code",
      "metadata": {
        "id": "HIINK0-NMych",
        "colab_type": "code",
        "colab": {}
      },
      "source": [
        "# enter solution here"
      ],
      "execution_count": 0,
      "outputs": []
    },
    {
      "cell_type": "markdown",
      "metadata": {
        "id": "Jh8ZHFDTM0V-",
        "colab_type": "text"
      },
      "source": [
        "Display class names in the dataset."
      ]
    },
    {
      "cell_type": "code",
      "metadata": {
        "id": "EkUDPs1dM2UW",
        "colab_type": "code",
        "colab": {}
      },
      "source": [
        "# enter solution here"
      ],
      "execution_count": 0,
      "outputs": []
    },
    {
      "cell_type": "markdown",
      "metadata": {
        "id": "4xTKSUzg10MK",
        "colab_type": "text"
      },
      "source": [
        "### <a name='4'></a> Exercise 224\n",
        "Assign the data (numpy table) of the IRIS file to the _data_ variable.\n"
      ]
    },
    {
      "cell_type": "code",
      "metadata": {
        "id": "cg7IMHorNakq",
        "colab_type": "code",
        "colab": {}
      },
      "source": [
        "# enter solution here"
      ],
      "execution_count": 0,
      "outputs": []
    },
    {
      "cell_type": "markdown",
      "metadata": {
        "id": "SNX9oXiQNcam",
        "colab_type": "text"
      },
      "source": [
        "Assign the target variable values from the IRIS set to the _target_ variable."
      ]
    },
    {
      "cell_type": "code",
      "metadata": {
        "id": "LJT9dKEiNeVj",
        "colab_type": "code",
        "colab": {}
      },
      "source": [
        "# enter solution here"
      ],
      "execution_count": 0,
      "outputs": []
    },
    {
      "cell_type": "markdown",
      "metadata": {
        "id": "ePNaWYKkNgT_",
        "colab_type": "text"
      },
      "source": [
        "Display the shape of the _data_ and _target_ variables."
      ]
    },
    {
      "cell_type": "code",
      "metadata": {
        "id": "98CrDkZQNhuD",
        "colab_type": "code",
        "colab": {}
      },
      "source": [
        "# enter solution here"
      ],
      "execution_count": 0,
      "outputs": []
    },
    {
      "cell_type": "markdown",
      "metadata": {
        "id": "o3HKIKlP15Ro",
        "colab_type": "text"
      },
      "source": [
        "### <a name='5'></a> Exercise 225\n",
        "Split the data into training (_data_train_, _target_train_) and test (_data_test_, _target_test_) sets. The size of the test set is 30% of the samples."
      ]
    },
    {
      "cell_type": "code",
      "metadata": {
        "id": "2tKWnkmONpro",
        "colab_type": "code",
        "colab": {}
      },
      "source": [
        "# enter solution here"
      ],
      "execution_count": 0,
      "outputs": []
    },
    {
      "cell_type": "markdown",
      "metadata": {
        "id": "BqSYfYYSNrWH",
        "colab_type": "text"
      },
      "source": [
        "Display set size:\n",
        "* _data_train_\n",
        "* _target_train_\n",
        "* _data_test_\n",
        "* _target_test_"
      ]
    },
    {
      "cell_type": "code",
      "metadata": {
        "id": "mfN0W3y7Ns6q",
        "colab_type": "code",
        "colab": {}
      },
      "source": [
        "# enter solution here"
      ],
      "execution_count": 0,
      "outputs": []
    },
    {
      "cell_type": "markdown",
      "metadata": {
        "id": "PunXd_Ey16so",
        "colab_type": "text"
      },
      "source": [
        "### <a name='6'></a> Exercise 226\n",
        "Build a logistic regression model (set default parameter values) using the scikit-learn library and IRIS data."
      ]
    },
    {
      "cell_type": "code",
      "metadata": {
        "id": "j3wT_uGsNyO4",
        "colab_type": "code",
        "colab": {}
      },
      "source": [
        "# enter solution here"
      ],
      "execution_count": 0,
      "outputs": []
    },
    {
      "cell_type": "markdown",
      "metadata": {
        "id": "fr_dGCnfN0Ji",
        "colab_type": "text"
      },
      "source": [
        "Fit training data to the model."
      ]
    },
    {
      "cell_type": "code",
      "metadata": {
        "id": "uXmY4qAkN2RK",
        "colab_type": "code",
        "colab": {}
      },
      "source": [
        "# enter solution here"
      ],
      "execution_count": 0,
      "outputs": []
    },
    {
      "cell_type": "markdown",
      "metadata": {
        "id": "hOhqDRz618Tx",
        "colab_type": "text"
      },
      "source": [
        "### <a name='7'></a> Exercise 227\n",
        "Evaluate the model on the training set."
      ]
    },
    {
      "cell_type": "code",
      "metadata": {
        "id": "n_OIJBE5N6ak",
        "colab_type": "code",
        "colab": {}
      },
      "source": [
        "# enter solution here"
      ],
      "execution_count": 0,
      "outputs": []
    },
    {
      "cell_type": "markdown",
      "metadata": {
        "id": "MBek3XIjN8i-",
        "colab_type": "text"
      },
      "source": [
        "Evaluate the model on the test set."
      ]
    },
    {
      "cell_type": "code",
      "metadata": {
        "id": "EBfSlLnkN9yl",
        "colab_type": "code",
        "colab": {}
      },
      "source": [
        "# enter solution here"
      ],
      "execution_count": 0,
      "outputs": []
    },
    {
      "cell_type": "markdown",
      "metadata": {
        "id": "TXUd_4631-gw",
        "colab_type": "text"
      },
      "source": [
        "### <a name='8'></a> Exercise 228\n",
        "Predict the test data based on the model and assign it to the _target\\_pred_ variable."
      ]
    },
    {
      "cell_type": "code",
      "metadata": {
        "id": "0DeVtM6nOEhK",
        "colab_type": "code",
        "colab": {}
      },
      "source": [
        "# enter solution here"
      ],
      "execution_count": 0,
      "outputs": []
    },
    {
      "cell_type": "markdown",
      "metadata": {
        "id": "MR7Ngk_zOGXk",
        "colab_type": "text"
      },
      "source": [
        "Display the _target\\_pred_ variable."
      ]
    },
    {
      "cell_type": "code",
      "metadata": {
        "id": "k1CGTbTqOH4k",
        "colab_type": "code",
        "colab": {}
      },
      "source": [
        "# enter solution here"
      ],
      "execution_count": 0,
      "outputs": []
    },
    {
      "cell_type": "markdown",
      "metadata": {
        "id": "CigT4VLGOJaT",
        "colab_type": "text"
      },
      "source": [
        "Display the _target\\_test_ variable."
      ]
    },
    {
      "cell_type": "code",
      "metadata": {
        "id": "FypjZyw1OLDy",
        "colab_type": "code",
        "colab": {}
      },
      "source": [
        "# enter solution here"
      ],
      "execution_count": 0,
      "outputs": []
    },
    {
      "cell_type": "markdown",
      "metadata": {
        "id": "tgI6xEn-2AQo",
        "colab_type": "text"
      },
      "source": [
        "### <a name='9'></a> Exercise 229\n",
        "Calculate the confusion matrix."
      ]
    },
    {
      "cell_type": "code",
      "metadata": {
        "id": "SJunu4KvOQM2",
        "colab_type": "code",
        "colab": {}
      },
      "source": [
        "# enter solution here"
      ],
      "execution_count": 0,
      "outputs": []
    },
    {
      "cell_type": "markdown",
      "metadata": {
        "id": "wxhpf-uq2B1I",
        "colab_type": "text"
      },
      "source": [
        "### <a name='10'></a> Exercise 230\n",
        "Display the classification report."
      ]
    },
    {
      "cell_type": "code",
      "metadata": {
        "id": "YFc0KW6URsuc",
        "colab_type": "code",
        "colab": {}
      },
      "source": [
        "# enter solution here"
      ],
      "execution_count": 0,
      "outputs": []
    }
  ]
}