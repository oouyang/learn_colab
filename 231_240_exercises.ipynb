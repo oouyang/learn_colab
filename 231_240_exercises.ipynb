{
  "nbformat": 4,
  "nbformat_minor": 0,
  "metadata": {
    "colab": {
      "name": "231-240_exercises.ipynb",
      "provenance": [],
      "collapsed_sections": [],
      "include_colab_link": true
    },
    "kernelspec": {
      "name": "python3",
      "display_name": "Python 3"
    }
  },
  "cells": [
    {
      "cell_type": "markdown",
      "metadata": {
        "id": "view-in-github",
        "colab_type": "text"
      },
      "source": [
        "<a href=\"https://colab.research.google.com/github/oouyang/learn_colab/blob/master/231_240_exercises.ipynb\" target=\"_parent\"><img src=\"https://colab.research.google.com/assets/colab-badge.svg\" alt=\"Open In Colab\"/></a>"
      ]
    },
    {
      "cell_type": "markdown",
      "metadata": {
        "id": "WLEgCW5F1hho",
        "colab_type": "text"
      },
      "source": [
        "## Data Science Bootcamp\n",
        "\n",
        "### Table of contents:\n",
        "* [Import biblioteki](#0)\n",
        "* [Exercise 231](#1)\n",
        "* [Exercise 232](#2)\n",
        "* [Exercise 233](#3)\n",
        "* [Exercise 234](#4)\n",
        "* [Exercise 235](#5)\n",
        "* [Exercise 236](#6)\n",
        "* [Exercise 237](#7)\n",
        "* [Exercise 238](#8)\n",
        "* [Exercise 239](#9)\n",
        "* [Exercise 240](#10)"
      ]
    },
    {
      "cell_type": "markdown",
      "metadata": {
        "id": "zeLOLmTj1kBM",
        "colab_type": "text"
      },
      "source": [
        "### <a name='0'></a> Import of libraries"
      ]
    },
    {
      "cell_type": "code",
      "metadata": {
        "id": "HXMB7SMe1Wnz",
        "colab_type": "code",
        "colab": {}
      },
      "source": [
        "import numpy as np\n",
        "import pandas as pd\n",
        "\n",
        "np.__version__"
      ],
      "execution_count": 0,
      "outputs": []
    },
    {
      "cell_type": "markdown",
      "metadata": {
        "id": "cyc70pMe1oCg",
        "colab_type": "text"
      },
      "source": [
        "### <a name='1'></a> Exercise 231\n",
        "Import the _tensorflow_ version 2.x library."
      ]
    },
    {
      "cell_type": "code",
      "metadata": {
        "id": "T3dLQOtLQXc7",
        "colab_type": "code",
        "colab": {}
      },
      "source": [
        "# enter solution here"
      ],
      "execution_count": 0,
      "outputs": []
    },
    {
      "cell_type": "markdown",
      "metadata": {
        "id": "pERxhN5PQboT",
        "colab_type": "text"
      },
      "source": [
        "Load Fashion MNIST data using the _tensorflow_ library. Training set (_X\\_train_, _y\\_train_) and test set (_X\\_test_, _y\\_test_) respectively."
      ]
    },
    {
      "cell_type": "code",
      "metadata": {
        "id": "RnFgHjHXQhqx",
        "colab_type": "code",
        "colab": {}
      },
      "source": [
        "# enter solution here"
      ],
      "execution_count": 0,
      "outputs": []
    },
    {
      "cell_type": "markdown",
      "metadata": {
        "id": "i4DtE_7hQj-K",
        "colab_type": "text"
      },
      "source": [
        "Check the size of training and test sets."
      ]
    },
    {
      "cell_type": "code",
      "metadata": {
        "id": "oA8XcYMlQk95",
        "colab_type": "code",
        "colab": {}
      },
      "source": [
        "# enter solution here"
      ],
      "execution_count": 0,
      "outputs": []
    },
    {
      "cell_type": "markdown",
      "metadata": {
        "id": "J9pY1rtr1sC0",
        "colab_type": "text"
      },
      "source": [
        "### <a name='2'></a> Exercise 232\n",
        "Using the _matplotlib_ library, display an image from the training set with the index 40.\n"
      ]
    },
    {
      "cell_type": "code",
      "metadata": {
        "id": "6pM05jkZQpeL",
        "colab_type": "code",
        "colab": {}
      },
      "source": [
        "# enter solution here"
      ],
      "execution_count": 0,
      "outputs": []
    },
    {
      "cell_type": "markdown",
      "metadata": {
        "id": "qX2XPzcBQrdn",
        "colab_type": "text"
      },
      "source": [
        "Display class number for a sample from a training set with an index of 40."
      ]
    },
    {
      "cell_type": "code",
      "metadata": {
        "id": "qPvyq-Y-Qset",
        "colab_type": "code",
        "colab": {}
      },
      "source": [
        "# enter solution here"
      ],
      "execution_count": 0,
      "outputs": []
    },
    {
      "cell_type": "markdown",
      "metadata": {
        "id": "XQLYT2m11wVG",
        "colab_type": "text"
      },
      "source": [
        "### <a name='3'></a> Exercise 233\n",
        "\n",
        "Standardize the data. Divide the values of the _X\\_train_ and _X\\_test_ tables by the value of 255.0."
      ]
    },
    {
      "cell_type": "code",
      "metadata": {
        "id": "EpXKRTzXQ1FL",
        "colab_type": "code",
        "colab": {}
      },
      "source": [
        "# enter solution here"
      ],
      "execution_count": 0,
      "outputs": []
    },
    {
      "cell_type": "markdown",
      "metadata": {
        "id": "4xTKSUzg10MK",
        "colab_type": "text"
      },
      "source": [
        "### <a name='4'></a> Exercise 234\n",
        "Import the _Sequential_ class from the _tensorflow_ library using the _keras_ package."
      ]
    },
    {
      "cell_type": "code",
      "metadata": {
        "id": "liCpMz5xQ5SF",
        "colab_type": "code",
        "colab": {}
      },
      "source": [
        "# enter solution here"
      ],
      "execution_count": 0,
      "outputs": []
    },
    {
      "cell_type": "markdown",
      "metadata": {
        "id": "QNK4AoWFQ7MF",
        "colab_type": "text"
      },
      "source": [
        "Import the _Flatten_ and _Dense_ layers from the _tensorflow_ library using the _keras_ package."
      ]
    },
    {
      "cell_type": "code",
      "metadata": {
        "id": "iBuiMJggQ8a_",
        "colab_type": "code",
        "colab": {}
      },
      "source": [
        "# enter solution here"
      ],
      "execution_count": 0,
      "outputs": []
    },
    {
      "cell_type": "markdown",
      "metadata": {
        "id": "o3HKIKlP15Ro",
        "colab_type": "text"
      },
      "source": [
        "### <a name='5'></a> Exercise 235\n",
        "Build the _Sequential_ class model."
      ]
    },
    {
      "cell_type": "code",
      "metadata": {
        "id": "nEt769rtRAlj",
        "colab_type": "code",
        "colab": {}
      },
      "source": [
        "# enter solution here"
      ],
      "execution_count": 0,
      "outputs": []
    },
    {
      "cell_type": "markdown",
      "metadata": {
        "id": "uJ8HBohiRDHF",
        "colab_type": "text"
      },
      "source": [
        "Add the first layer of type _Flatten_ with the appropriately selected parameter _input_shape_."
      ]
    },
    {
      "cell_type": "code",
      "metadata": {
        "id": "-748cYIURIe-",
        "colab_type": "code",
        "colab": {}
      },
      "source": [
        "# enter solution here"
      ],
      "execution_count": 0,
      "outputs": []
    },
    {
      "cell_type": "markdown",
      "metadata": {
        "id": "F6Yw86ZXRKqT",
        "colab_type": "text"
      },
      "source": [
        "Add another layer of _Dense_ type with 128 neurons and _relu_ activation function."
      ]
    },
    {
      "cell_type": "code",
      "metadata": {
        "id": "vhucX_r7RMaA",
        "colab_type": "code",
        "colab": {}
      },
      "source": [
        "# enter solution here"
      ],
      "execution_count": 0,
      "outputs": []
    },
    {
      "cell_type": "markdown",
      "metadata": {
        "id": "ap7NF_IUROKS",
        "colab_type": "text"
      },
      "source": [
        "Add the last layer of type _Dense_ with 10 neurons and the activation function _softmax_."
      ]
    },
    {
      "cell_type": "code",
      "metadata": {
        "id": "aCMMPYgTRPpM",
        "colab_type": "code",
        "colab": {}
      },
      "source": [
        "# enter solution here"
      ],
      "execution_count": 0,
      "outputs": []
    },
    {
      "cell_type": "markdown",
      "metadata": {
        "id": "X2PM0SqeRTg4",
        "colab_type": "text"
      },
      "source": [
        "Display model summary."
      ]
    },
    {
      "cell_type": "code",
      "metadata": {
        "id": "rummYYG9RVow",
        "colab_type": "code",
        "colab": {}
      },
      "source": [
        "# enter solution here"
      ],
      "execution_count": 0,
      "outputs": []
    },
    {
      "cell_type": "markdown",
      "metadata": {
        "id": "PunXd_Ey16so",
        "colab_type": "text"
      },
      "source": [
        "### <a name='6'></a> Exercise 236\n",
        "Compile the model. Use the _rmsprop_ optimizer, the loss function _sparse_categorical_crossentropy_, and the _accuracy_ metric."
      ]
    },
    {
      "cell_type": "code",
      "metadata": {
        "id": "daSnIuGSRc2p",
        "colab_type": "code",
        "colab": {}
      },
      "source": [
        "# enter solution here"
      ],
      "execution_count": 0,
      "outputs": []
    },
    {
      "cell_type": "markdown",
      "metadata": {
        "id": "hOhqDRz618Tx",
        "colab_type": "text"
      },
      "source": [
        "### <a name='7'></a> Exercise 237\n",
        "Fit the model to your training data by setting 10 epochs and `validation_split=0.2`."
      ]
    },
    {
      "cell_type": "code",
      "metadata": {
        "id": "g7ttVfXTRo05",
        "colab_type": "code",
        "colab": {}
      },
      "source": [
        "# enter solution here"
      ],
      "execution_count": 0,
      "outputs": []
    },
    {
      "cell_type": "markdown",
      "metadata": {
        "id": "TXUd_4631-gw",
        "colab_type": "text"
      },
      "source": [
        "### <a name='8'></a> Exercise 238\n",
        "Predict test data based on the model."
      ]
    },
    {
      "cell_type": "code",
      "metadata": {
        "id": "62XlfmrrRuMR",
        "colab_type": "code",
        "colab": {}
      },
      "source": [
        "# enter solution here"
      ],
      "execution_count": 0,
      "outputs": []
    },
    {
      "cell_type": "markdown",
      "metadata": {
        "id": "r9JNZ5YwRyai",
        "colab_type": "text"
      },
      "source": [
        "Build a confusion matrix."
      ]
    },
    {
      "cell_type": "code",
      "metadata": {
        "id": "E7BNP0p-R0fp",
        "colab_type": "code",
        "colab": {}
      },
      "source": [
        "# enter solution here"
      ],
      "execution_count": 0,
      "outputs": []
    },
    {
      "cell_type": "markdown",
      "metadata": {
        "id": "tgI6xEn-2AQo",
        "colab_type": "text"
      },
      "source": [
        "### <a name='9'></a> Exercise 239\n",
        "Build the _DataFrame_ pandas object containing model predictions. Name the column _prediction_ and assign it to the variable _results_."
      ]
    },
    {
      "cell_type": "code",
      "metadata": {
        "id": "dui4Uk8LR6-L",
        "colab_type": "code",
        "colab": {}
      },
      "source": [
        "# enter solution here"
      ],
      "execution_count": 0,
      "outputs": []
    },
    {
      "cell_type": "markdown",
      "metadata": {
        "id": "UmwurzYrR9J5",
        "colab_type": "text"
      },
      "source": [
        "Assign a new column with the values from the _y\\_test_ variable and name it _y\\_test_."
      ]
    },
    {
      "cell_type": "code",
      "metadata": {
        "id": "uYprLS7hSAeJ",
        "colab_type": "code",
        "colab": {}
      },
      "source": [
        "# enter solution here"
      ],
      "execution_count": 0,
      "outputs": []
    },
    {
      "cell_type": "markdown",
      "metadata": {
        "id": "8T8LblXSSCgW",
        "colab_type": "text"
      },
      "source": [
        "Assign a new column called _is_misclassified_ that will return 1 if the samples are misclassified, otherwise 0."
      ]
    },
    {
      "cell_type": "code",
      "metadata": {
        "id": "xmfqVi2jSFKy",
        "colab_type": "code",
        "colab": {}
      },
      "source": [
        "# enter solution here"
      ],
      "execution_count": 0,
      "outputs": []
    },
    {
      "cell_type": "markdown",
      "metadata": {
        "id": "wxhpf-uq2B1I",
        "colab_type": "text"
      },
      "source": [
        "### <a name='10'></a> Exercise 240\n",
        "Save the _results_ to the _results.csv_ file."
      ]
    },
    {
      "cell_type": "code",
      "metadata": {
        "id": "YFc0KW6URsuc",
        "colab_type": "code",
        "colab": {}
      },
      "source": [
        "# enter solution here"
      ],
      "execution_count": 0,
      "outputs": []
    },
    {
      "cell_type": "markdown",
      "metadata": {
        "id": "s3sokJz_aC3e",
        "colab_type": "text"
      },
      "source": [
        "Check the solution."
      ]
    },
    {
      "cell_type": "code",
      "metadata": {
        "id": "pGzWqZzuSKre",
        "colab_type": "code",
        "colab": {}
      },
      "source": [
        "!head results.csv"
      ],
      "execution_count": 0,
      "outputs": []
    }
  ]
}