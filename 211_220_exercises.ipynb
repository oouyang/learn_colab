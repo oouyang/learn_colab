{
  "nbformat": 4,
  "nbformat_minor": 0,
  "metadata": {
    "colab": {
      "name": "211-220_exercises.ipynb",
      "provenance": [],
      "collapsed_sections": [],
      "include_colab_link": true
    },
    "kernelspec": {
      "name": "python3",
      "display_name": "Python 3"
    }
  },
  "cells": [
    {
      "cell_type": "markdown",
      "metadata": {
        "id": "view-in-github",
        "colab_type": "text"
      },
      "source": [
        "<a href=\"https://colab.research.google.com/github/oouyang/learn_colab/blob/master/211_220_exercises.ipynb\" target=\"_parent\"><img src=\"https://colab.research.google.com/assets/colab-badge.svg\" alt=\"Open In Colab\"/></a>"
      ]
    },
    {
      "cell_type": "markdown",
      "metadata": {
        "id": "WLEgCW5F1hho",
        "colab_type": "text"
      },
      "source": [
        "## Data Science Bootcamp\n",
        "\n",
        "### Table of contents:\n",
        "* [Import biblioteki](#0)\n",
        "* [Exercise 211](#1)\n",
        "* [Exercise 212](#2)\n",
        "* [Exercise 213](#3)\n",
        "* [Exercise 214](#4)\n",
        "* [Exercise 215](#5)\n",
        "* [Exercise 216](#6)\n",
        "* [Exercise 217](#7)\n",
        "* [Exercise 218](#8)\n",
        "* [Exercise 219](#9)\n",
        "* [Exercise 220](#10)"
      ]
    },
    {
      "cell_type": "markdown",
      "metadata": {
        "id": "zeLOLmTj1kBM",
        "colab_type": "text"
      },
      "source": [
        "### <a name='0'></a> Import of libraries"
      ]
    },
    {
      "cell_type": "code",
      "metadata": {
        "id": "HXMB7SMe1Wnz",
        "colab_type": "code",
        "colab": {}
      },
      "source": [
        "import numpy as np\n",
        "import pandas as pd\n",
        "\n",
        "np.__version__"
      ],
      "execution_count": 0,
      "outputs": []
    },
    {
      "cell_type": "markdown",
      "metadata": {
        "id": "cyc70pMe1oCg",
        "colab_type": "text"
      },
      "source": [
        "### <a name='1'></a> Exercise 211\n",
        "The following _DataFrame_ object is given:\n",
        "\n",
        "```\n",
        "df = pd.DataFrame(data={'height': [175., 178.5, 185., 191., 184.5, 183., 168.]})\n",
        "```\n",
        "Discretize the _height_ variable into 3 intervals of equal width. Assign the result to the new column _height_cut_.\n",
        "\n",
        "\n"
      ]
    },
    {
      "cell_type": "code",
      "metadata": {
        "id": "3YB2bvoAI6ra",
        "colab_type": "code",
        "colab": {}
      },
      "source": [
        "# enter solution here"
      ],
      "execution_count": 0,
      "outputs": []
    },
    {
      "cell_type": "markdown",
      "metadata": {
        "id": "J9pY1rtr1sC0",
        "colab_type": "text"
      },
      "source": [
        "### <a name='2'></a> Exercise 212\n",
        "Discretize the _height_ variable into 3 intervals of the given form:\n",
        "* (160, 175]\n",
        "* (175, 180]\n",
        "* (180, 195]\n",
        "\n",
        "Assign the result to the new column _height_cut_2_."
      ]
    },
    {
      "cell_type": "code",
      "metadata": {
        "id": "IbEEEjUWI_ay",
        "colab_type": "code",
        "colab": {}
      },
      "source": [
        "# enter solution here"
      ],
      "execution_count": 0,
      "outputs": []
    },
    {
      "cell_type": "markdown",
      "metadata": {
        "id": "XQLYT2m11wVG",
        "colab_type": "text"
      },
      "source": [
        "### <a name='3'></a> Exercise 213\n",
        "Discretize the _height_ variable into 3 intervals of the given form:\n",
        "* (160, 175]\n",
        "* (175, 180]\n",
        "* (180, 195]\n",
        "\n",
        "and assign them the following labels:\n",
        "\n",
        "* small\n",
        "* medium\n",
        "* high\n",
        "\n",
        "Assign the result to the new column _height_cut_3_."
      ]
    },
    {
      "cell_type": "code",
      "metadata": {
        "id": "c-qlpht9JECu",
        "colab_type": "code",
        "colab": {}
      },
      "source": [
        "# enter solution here"
      ],
      "execution_count": 0,
      "outputs": []
    },
    {
      "cell_type": "markdown",
      "metadata": {
        "id": "4xTKSUzg10MK",
        "colab_type": "text"
      },
      "source": [
        "### <a name='4'></a> Exercise 214\n",
        "Remove the _height_cut_ and _height_cut_2_ columns from the _df_ object."
      ]
    },
    {
      "cell_type": "code",
      "metadata": {
        "id": "oXxIpvwrJI2L",
        "colab_type": "code",
        "colab": {}
      },
      "source": [
        "# enter solution here"
      ],
      "execution_count": 0,
      "outputs": []
    },
    {
      "cell_type": "markdown",
      "metadata": {
        "id": "YPSFNRElJLs7",
        "colab_type": "text"
      },
      "source": [
        "Rename the _height_cut_3_ column to _height_level_."
      ]
    },
    {
      "cell_type": "code",
      "metadata": {
        "id": "hWuxDLfiJM4Q",
        "colab_type": "code",
        "colab": {}
      },
      "source": [
        "# enter solution here"
      ],
      "execution_count": 0,
      "outputs": []
    },
    {
      "cell_type": "markdown",
      "metadata": {
        "id": "o3HKIKlP15Ro",
        "colab_type": "text"
      },
      "source": [
        "### <a name='5'></a> Exercise 215\n",
        "Get 0-1 encoding on _df_ with the _pd.get_dummies()_ function."
      ]
    },
    {
      "cell_type": "code",
      "metadata": {
        "id": "VGFi9uSoJZvs",
        "colab_type": "code",
        "colab": {}
      },
      "source": [
        "# enter solution here"
      ],
      "execution_count": 0,
      "outputs": []
    },
    {
      "cell_type": "markdown",
      "metadata": {
        "id": "PunXd_Ey16so",
        "colab_type": "text"
      },
      "source": [
        "### <a name='6'></a> Exercise 216\n",
        "The following _df_ object is given:\n",
        "\n",
        "```\n",
        "df = pd.DataFrame(data={'lang': [['PL', 'ENG'], ['GER', 'ENG', 'PL', 'FRA'], ['RUS']]})\n",
        "```\n",
        "Build a new column called _length_ that will take the length of the _lang_ column list.\n"
      ]
    },
    {
      "cell_type": "code",
      "metadata": {
        "id": "bGcJPBIsJiic",
        "colab_type": "code",
        "colab": {}
      },
      "source": [
        "# enter solution here"
      ],
      "execution_count": 0,
      "outputs": []
    },
    {
      "cell_type": "markdown",
      "metadata": {
        "id": "hOhqDRz618Tx",
        "colab_type": "text"
      },
      "source": [
        "### <a name='7'></a> Exercise 217\n",
        "Build a new column called _PL_flag_, which will be set to 1 when the language 'PL' is in the list in the _lang_ column, on the contrary 0."
      ]
    },
    {
      "cell_type": "code",
      "metadata": {
        "id": "-yJjoeD3JqCy",
        "colab_type": "code",
        "colab": {}
      },
      "source": [
        "# enter solution here"
      ],
      "execution_count": 0,
      "outputs": []
    },
    {
      "cell_type": "markdown",
      "metadata": {
        "id": "TXUd_4631-gw",
        "colab_type": "text"
      },
      "source": [
        "### <a name='8'></a> Exercise 218\n",
        "The following _df_ object is given:\n",
        "\n",
        "```\n",
        "df = pd.DataFrame(data={'website': ['wp.pl', 'onet.pl', 'google.com']})\n",
        "```\n",
        "Split the _website_ column by dot into two columns named _portal_ and _ending_.\n"
      ]
    },
    {
      "cell_type": "code",
      "metadata": {
        "id": "e5-ZX3uTJ8yN",
        "colab_type": "code",
        "colab": {}
      },
      "source": [
        "# enter solution here"
      ],
      "execution_count": 0,
      "outputs": []
    },
    {
      "cell_type": "markdown",
      "metadata": {
        "id": "tgI6xEn-2AQo",
        "colab_type": "text"
      },
      "source": [
        "### <a name='9'></a> Exercise 219\n",
        "Extract all rows of the _df_ object for which the _portal_ column contains the letter 'o'."
      ]
    },
    {
      "cell_type": "code",
      "metadata": {
        "id": "qJSIRkGMKGLQ",
        "colab_type": "code",
        "colab": {}
      },
      "source": [
        "# enter solution here"
      ],
      "execution_count": 0,
      "outputs": []
    },
    {
      "cell_type": "markdown",
      "metadata": {
        "id": "wxhpf-uq2B1I",
        "colab_type": "text"
      },
      "source": [
        "### <a name='10'></a> Exercise 220\n",
        "Replace all _com_ extensions from the _ending_ column with _org_."
      ]
    },
    {
      "cell_type": "code",
      "metadata": {
        "id": "YFc0KW6URsuc",
        "colab_type": "code",
        "colab": {}
      },
      "source": [
        "# enter solution here"
      ],
      "execution_count": 0,
      "outputs": []
    }
  ]
}