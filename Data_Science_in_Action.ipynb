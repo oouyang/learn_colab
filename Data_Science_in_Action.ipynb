{
  "nbformat": 4,
  "nbformat_minor": 0,
  "metadata": {
    "colab": {
      "name": "Data Science in Action.ipynb",
      "provenance": [],
      "collapsed_sections": [],
      "authorship_tag": "ABX9TyN+xPwSfxtMmMiymnuDhYgO",
      "include_colab_link": true
    },
    "kernelspec": {
      "name": "python3",
      "display_name": "Python 3"
    }
  },
  "cells": [
    {
      "cell_type": "markdown",
      "metadata": {
        "id": "view-in-github",
        "colab_type": "text"
      },
      "source": [
        "<a href=\"https://colab.research.google.com/github/oouyang/learn_colab/blob/master/Data_Science_in_Action.ipynb\" target=\"_parent\"><img src=\"https://colab.research.google.com/assets/colab-badge.svg\" alt=\"Open In Colab\"/></a>"
      ]
    },
    {
      "cell_type": "markdown",
      "metadata": {
        "id": "x4aGtCfYmvfD",
        "colab_type": "text"
      },
      "source": [
        ""
      ]
    },
    {
      "cell_type": "markdown",
      "metadata": {
        "id": "bAaR7PFLnP6M",
        "colab_type": "text"
      },
      "source": [
        "## Chapter 1\n",
        "\n",
        "> The sexiest job in the 21st centry is data scientist.\n",
        " \n",
        " Harvard Business Review"
      ]
    },
    {
      "cell_type": "markdown",
      "metadata": {
        "id": "wum28NASm25Z",
        "colab_type": "text"
      },
      "source": [
        "## Part 1 如何獲資料\n",
        "\n"
      ]
    },
    {
      "cell_type": "markdown",
      "metadata": {
        "id": "GNgEVKIBm-UK",
        "colab_type": "text"
      },
      "source": [
        "## Chapter 2 載入常見檔案格式\n"
      ]
    },
    {
      "cell_type": "markdown",
      "metadata": {
        "id": "N7Xpwpx1nsK2",
        "colab_type": "text"
      },
      "source": [
        "### CSV\n",
        "\n",
        "pandas read_csv()"
      ]
    },
    {
      "cell_type": "code",
      "metadata": {
        "id": "jL02msvtmg7L",
        "colab_type": "code",
        "colab": {
          "base_uri": "https://localhost:8080/",
          "height": 514
        },
        "outputId": "efff046c-caee-4e3f-cde0-c9e8b5daa4fc"
      },
      "source": [
        "import pandas as pd\n",
        "\n",
        "csv_url = 'https://storage.googleapis.com/ds_data_import/chicago_bulls_1995_1996.csv'\n",
        "pd.read_csv(csv_url)"
      ],
      "execution_count": 4,
      "outputs": [
        {
          "output_type": "execute_result",
          "data": {
            "text/html": [
              "<div>\n",
              "<style scoped>\n",
              "    .dataframe tbody tr th:only-of-type {\n",
              "        vertical-align: middle;\n",
              "    }\n",
              "\n",
              "    .dataframe tbody tr th {\n",
              "        vertical-align: top;\n",
              "    }\n",
              "\n",
              "    .dataframe thead th {\n",
              "        text-align: right;\n",
              "    }\n",
              "</style>\n",
              "<table border=\"1\" class=\"dataframe\">\n",
              "  <thead>\n",
              "    <tr style=\"text-align: right;\">\n",
              "      <th></th>\n",
              "      <th>No.</th>\n",
              "      <th>Player</th>\n",
              "      <th>Pos</th>\n",
              "      <th>Ht</th>\n",
              "      <th>Wt</th>\n",
              "      <th>Birth Date</th>\n",
              "      <th>College</th>\n",
              "    </tr>\n",
              "  </thead>\n",
              "  <tbody>\n",
              "    <tr>\n",
              "      <th>0</th>\n",
              "      <td>0</td>\n",
              "      <td>Randy Brown</td>\n",
              "      <td>PG</td>\n",
              "      <td>6-2</td>\n",
              "      <td>190</td>\n",
              "      <td>May 22, 1968</td>\n",
              "      <td>University of Houston, New Mexico State Univer...</td>\n",
              "    </tr>\n",
              "    <tr>\n",
              "      <th>1</th>\n",
              "      <td>30</td>\n",
              "      <td>Jud Buechler</td>\n",
              "      <td>SF</td>\n",
              "      <td>6-6</td>\n",
              "      <td>220</td>\n",
              "      <td>June 19, 1968</td>\n",
              "      <td>University of Arizona</td>\n",
              "    </tr>\n",
              "    <tr>\n",
              "      <th>2</th>\n",
              "      <td>35</td>\n",
              "      <td>Jason Caffey</td>\n",
              "      <td>PF</td>\n",
              "      <td>6-8</td>\n",
              "      <td>255</td>\n",
              "      <td>June 12, 1973</td>\n",
              "      <td>University of Alabama</td>\n",
              "    </tr>\n",
              "    <tr>\n",
              "      <th>3</th>\n",
              "      <td>53</td>\n",
              "      <td>James Edwards</td>\n",
              "      <td>C</td>\n",
              "      <td>7-0</td>\n",
              "      <td>225</td>\n",
              "      <td>November 22, 1955</td>\n",
              "      <td>University of Washington</td>\n",
              "    </tr>\n",
              "    <tr>\n",
              "      <th>4</th>\n",
              "      <td>54</td>\n",
              "      <td>Jack Haley</td>\n",
              "      <td>C</td>\n",
              "      <td>6-10</td>\n",
              "      <td>240</td>\n",
              "      <td>January 27, 1964</td>\n",
              "      <td>University of California, Los Angeles</td>\n",
              "    </tr>\n",
              "    <tr>\n",
              "      <th>5</th>\n",
              "      <td>9</td>\n",
              "      <td>Ron Harper</td>\n",
              "      <td>PG</td>\n",
              "      <td>6-6</td>\n",
              "      <td>185</td>\n",
              "      <td>January 20, 1964</td>\n",
              "      <td>Miami University</td>\n",
              "    </tr>\n",
              "    <tr>\n",
              "      <th>6</th>\n",
              "      <td>23</td>\n",
              "      <td>Michael Jordan</td>\n",
              "      <td>SG</td>\n",
              "      <td>6-6</td>\n",
              "      <td>195</td>\n",
              "      <td>February 17, 1963</td>\n",
              "      <td>University of North Carolina</td>\n",
              "    </tr>\n",
              "    <tr>\n",
              "      <th>7</th>\n",
              "      <td>25</td>\n",
              "      <td>Steve Kerr</td>\n",
              "      <td>PG</td>\n",
              "      <td>6-3</td>\n",
              "      <td>175</td>\n",
              "      <td>September 27, 1965</td>\n",
              "      <td>University of Arizona</td>\n",
              "    </tr>\n",
              "    <tr>\n",
              "      <th>8</th>\n",
              "      <td>7</td>\n",
              "      <td>Toni Kukoc</td>\n",
              "      <td>SF</td>\n",
              "      <td>6-10</td>\n",
              "      <td>192</td>\n",
              "      <td>September 18, 1968</td>\n",
              "      <td>NaN</td>\n",
              "    </tr>\n",
              "    <tr>\n",
              "      <th>9</th>\n",
              "      <td>13</td>\n",
              "      <td>Luc Longley</td>\n",
              "      <td>C</td>\n",
              "      <td>7-2</td>\n",
              "      <td>265</td>\n",
              "      <td>January 19, 1969</td>\n",
              "      <td>University of New Mexico</td>\n",
              "    </tr>\n",
              "    <tr>\n",
              "      <th>10</th>\n",
              "      <td>33</td>\n",
              "      <td>Scottie Pippen</td>\n",
              "      <td>SF</td>\n",
              "      <td>6-8</td>\n",
              "      <td>210</td>\n",
              "      <td>September 25, 1965</td>\n",
              "      <td>University of Central Arkansas</td>\n",
              "    </tr>\n",
              "    <tr>\n",
              "      <th>11</th>\n",
              "      <td>91</td>\n",
              "      <td>Dennis Rodman</td>\n",
              "      <td>PF</td>\n",
              "      <td>6-7</td>\n",
              "      <td>210</td>\n",
              "      <td>May 13, 1961</td>\n",
              "      <td>Southeastern Oklahoma State University</td>\n",
              "    </tr>\n",
              "    <tr>\n",
              "      <th>12</th>\n",
              "      <td>22</td>\n",
              "      <td>John Salley</td>\n",
              "      <td>PF</td>\n",
              "      <td>6-11</td>\n",
              "      <td>230</td>\n",
              "      <td>May 16, 1964</td>\n",
              "      <td>Georgia Institute of Technology</td>\n",
              "    </tr>\n",
              "    <tr>\n",
              "      <th>13</th>\n",
              "      <td>8</td>\n",
              "      <td>Dickey Simpkins</td>\n",
              "      <td>PF</td>\n",
              "      <td>6-9</td>\n",
              "      <td>248</td>\n",
              "      <td>April 6, 1972</td>\n",
              "      <td>Providence College</td>\n",
              "    </tr>\n",
              "    <tr>\n",
              "      <th>14</th>\n",
              "      <td>34</td>\n",
              "      <td>Bill Wennington</td>\n",
              "      <td>C</td>\n",
              "      <td>7-0</td>\n",
              "      <td>245</td>\n",
              "      <td>April 26, 1963</td>\n",
              "      <td>St. John's University</td>\n",
              "    </tr>\n",
              "  </tbody>\n",
              "</table>\n",
              "</div>"
            ],
            "text/plain": [
              "    No.  ...                                            College\n",
              "0     0  ...  University of Houston, New Mexico State Univer...\n",
              "1    30  ...                              University of Arizona\n",
              "2    35  ...                              University of Alabama\n",
              "3    53  ...                           University of Washington\n",
              "4    54  ...              University of California, Los Angeles\n",
              "5     9  ...                                   Miami University\n",
              "6    23  ...                       University of North Carolina\n",
              "7    25  ...                              University of Arizona\n",
              "8     7  ...                                                NaN\n",
              "9    13  ...                           University of New Mexico\n",
              "10   33  ...                     University of Central Arkansas\n",
              "11   91  ...             Southeastern Oklahoma State University\n",
              "12   22  ...                    Georgia Institute of Technology\n",
              "13    8  ...                                 Providence College\n",
              "14   34  ...                              St. John's University\n",
              "\n",
              "[15 rows x 7 columns]"
            ]
          },
          "metadata": {
            "tags": []
          },
          "execution_count": 4
        }
      ]
    },
    {
      "cell_type": "markdown",
      "metadata": {
        "id": "aOG_tMEDoM6d",
        "colab_type": "text"
      },
      "source": [
        "* sep : 預設是逗號 (comma) 分隔\n",
        "* header : 沒有時以 header=None 指派\n",
        "* name: 指派變數名稱 list\n",
        "* skiprows: 略過列數\n",
        "* skipfooter: 略過下方列數\n",
        "* nrows: 讀入列數\n",
        "* na_values: 要視為空值的字元"
      ]
    },
    {
      "cell_type": "code",
      "metadata": {
        "id": "Qz-FVi9un4mP",
        "colab_type": "code",
        "colab": {
          "base_uri": "https://localhost:8080/",
          "height": 514
        },
        "outputId": "fca953c2-ea56-4c76-d360-8e8c93303032"
      },
      "source": [
        "pd.read_csv( csv_url, header=None, skiprows = 1,\n",
        "             names = ['number','player','pos','ht',\n",
        "                      'wt','birth_date','college'])"
      ],
      "execution_count": 5,
      "outputs": [
        {
          "output_type": "execute_result",
          "data": {
            "text/html": [
              "<div>\n",
              "<style scoped>\n",
              "    .dataframe tbody tr th:only-of-type {\n",
              "        vertical-align: middle;\n",
              "    }\n",
              "\n",
              "    .dataframe tbody tr th {\n",
              "        vertical-align: top;\n",
              "    }\n",
              "\n",
              "    .dataframe thead th {\n",
              "        text-align: right;\n",
              "    }\n",
              "</style>\n",
              "<table border=\"1\" class=\"dataframe\">\n",
              "  <thead>\n",
              "    <tr style=\"text-align: right;\">\n",
              "      <th></th>\n",
              "      <th>number</th>\n",
              "      <th>player</th>\n",
              "      <th>pos</th>\n",
              "      <th>ht</th>\n",
              "      <th>wt</th>\n",
              "      <th>birth_date</th>\n",
              "      <th>college</th>\n",
              "    </tr>\n",
              "  </thead>\n",
              "  <tbody>\n",
              "    <tr>\n",
              "      <th>0</th>\n",
              "      <td>0</td>\n",
              "      <td>Randy Brown</td>\n",
              "      <td>PG</td>\n",
              "      <td>6-2</td>\n",
              "      <td>190</td>\n",
              "      <td>May 22, 1968</td>\n",
              "      <td>University of Houston, New Mexico State Univer...</td>\n",
              "    </tr>\n",
              "    <tr>\n",
              "      <th>1</th>\n",
              "      <td>30</td>\n",
              "      <td>Jud Buechler</td>\n",
              "      <td>SF</td>\n",
              "      <td>6-6</td>\n",
              "      <td>220</td>\n",
              "      <td>June 19, 1968</td>\n",
              "      <td>University of Arizona</td>\n",
              "    </tr>\n",
              "    <tr>\n",
              "      <th>2</th>\n",
              "      <td>35</td>\n",
              "      <td>Jason Caffey</td>\n",
              "      <td>PF</td>\n",
              "      <td>6-8</td>\n",
              "      <td>255</td>\n",
              "      <td>June 12, 1973</td>\n",
              "      <td>University of Alabama</td>\n",
              "    </tr>\n",
              "    <tr>\n",
              "      <th>3</th>\n",
              "      <td>53</td>\n",
              "      <td>James Edwards</td>\n",
              "      <td>C</td>\n",
              "      <td>7-0</td>\n",
              "      <td>225</td>\n",
              "      <td>November 22, 1955</td>\n",
              "      <td>University of Washington</td>\n",
              "    </tr>\n",
              "    <tr>\n",
              "      <th>4</th>\n",
              "      <td>54</td>\n",
              "      <td>Jack Haley</td>\n",
              "      <td>C</td>\n",
              "      <td>6-10</td>\n",
              "      <td>240</td>\n",
              "      <td>January 27, 1964</td>\n",
              "      <td>University of California, Los Angeles</td>\n",
              "    </tr>\n",
              "    <tr>\n",
              "      <th>5</th>\n",
              "      <td>9</td>\n",
              "      <td>Ron Harper</td>\n",
              "      <td>PG</td>\n",
              "      <td>6-6</td>\n",
              "      <td>185</td>\n",
              "      <td>January 20, 1964</td>\n",
              "      <td>Miami University</td>\n",
              "    </tr>\n",
              "    <tr>\n",
              "      <th>6</th>\n",
              "      <td>23</td>\n",
              "      <td>Michael Jordan</td>\n",
              "      <td>SG</td>\n",
              "      <td>6-6</td>\n",
              "      <td>195</td>\n",
              "      <td>February 17, 1963</td>\n",
              "      <td>University of North Carolina</td>\n",
              "    </tr>\n",
              "    <tr>\n",
              "      <th>7</th>\n",
              "      <td>25</td>\n",
              "      <td>Steve Kerr</td>\n",
              "      <td>PG</td>\n",
              "      <td>6-3</td>\n",
              "      <td>175</td>\n",
              "      <td>September 27, 1965</td>\n",
              "      <td>University of Arizona</td>\n",
              "    </tr>\n",
              "    <tr>\n",
              "      <th>8</th>\n",
              "      <td>7</td>\n",
              "      <td>Toni Kukoc</td>\n",
              "      <td>SF</td>\n",
              "      <td>6-10</td>\n",
              "      <td>192</td>\n",
              "      <td>September 18, 1968</td>\n",
              "      <td>NaN</td>\n",
              "    </tr>\n",
              "    <tr>\n",
              "      <th>9</th>\n",
              "      <td>13</td>\n",
              "      <td>Luc Longley</td>\n",
              "      <td>C</td>\n",
              "      <td>7-2</td>\n",
              "      <td>265</td>\n",
              "      <td>January 19, 1969</td>\n",
              "      <td>University of New Mexico</td>\n",
              "    </tr>\n",
              "    <tr>\n",
              "      <th>10</th>\n",
              "      <td>33</td>\n",
              "      <td>Scottie Pippen</td>\n",
              "      <td>SF</td>\n",
              "      <td>6-8</td>\n",
              "      <td>210</td>\n",
              "      <td>September 25, 1965</td>\n",
              "      <td>University of Central Arkansas</td>\n",
              "    </tr>\n",
              "    <tr>\n",
              "      <th>11</th>\n",
              "      <td>91</td>\n",
              "      <td>Dennis Rodman</td>\n",
              "      <td>PF</td>\n",
              "      <td>6-7</td>\n",
              "      <td>210</td>\n",
              "      <td>May 13, 1961</td>\n",
              "      <td>Southeastern Oklahoma State University</td>\n",
              "    </tr>\n",
              "    <tr>\n",
              "      <th>12</th>\n",
              "      <td>22</td>\n",
              "      <td>John Salley</td>\n",
              "      <td>PF</td>\n",
              "      <td>6-11</td>\n",
              "      <td>230</td>\n",
              "      <td>May 16, 1964</td>\n",
              "      <td>Georgia Institute of Technology</td>\n",
              "    </tr>\n",
              "    <tr>\n",
              "      <th>13</th>\n",
              "      <td>8</td>\n",
              "      <td>Dickey Simpkins</td>\n",
              "      <td>PF</td>\n",
              "      <td>6-9</td>\n",
              "      <td>248</td>\n",
              "      <td>April 6, 1972</td>\n",
              "      <td>Providence College</td>\n",
              "    </tr>\n",
              "    <tr>\n",
              "      <th>14</th>\n",
              "      <td>34</td>\n",
              "      <td>Bill Wennington</td>\n",
              "      <td>C</td>\n",
              "      <td>7-0</td>\n",
              "      <td>245</td>\n",
              "      <td>April 26, 1963</td>\n",
              "      <td>St. John's University</td>\n",
              "    </tr>\n",
              "  </tbody>\n",
              "</table>\n",
              "</div>"
            ],
            "text/plain": [
              "    number  ...                                            college\n",
              "0        0  ...  University of Houston, New Mexico State Univer...\n",
              "1       30  ...                              University of Arizona\n",
              "2       35  ...                              University of Alabama\n",
              "3       53  ...                           University of Washington\n",
              "4       54  ...              University of California, Los Angeles\n",
              "5        9  ...                                   Miami University\n",
              "6       23  ...                       University of North Carolina\n",
              "7       25  ...                              University of Arizona\n",
              "8        7  ...                                                NaN\n",
              "9       13  ...                           University of New Mexico\n",
              "10      33  ...                     University of Central Arkansas\n",
              "11      91  ...             Southeastern Oklahoma State University\n",
              "12      22  ...                    Georgia Institute of Technology\n",
              "13       8  ...                                 Providence College\n",
              "14      34  ...                              St. John's University\n",
              "\n",
              "[15 rows x 7 columns]"
            ]
          },
          "metadata": {
            "tags": []
          },
          "execution_count": 5
        }
      ]
    },
    {
      "cell_type": "markdown",
      "metadata": {
        "id": "F7PouYj-pW-L",
        "colab_type": "text"
      },
      "source": [
        "### txt\n",
        "\n",
        "pandas read_table()"
      ]
    },
    {
      "cell_type": "code",
      "metadata": {
        "id": "xlj_DlN_pRSr",
        "colab_type": "code",
        "colab": {
          "base_uri": "https://localhost:8080/",
          "height": 514
        },
        "outputId": "8dc732b8-4c2d-4ae5-e057-dcc5eb74a880"
      },
      "source": [
        "import pandas as pd\n",
        "txt_url = 'https://storage.googleapis.com/ds_data_import/chicago_bulls_1995_1996.txt'\n",
        "pd.read_table(txt_url, sep=\";\")"
      ],
      "execution_count": 6,
      "outputs": [
        {
          "output_type": "execute_result",
          "data": {
            "text/html": [
              "<div>\n",
              "<style scoped>\n",
              "    .dataframe tbody tr th:only-of-type {\n",
              "        vertical-align: middle;\n",
              "    }\n",
              "\n",
              "    .dataframe tbody tr th {\n",
              "        vertical-align: top;\n",
              "    }\n",
              "\n",
              "    .dataframe thead th {\n",
              "        text-align: right;\n",
              "    }\n",
              "</style>\n",
              "<table border=\"1\" class=\"dataframe\">\n",
              "  <thead>\n",
              "    <tr style=\"text-align: right;\">\n",
              "      <th></th>\n",
              "      <th>No.</th>\n",
              "      <th>Player</th>\n",
              "      <th>Pos</th>\n",
              "      <th>Ht</th>\n",
              "      <th>Wt</th>\n",
              "      <th>Birth Date</th>\n",
              "      <th>College</th>\n",
              "    </tr>\n",
              "  </thead>\n",
              "  <tbody>\n",
              "    <tr>\n",
              "      <th>0</th>\n",
              "      <td>0</td>\n",
              "      <td>Randy Brown</td>\n",
              "      <td>PG</td>\n",
              "      <td>6-2</td>\n",
              "      <td>190</td>\n",
              "      <td>May 22; 1968</td>\n",
              "      <td>University of Houston; New Mexico State Univer...</td>\n",
              "    </tr>\n",
              "    <tr>\n",
              "      <th>1</th>\n",
              "      <td>30</td>\n",
              "      <td>Jud Buechler</td>\n",
              "      <td>SF</td>\n",
              "      <td>6-6</td>\n",
              "      <td>220</td>\n",
              "      <td>June 19; 1968</td>\n",
              "      <td>University of Arizona</td>\n",
              "    </tr>\n",
              "    <tr>\n",
              "      <th>2</th>\n",
              "      <td>35</td>\n",
              "      <td>Jason Caffey</td>\n",
              "      <td>PF</td>\n",
              "      <td>6-8</td>\n",
              "      <td>255</td>\n",
              "      <td>June 12; 1973</td>\n",
              "      <td>University of Alabama</td>\n",
              "    </tr>\n",
              "    <tr>\n",
              "      <th>3</th>\n",
              "      <td>53</td>\n",
              "      <td>James Edwards</td>\n",
              "      <td>C</td>\n",
              "      <td>7-0</td>\n",
              "      <td>225</td>\n",
              "      <td>November 22; 1955</td>\n",
              "      <td>University of Washington</td>\n",
              "    </tr>\n",
              "    <tr>\n",
              "      <th>4</th>\n",
              "      <td>54</td>\n",
              "      <td>Jack Haley</td>\n",
              "      <td>C</td>\n",
              "      <td>6-10</td>\n",
              "      <td>240</td>\n",
              "      <td>January 27; 1964</td>\n",
              "      <td>University of California; Los Angeles</td>\n",
              "    </tr>\n",
              "    <tr>\n",
              "      <th>5</th>\n",
              "      <td>9</td>\n",
              "      <td>Ron Harper</td>\n",
              "      <td>PG</td>\n",
              "      <td>6-6</td>\n",
              "      <td>185</td>\n",
              "      <td>January 20; 1964</td>\n",
              "      <td>Miami University</td>\n",
              "    </tr>\n",
              "    <tr>\n",
              "      <th>6</th>\n",
              "      <td>23</td>\n",
              "      <td>Michael Jordan</td>\n",
              "      <td>SG</td>\n",
              "      <td>6-6</td>\n",
              "      <td>195</td>\n",
              "      <td>February 17; 1963</td>\n",
              "      <td>University of North Carolina</td>\n",
              "    </tr>\n",
              "    <tr>\n",
              "      <th>7</th>\n",
              "      <td>25</td>\n",
              "      <td>Steve Kerr</td>\n",
              "      <td>PG</td>\n",
              "      <td>6-3</td>\n",
              "      <td>175</td>\n",
              "      <td>September 27; 1965</td>\n",
              "      <td>University of Arizona</td>\n",
              "    </tr>\n",
              "    <tr>\n",
              "      <th>8</th>\n",
              "      <td>7</td>\n",
              "      <td>Toni Kukoc</td>\n",
              "      <td>SF</td>\n",
              "      <td>6-10</td>\n",
              "      <td>192</td>\n",
              "      <td>September 18; 1968</td>\n",
              "      <td>NaN</td>\n",
              "    </tr>\n",
              "    <tr>\n",
              "      <th>9</th>\n",
              "      <td>13</td>\n",
              "      <td>Luc Longley</td>\n",
              "      <td>C</td>\n",
              "      <td>7-2</td>\n",
              "      <td>265</td>\n",
              "      <td>January 19; 1969</td>\n",
              "      <td>University of New Mexico</td>\n",
              "    </tr>\n",
              "    <tr>\n",
              "      <th>10</th>\n",
              "      <td>33</td>\n",
              "      <td>Scottie Pippen</td>\n",
              "      <td>SF</td>\n",
              "      <td>6-8</td>\n",
              "      <td>210</td>\n",
              "      <td>September 25; 1965</td>\n",
              "      <td>University of Central Arkansas</td>\n",
              "    </tr>\n",
              "    <tr>\n",
              "      <th>11</th>\n",
              "      <td>91</td>\n",
              "      <td>Dennis Rodman</td>\n",
              "      <td>PF</td>\n",
              "      <td>6-7</td>\n",
              "      <td>210</td>\n",
              "      <td>May 13; 1961</td>\n",
              "      <td>Southeastern Oklahoma State University</td>\n",
              "    </tr>\n",
              "    <tr>\n",
              "      <th>12</th>\n",
              "      <td>22</td>\n",
              "      <td>John Salley</td>\n",
              "      <td>PF</td>\n",
              "      <td>6-11</td>\n",
              "      <td>230</td>\n",
              "      <td>May 16; 1964</td>\n",
              "      <td>Georgia Institute of Technology</td>\n",
              "    </tr>\n",
              "    <tr>\n",
              "      <th>13</th>\n",
              "      <td>8</td>\n",
              "      <td>Dickey Simpkins</td>\n",
              "      <td>PF</td>\n",
              "      <td>6-9</td>\n",
              "      <td>248</td>\n",
              "      <td>April 6; 1972</td>\n",
              "      <td>Providence College</td>\n",
              "    </tr>\n",
              "    <tr>\n",
              "      <th>14</th>\n",
              "      <td>34</td>\n",
              "      <td>Bill Wennington</td>\n",
              "      <td>C</td>\n",
              "      <td>7-0</td>\n",
              "      <td>245</td>\n",
              "      <td>April 26; 1963</td>\n",
              "      <td>St. John's University</td>\n",
              "    </tr>\n",
              "  </tbody>\n",
              "</table>\n",
              "</div>"
            ],
            "text/plain": [
              "    No.  ...                                            College\n",
              "0     0  ...  University of Houston; New Mexico State Univer...\n",
              "1    30  ...                              University of Arizona\n",
              "2    35  ...                              University of Alabama\n",
              "3    53  ...                           University of Washington\n",
              "4    54  ...              University of California; Los Angeles\n",
              "5     9  ...                                   Miami University\n",
              "6    23  ...                       University of North Carolina\n",
              "7    25  ...                              University of Arizona\n",
              "8     7  ...                                                NaN\n",
              "9    13  ...                           University of New Mexico\n",
              "10   33  ...                     University of Central Arkansas\n",
              "11   91  ...             Southeastern Oklahoma State University\n",
              "12   22  ...                    Georgia Institute of Technology\n",
              "13    8  ...                                 Providence College\n",
              "14   34  ...                              St. John's University\n",
              "\n",
              "[15 rows x 7 columns]"
            ]
          },
          "metadata": {
            "tags": []
          },
          "execution_count": 6
        }
      ]
    },
    {
      "cell_type": "markdown",
      "metadata": {
        "id": "ID_oEJXdp13v",
        "colab_type": "text"
      },
      "source": [
        "### excel\n",
        "\n",
        "pandas read_excel()"
      ]
    },
    {
      "cell_type": "code",
      "metadata": {
        "id": "tt5wHWExpx-4",
        "colab_type": "code",
        "colab": {
          "base_uri": "https://localhost:8080/",
          "height": 514
        },
        "outputId": "1f6d4948-99e1-4612-e889-31ef50dfe49f"
      },
      "source": [
        "import pandas as pd\n",
        "\n",
        "xlsx_url = 'https://storage.googleapis.com/ds_data_import/fav_nba_teams.xlsx'\n",
        "pd.read_excel(xlsx_url)"
      ],
      "execution_count": 7,
      "outputs": [
        {
          "output_type": "execute_result",
          "data": {
            "text/html": [
              "<div>\n",
              "<style scoped>\n",
              "    .dataframe tbody tr th:only-of-type {\n",
              "        vertical-align: middle;\n",
              "    }\n",
              "\n",
              "    .dataframe tbody tr th {\n",
              "        vertical-align: top;\n",
              "    }\n",
              "\n",
              "    .dataframe thead th {\n",
              "        text-align: right;\n",
              "    }\n",
              "</style>\n",
              "<table border=\"1\" class=\"dataframe\">\n",
              "  <thead>\n",
              "    <tr style=\"text-align: right;\">\n",
              "      <th></th>\n",
              "      <th>No.</th>\n",
              "      <th>Player</th>\n",
              "      <th>Pos</th>\n",
              "      <th>Ht</th>\n",
              "      <th>Wt</th>\n",
              "      <th>Birth Date</th>\n",
              "      <th>College</th>\n",
              "    </tr>\n",
              "  </thead>\n",
              "  <tbody>\n",
              "    <tr>\n",
              "      <th>0</th>\n",
              "      <td>0</td>\n",
              "      <td>Randy Brown</td>\n",
              "      <td>PG</td>\n",
              "      <td>6-2</td>\n",
              "      <td>190</td>\n",
              "      <td>May 22, 1968</td>\n",
              "      <td>University of Houston, New Mexico State Univer...</td>\n",
              "    </tr>\n",
              "    <tr>\n",
              "      <th>1</th>\n",
              "      <td>30</td>\n",
              "      <td>Jud Buechler</td>\n",
              "      <td>SF</td>\n",
              "      <td>6-6</td>\n",
              "      <td>220</td>\n",
              "      <td>June 19, 1968</td>\n",
              "      <td>University of Arizona</td>\n",
              "    </tr>\n",
              "    <tr>\n",
              "      <th>2</th>\n",
              "      <td>35</td>\n",
              "      <td>Jason Caffey</td>\n",
              "      <td>PF</td>\n",
              "      <td>6-8</td>\n",
              "      <td>255</td>\n",
              "      <td>June 12, 1973</td>\n",
              "      <td>University of Alabama</td>\n",
              "    </tr>\n",
              "    <tr>\n",
              "      <th>3</th>\n",
              "      <td>53</td>\n",
              "      <td>James Edwards</td>\n",
              "      <td>C</td>\n",
              "      <td>7-0</td>\n",
              "      <td>225</td>\n",
              "      <td>November 22, 1955</td>\n",
              "      <td>University of Washington</td>\n",
              "    </tr>\n",
              "    <tr>\n",
              "      <th>4</th>\n",
              "      <td>54</td>\n",
              "      <td>Jack Haley</td>\n",
              "      <td>C</td>\n",
              "      <td>6-10</td>\n",
              "      <td>240</td>\n",
              "      <td>January 27, 1964</td>\n",
              "      <td>University of California, Los Angeles</td>\n",
              "    </tr>\n",
              "    <tr>\n",
              "      <th>5</th>\n",
              "      <td>9</td>\n",
              "      <td>Ron Harper</td>\n",
              "      <td>PG</td>\n",
              "      <td>6-6</td>\n",
              "      <td>185</td>\n",
              "      <td>January 20, 1964</td>\n",
              "      <td>Miami University</td>\n",
              "    </tr>\n",
              "    <tr>\n",
              "      <th>6</th>\n",
              "      <td>23</td>\n",
              "      <td>Michael Jordan</td>\n",
              "      <td>SG</td>\n",
              "      <td>6-6</td>\n",
              "      <td>195</td>\n",
              "      <td>February 17, 1963</td>\n",
              "      <td>University of North Carolina</td>\n",
              "    </tr>\n",
              "    <tr>\n",
              "      <th>7</th>\n",
              "      <td>25</td>\n",
              "      <td>Steve Kerr</td>\n",
              "      <td>PG</td>\n",
              "      <td>6-3</td>\n",
              "      <td>175</td>\n",
              "      <td>September 27, 1965</td>\n",
              "      <td>University of Arizona</td>\n",
              "    </tr>\n",
              "    <tr>\n",
              "      <th>8</th>\n",
              "      <td>7</td>\n",
              "      <td>Toni Kukoc</td>\n",
              "      <td>SF</td>\n",
              "      <td>6-10</td>\n",
              "      <td>192</td>\n",
              "      <td>September 18, 1968</td>\n",
              "      <td>NaN</td>\n",
              "    </tr>\n",
              "    <tr>\n",
              "      <th>9</th>\n",
              "      <td>13</td>\n",
              "      <td>Luc Longley</td>\n",
              "      <td>C</td>\n",
              "      <td>7-2</td>\n",
              "      <td>265</td>\n",
              "      <td>January 19, 1969</td>\n",
              "      <td>University of New Mexico</td>\n",
              "    </tr>\n",
              "    <tr>\n",
              "      <th>10</th>\n",
              "      <td>33</td>\n",
              "      <td>Scottie Pippen</td>\n",
              "      <td>SF</td>\n",
              "      <td>6-8</td>\n",
              "      <td>210</td>\n",
              "      <td>September 25, 1965</td>\n",
              "      <td>University of Central Arkansas</td>\n",
              "    </tr>\n",
              "    <tr>\n",
              "      <th>11</th>\n",
              "      <td>91</td>\n",
              "      <td>Dennis Rodman</td>\n",
              "      <td>PF</td>\n",
              "      <td>6-7</td>\n",
              "      <td>210</td>\n",
              "      <td>May 13, 1961</td>\n",
              "      <td>Southeastern Oklahoma State University</td>\n",
              "    </tr>\n",
              "    <tr>\n",
              "      <th>12</th>\n",
              "      <td>22</td>\n",
              "      <td>John Salley</td>\n",
              "      <td>PF</td>\n",
              "      <td>6-11</td>\n",
              "      <td>230</td>\n",
              "      <td>May 16, 1964</td>\n",
              "      <td>Georgia Institute of Technology</td>\n",
              "    </tr>\n",
              "    <tr>\n",
              "      <th>13</th>\n",
              "      <td>8</td>\n",
              "      <td>Dickey Simpkins</td>\n",
              "      <td>PF</td>\n",
              "      <td>6-9</td>\n",
              "      <td>248</td>\n",
              "      <td>April 6, 1972</td>\n",
              "      <td>Providence College</td>\n",
              "    </tr>\n",
              "    <tr>\n",
              "      <th>14</th>\n",
              "      <td>34</td>\n",
              "      <td>Bill Wennington</td>\n",
              "      <td>C</td>\n",
              "      <td>7-0</td>\n",
              "      <td>245</td>\n",
              "      <td>April 26, 1963</td>\n",
              "      <td>St. John's University</td>\n",
              "    </tr>\n",
              "  </tbody>\n",
              "</table>\n",
              "</div>"
            ],
            "text/plain": [
              "    No.  ...                                            College\n",
              "0     0  ...  University of Houston, New Mexico State Univer...\n",
              "1    30  ...                              University of Arizona\n",
              "2    35  ...                              University of Alabama\n",
              "3    53  ...                           University of Washington\n",
              "4    54  ...              University of California, Los Angeles\n",
              "5     9  ...                                   Miami University\n",
              "6    23  ...                       University of North Carolina\n",
              "7    25  ...                              University of Arizona\n",
              "8     7  ...                                                NaN\n",
              "9    13  ...                           University of New Mexico\n",
              "10   33  ...                     University of Central Arkansas\n",
              "11   91  ...             Southeastern Oklahoma State University\n",
              "12   22  ...                    Georgia Institute of Technology\n",
              "13    8  ...                                 Providence College\n",
              "14   34  ...                              St. John's University\n",
              "\n",
              "[15 rows x 7 columns]"
            ]
          },
          "metadata": {
            "tags": []
          },
          "execution_count": 7
        }
      ]
    },
    {
      "cell_type": "markdown",
      "metadata": {
        "id": "cm9YcCAIqI3p",
        "colab_type": "text"
      },
      "source": [
        "* header: 預設為 0，第一列為變數名, header=None時代表沒有變數名稱\n",
        "* names: 指定變數名字的 list\n",
        "* usecols: 要載入的變數\n",
        "* skiprows: 忽略的列數\n",
        "* skipfooter: 忽略的下方列數"
      ]
    },
    {
      "cell_type": "code",
      "metadata": {
        "id": "K4UfsachqFVA",
        "colab_type": "code",
        "colab": {
          "base_uri": "https://localhost:8080/",
          "height": 359
        },
        "outputId": "f4d387fd-001b-4671-cabb-61f9d3b94e70"
      },
      "source": [
        "pd.read_excel(xlsx_url,\n",
        "    sheet_name='boston_celtics_2007_2008', skiprows=6, header=None,\n",
        "    names=['number','player','pos'],usecols=[0,1,2])"
      ],
      "execution_count": 8,
      "outputs": [
        {
          "output_type": "execute_result",
          "data": {
            "text/html": [
              "<div>\n",
              "<style scoped>\n",
              "    .dataframe tbody tr th:only-of-type {\n",
              "        vertical-align: middle;\n",
              "    }\n",
              "\n",
              "    .dataframe tbody tr th {\n",
              "        vertical-align: top;\n",
              "    }\n",
              "\n",
              "    .dataframe thead th {\n",
              "        text-align: right;\n",
              "    }\n",
              "</style>\n",
              "<table border=\"1\" class=\"dataframe\">\n",
              "  <thead>\n",
              "    <tr style=\"text-align: right;\">\n",
              "      <th></th>\n",
              "      <th>number</th>\n",
              "      <th>player</th>\n",
              "      <th>pos</th>\n",
              "    </tr>\n",
              "  </thead>\n",
              "  <tbody>\n",
              "    <tr>\n",
              "      <th>0</th>\n",
              "      <td>5</td>\n",
              "      <td>Kevin Garnett</td>\n",
              "      <td>PF</td>\n",
              "    </tr>\n",
              "    <tr>\n",
              "      <th>1</th>\n",
              "      <td>50</td>\n",
              "      <td>Eddie House</td>\n",
              "      <td>PG</td>\n",
              "    </tr>\n",
              "    <tr>\n",
              "      <th>2</th>\n",
              "      <td>43</td>\n",
              "      <td>Kendrick Perkins</td>\n",
              "      <td>C</td>\n",
              "    </tr>\n",
              "    <tr>\n",
              "      <th>3</th>\n",
              "      <td>34</td>\n",
              "      <td>Paul Pierce</td>\n",
              "      <td>SF</td>\n",
              "    </tr>\n",
              "    <tr>\n",
              "      <th>4</th>\n",
              "      <td>66</td>\n",
              "      <td>Scot Pollard</td>\n",
              "      <td>C</td>\n",
              "    </tr>\n",
              "    <tr>\n",
              "      <th>5</th>\n",
              "      <td>41</td>\n",
              "      <td>James Posey</td>\n",
              "      <td>PF</td>\n",
              "    </tr>\n",
              "    <tr>\n",
              "      <th>6</th>\n",
              "      <td>0</td>\n",
              "      <td>Leon Powe</td>\n",
              "      <td>C</td>\n",
              "    </tr>\n",
              "    <tr>\n",
              "      <th>7</th>\n",
              "      <td>13</td>\n",
              "      <td>Gabe Pruitt</td>\n",
              "      <td>PG</td>\n",
              "    </tr>\n",
              "    <tr>\n",
              "      <th>8</th>\n",
              "      <td>9</td>\n",
              "      <td>Rajon Rondo</td>\n",
              "      <td>PG</td>\n",
              "    </tr>\n",
              "    <tr>\n",
              "      <th>9</th>\n",
              "      <td>44</td>\n",
              "      <td>Brian Scalabrine</td>\n",
              "      <td>PF</td>\n",
              "    </tr>\n",
              "  </tbody>\n",
              "</table>\n",
              "</div>"
            ],
            "text/plain": [
              "   number            player pos\n",
              "0       5     Kevin Garnett  PF\n",
              "1      50       Eddie House  PG\n",
              "2      43  Kendrick Perkins   C\n",
              "3      34       Paul Pierce  SF\n",
              "4      66      Scot Pollard   C\n",
              "5      41       James Posey  PF\n",
              "6       0         Leon Powe   C\n",
              "7      13       Gabe Pruitt  PG\n",
              "8       9       Rajon Rondo  PG\n",
              "9      44  Brian Scalabrine  PF"
            ]
          },
          "metadata": {
            "tags": []
          },
          "execution_count": 8
        }
      ]
    },
    {
      "cell_type": "markdown",
      "metadata": {
        "id": "YEoZXIAnrIKf",
        "colab_type": "text"
      },
      "source": [
        "### json\n",
        "\n",
        "requests get()"
      ]
    },
    {
      "cell_type": "code",
      "metadata": {
        "id": "PYzok6SMrEEV",
        "colab_type": "code",
        "colab": {}
      },
      "source": [
        "from requests import get\n",
        "\n",
        "json_url = 'https://storage.googleapis.com/ds_data_import/chicago_bulls_1995_1996.json'\n",
        "chicago_bulls_dict = get(json_url).json()\n"
      ],
      "execution_count": 0,
      "outputs": []
    },
    {
      "cell_type": "code",
      "metadata": {
        "id": "rAX7HMZmrgP4",
        "colab_type": "code",
        "colab": {
          "base_uri": "https://localhost:8080/",
          "height": 374
        },
        "outputId": "311edebb-565a-4bb1-e723-65df06a835e5"
      },
      "source": [
        "import json\n",
        "\n",
        "print(json.dumps(chicago_bulls_dict, indent=2))"
      ],
      "execution_count": 10,
      "outputs": [
        {
          "output_type": "stream",
          "text": [
            "{\n",
            "  \"team_name\": \"Chicago Bulls\",\n",
            "  \"records\": {\n",
            "    \"wins\": 72,\n",
            "    \"losses\": 10\n",
            "  },\n",
            "  \"coach\": \"Phil Jackson\",\n",
            "  \"assistant_coach\": [\n",
            "    \"Jim Cleamons\",\n",
            "    \"John Paxson\",\n",
            "    \"Jimmy Rodgers\",\n",
            "    \"Tex Winter\"\n",
            "  ],\n",
            "  \"starting_lineups\": {\n",
            "    \"PG\": \"Ron Harper\",\n",
            "    \"SG\": \"Michael Jordan\",\n",
            "    \"SF\": \"Scottie Pippen\",\n",
            "    \"PF\": \"Dennis Rodman\",\n",
            "    \"C\": \"Luc Longley\"\n",
            "  }\n",
            "}\n"
          ],
          "name": "stdout"
        }
      ]
    },
    {
      "cell_type": "code",
      "metadata": {
        "id": "LZhgoOGQro7i",
        "colab_type": "code",
        "colab": {
          "base_uri": "https://localhost:8080/",
          "height": 51
        },
        "outputId": "928f1a7c-36f8-4719-d793-37b9d177ce1d"
      },
      "source": [
        "winning_percentage = chicago_bulls_dict['records']['wins'] / (\n",
        "    chicago_bulls_dict['records']['wins'] +\n",
        "    chicago_bulls_dict['records']['losses']\n",
        ")\n",
        "fav_player = chicago_bulls_dict['starting_lineups']['SG']\n",
        "\n",
        "print(\"勝率為 {:.2f}\".format(winning_percentage))\n",
        "print(\"最喜歡的球員是 {}\".format(fav_player))"
      ],
      "execution_count": 12,
      "outputs": [
        {
          "output_type": "stream",
          "text": [
            "勝率為 0.88\n",
            "最喜歡的球員是 Michael Jordan\n"
          ],
          "name": "stdout"
        }
      ]
    },
    {
      "cell_type": "markdown",
      "metadata": {
        "id": "wVxYhYiOsb6G",
        "colab_type": "text"
      },
      "source": [
        "## Chapter 資料庫\n",
        "\n",
        "> The world's most valuable resource is no longeroil, but data\n",
        "\n",
        "The Economist\n"
      ]
    },
    {
      "cell_type": "markdown",
      "metadata": {
        "id": "4fgBT3SAs0ZC",
        "colab_type": "text"
      },
      "source": [
        "### MySQL\n",
        "\n",
        "> pip install --upgrade sqlalchemy pymysql\n",
        "\n",
        "* host: \n",
        "* port:\n",
        "* dbname:\n",
        "* user:\n",
        "* password:"
      ]
    },
    {
      "cell_type": "code",
      "metadata": {
        "id": "9-wdpmyBsVmn",
        "colab_type": "code",
        "colab": {}
      },
      "source": [
        "import pandas as pd\n",
        "from sqlalchemy import create_engine\n",
        "\n",
        "csv_url = 'https://storage.googleapis.com/ds_data_import/chicago_bulls_1995_1996.csv'\n",
        "chicago_bulls = pd.read_csv(csv_url)\n",
        "\n",
        "host = \"YOURHOST\"\n",
        "port = 3306\n",
        "dbname = \"YOURDBNAME\"\n",
        "user = \"YOURUSERNAME\"\n",
        "password = \"YOURPASSWORD\"\n",
        "\n",
        "engine = create_engine('mysql+pymsql://{user}:{password}@{host}:{port}/{dbname}'.format(\n",
        "    user=user, password=passowrd, host=host, port=port, dbname=dbname))\n",
        "\n",
        "chicago_bulls.to_sql('chicago_bulls', engine, index=False, if_exists='replace')"
      ],
      "execution_count": 0,
      "outputs": []
    },
    {
      "cell_type": "code",
      "metadata": {
        "id": "81Km82-5uMd2",
        "colab_type": "code",
        "colab": {}
      },
      "source": [
        "import pandas as pd\n",
        "from sqlalchemy import create_engine\n",
        "\n",
        "host = \"YOURHOST\"\n",
        "port = 3306\n",
        "dbname = \"YOURDBNAME\"\n",
        "user = \"YOURUSERNAME\"\n",
        "password = \"YOURPASSWORD\"\n",
        "\n",
        "engine = create_engine('mysql+pymsql://{user}:{password}@{host}:{port}/{dbname}'.format(\n",
        "    user=user, password=passowrd, host=host, port=port, dbname=dbname))\n",
        "\n",
        "chicago_bulls = pd.read_sql_table('chicago_bulls', engine)"
      ],
      "execution_count": 0,
      "outputs": []
    },
    {
      "cell_type": "code",
      "metadata": {
        "id": "87TgDfn3uf1Z",
        "colab_type": "code",
        "colab": {}
      },
      "source": [
        "import pandas as pd\n",
        "from sqlalchemy import create_engine\n",
        "\n",
        "host = \"YOURHOST\"\n",
        "port = 3306\n",
        "dbname = \"YOURDBNAME\"\n",
        "user = \"YOURUSERNAME\"\n",
        "password = \"YOURPASSWORD\"\n",
        "\n",
        "engine = create_engine('mysql+pymsql://{user}:{password}@{host}:{port}/{dbname}'.format(\n",
        "    user=user, password=passowrd, host=host, port=port, dbname=dbname))\n",
        "\n",
        "sql_statement = \"\"\"\n",
        "SELECT *\n",
        "FROM chicago_bulls\n",
        "WHERE Player IN('Michael Jordan', 'Scottie Pippen', 'Dennis Rodman');\n",
        "\"\"\"\n",
        "chicago_bulls = pd.read_sql_query(sql_statement, engine)"
      ],
      "execution_count": 0,
      "outputs": []
    },
    {
      "cell_type": "markdown",
      "metadata": {
        "id": "mKeX2JtmvFAl",
        "colab_type": "text"
      },
      "source": [
        "### BigQuery\n",
        "\n",
        "> pip install pandas-gbq"
      ]
    },
    {
      "cell_type": "code",
      "metadata": {
        "id": "RgxW9-k-vBb2",
        "colab_type": "code",
        "colab": {}
      },
      "source": [
        "from google.cloud import bigquery\n",
        "import pandas as pd\n",
        "from pandas_gbq import to_gbq\n",
        "\n",
        "csv_url = 'https://storage.googleapis.com/ds_data_import/chicago_bulls_1995_1996.csv'\n",
        "chicago_bulls = pd.read_csv(csv_url, header=None, skiprows=1, \n",
        "    names=['number','player','pos','ht','wt','birth_date','college'])"
      ],
      "execution_count": 0,
      "outputs": []
    },
    {
      "cell_type": "code",
      "metadata": {
        "id": "TehlGC0mwCfZ",
        "colab_type": "code",
        "colab": {}
      },
      "source": [
        "to_gbq(chicago_bulls, destination_table='fav_nba_teams.chicago_bulls',\n",
        "       project_id='YOURPROJECTID', if_exists='replace',\n",
        "       private_key='YOURSERCICEACCOUNT')"
      ],
      "execution_count": 0,
      "outputs": []
    },
    {
      "cell_type": "code",
      "metadata": {
        "id": "fQnQzJTlwWJc",
        "colab_type": "code",
        "colab": {}
      },
      "source": [
        "from pandas_gbq import read_gbq\n",
        "\n",
        "project_id = 'YOURPROJECTID'\n",
        "private_key = 'YOURSERVICEACCOUNT'\n",
        "sql_statement = 'SELECT * FROM fav_nba_teams.chicago_bulls;'\n",
        "chicago_bulls = read_gbq(sql_statement, project_id=project_id,\n",
        "                         private_key=private_key)"
      ],
      "execution_count": 0,
      "outputs": []
    },
    {
      "cell_type": "markdown",
      "metadata": {
        "id": "ZVfQq86aw_-t",
        "colab_type": "text"
      },
      "source": [
        "### Firebase\n",
        "\n",
        "> pip install firebase_admin"
      ]
    },
    {
      "cell_type": "code",
      "metadata": {
        "id": "jv2TMEEdw9to",
        "colab_type": "code",
        "colab": {}
      },
      "source": [
        "import firebase_admin\n",
        "from firebase_admin import credentials"
      ],
      "execution_count": 0,
      "outputs": []
    },
    {
      "cell_type": "code",
      "metadata": {
        "id": "cQ-MBmbOxPV0",
        "colab_type": "code",
        "colab": {}
      },
      "source": [
        "cred = credentials.Certificate('PATHTOYOURSERVICEACCOUNT')\n",
        "firebase_admin.initialize_app(crep, {\n",
        "    'databaseURL' : 'YOURDATABASEURL'\n",
        "})\n"
      ],
      "execution_count": 0,
      "outputs": []
    },
    {
      "cell_type": "code",
      "metadata": {
        "id": "7ztlugm6xg-5",
        "colab_type": "code",
        "colab": {}
      },
      "source": [
        "from firebase_admin import db\n",
        "from requests import get"
      ],
      "execution_count": 0,
      "outputs": []
    },
    {
      "cell_type": "code",
      "metadata": {
        "id": "xKS8dEFKxmLC",
        "colab_type": "code",
        "colab": {}
      },
      "source": [
        "json_url = 'https://storage.googleapis.com/ds_data_import/chicago_bulls_1995_1996.json'\n",
        "chicago_bulls_dict = get(json_url).json()\n"
      ],
      "execution_count": 0,
      "outputs": []
    },
    {
      "cell_type": "code",
      "metadata": {
        "id": "rtQNWPrwxwbp",
        "colab_type": "code",
        "colab": {}
      },
      "source": [
        "root = db.reference()\n",
        "root.child('chicago_bulls').push(chicago_bulls_dict)"
      ],
      "execution_count": 0,
      "outputs": []
    },
    {
      "cell_type": "code",
      "metadata": {
        "id": "fWGEZCWhyEg5",
        "colab_type": "code",
        "colab": {}
      },
      "source": [
        "from firebase_admin import db\n",
        "\n",
        "ref = db.reference('chicago_bulls')\n",
        "chicago_bulls = ref.get()"
      ],
      "execution_count": 0,
      "outputs": []
    },
    {
      "cell_type": "markdown",
      "metadata": {
        "id": "Po-B5eqxyQ1K",
        "colab_type": "text"
      },
      "source": [
        "## Chapter 4 static web content\n",
        "\n",
        "* html tag\n",
        "* html id\n",
        "* html class\n",
        "* css selector\n",
        "* xpath\n",
        "\n",
        "chrome extentsions\n",
        "* Selector Gadget \n",
        "* XPath Helper\n",
        "\n",
        "> pip install pyquery"
      ]
    },
    {
      "cell_type": "code",
      "metadata": {
        "id": "t8UR2TCgy_ao",
        "colab_type": "code",
        "colab": {
          "base_uri": "https://localhost:8080/",
          "height": 156
        },
        "outputId": "24861881-9df9-4b60-e86f-ac7b65af2596"
      },
      "source": [
        "!pip install pyquery"
      ],
      "execution_count": 20,
      "outputs": [
        {
          "output_type": "stream",
          "text": [
            "Collecting pyquery\n",
            "  Downloading https://files.pythonhosted.org/packages/78/43/95d42e386c61cb639d1a0b94f0c0b9f0b7d6b981ad3c043a836c8b5bc68b/pyquery-1.4.1-py2.py3-none-any.whl\n",
            "Collecting cssselect>0.7.9\n",
            "  Downloading https://files.pythonhosted.org/packages/3b/d4/3b5c17f00cce85b9a1e6f91096e1cc8e8ede2e1be8e96b87ce1ed09e92c5/cssselect-1.1.0-py2.py3-none-any.whl\n",
            "Requirement already satisfied: lxml>=2.1 in /usr/local/lib/python3.6/dist-packages (from pyquery) (4.2.6)\n",
            "Installing collected packages: cssselect, pyquery\n",
            "Successfully installed cssselect-1.1.0 pyquery-1.4.1\n"
          ],
          "name": "stdout"
        }
      ]
    },
    {
      "cell_type": "code",
      "metadata": {
        "id": "tT_rWhxnyWGg",
        "colab_type": "code",
        "colab": {}
      },
      "source": [
        "from pyquery import PyQuery as pq"
      ],
      "execution_count": 0,
      "outputs": []
    },
    {
      "cell_type": "code",
      "metadata": {
        "id": "Am2rsGO9zCt9",
        "colab_type": "code",
        "colab": {}
      },
      "source": [
        "def get_movie_rating(movie_url):\n",
        "  rating_css = 'strong span'\n",
        "\n",
        "  movie_doc = pq(movie_url)\n",
        "  rating_elem = movie_doc(rating_css)\n",
        "  movie_rating = float(rating_elem.text())\n",
        "\n",
        "  return movie_rating"
      ],
      "execution_count": 0,
      "outputs": []
    },
    {
      "cell_type": "code",
      "metadata": {
        "id": "j4pVW6jbzjRl",
        "colab_type": "code",
        "colab": {}
      },
      "source": [
        "def get_movie_genre(movie_url):\n",
        "  genre_css = '.subtext a'\n",
        "\n",
        "  movie_doc = pq(movie_url)\n",
        "  genre_elem = movie_doc(genre_css)\n",
        "  movie_genre = [x.text.replace(\"\\n\",\"\").strip() for x in genre_elem]\n",
        "  movie_genre.pop\n",
        "\n",
        "  return movie_genre"
      ],
      "execution_count": 0,
      "outputs": []
    },
    {
      "cell_type": "code",
      "metadata": {
        "id": "bye6EAl-0Cka",
        "colab_type": "code",
        "colab": {
          "base_uri": "https://localhost:8080/",
          "height": 34
        },
        "outputId": "7610c376-420e-4ee3-b53f-8e44c28ca419"
      },
      "source": [
        "avenger_url = 'https://www.imdb.com/title/tt4154756'\n",
        "get_movie_rating(avenger_url)"
      ],
      "execution_count": 25,
      "outputs": [
        {
          "output_type": "execute_result",
          "data": {
            "text/plain": [
              "8.5"
            ]
          },
          "metadata": {
            "tags": []
          },
          "execution_count": 25
        }
      ]
    },
    {
      "cell_type": "code",
      "metadata": {
        "id": "m8TUn_M00ObM",
        "colab_type": "code",
        "colab": {
          "base_uri": "https://localhost:8080/",
          "height": 34
        },
        "outputId": "343ad35d-c23b-4ba0-8b38-9f9365a5c7f8"
      },
      "source": [
        "get_movie_genre(avenger_url)"
      ],
      "execution_count": 30,
      "outputs": [
        {
          "output_type": "execute_result",
          "data": {
            "text/plain": [
              "['Action', 'Adventure', 'Sci-Fi', '27 April 2018 (USA)']"
            ]
          },
          "metadata": {
            "tags": []
          },
          "execution_count": 30
        }
      ]
    },
    {
      "cell_type": "code",
      "metadata": {
        "id": "A_D59OMC0TOc",
        "colab_type": "code",
        "colab": {}
      },
      "source": [
        "def get_movie_cast(movie_url):\n",
        "  cast_css = '.primary_photo+ td a'\n",
        "\n",
        "  movie_doc = pq(movie_url)\n",
        "  cast_elem = movie_doc(cast_css)\n",
        "  cast_genre = [x.text.replace(\"\\n\", \"\").strip() for x in cast_elem]\n",
        "\n",
        "  return cast_genre"
      ],
      "execution_count": 0,
      "outputs": []
    },
    {
      "cell_type": "code",
      "metadata": {
        "id": "HSX8s0yV0_FD",
        "colab_type": "code",
        "colab": {
          "base_uri": "https://localhost:8080/",
          "height": 272
        },
        "outputId": "03df11d9-644e-4c28-9d39-2c340cbbfe22"
      },
      "source": [
        "get_movie_cast(avenger_url)"
      ],
      "execution_count": 32,
      "outputs": [
        {
          "output_type": "execute_result",
          "data": {
            "text/plain": [
              "['Robert Downey Jr.',\n",
              " 'Chris Hemsworth',\n",
              " 'Mark Ruffalo',\n",
              " 'Chris Evans',\n",
              " 'Scarlett Johansson',\n",
              " 'Don Cheadle',\n",
              " 'Benedict Cumberbatch',\n",
              " 'Tom Holland',\n",
              " 'Chadwick Boseman',\n",
              " 'Zoe Saldana',\n",
              " 'Karen Gillan',\n",
              " 'Tom Hiddleston',\n",
              " 'Paul Bettany',\n",
              " 'Elizabeth Olsen',\n",
              " 'Anthony Mackie']"
            ]
          },
          "metadata": {
            "tags": []
          },
          "execution_count": 32
        }
      ]
    },
    {
      "cell_type": "code",
      "metadata": {
        "id": "JSGk0DB-1GzI",
        "colab_type": "code",
        "colab": {}
      },
      "source": [
        "def get_movie_poster(movie_url):\n",
        "  poster_css = '.poster img'\n",
        "\n",
        "  movie_doc = pq(movie_url)\n",
        "  poster_elem = movie_doc(poster_css)\n",
        "  poster = poster_elem.attr('src')\n",
        "\n",
        "  return poster"
      ],
      "execution_count": 0,
      "outputs": []
    },
    {
      "cell_type": "code",
      "metadata": {
        "id": "qFld30_i1e6B",
        "colab_type": "code",
        "colab": {
          "base_uri": "https://localhost:8080/",
          "height": 54
        },
        "outputId": "7782aea5-376e-457e-d657-961c2ecc35ce"
      },
      "source": [
        "get_movie_poster(avenger_url)"
      ],
      "execution_count": 36,
      "outputs": [
        {
          "output_type": "execute_result",
          "data": {
            "text/plain": [
              "'https://m.media-amazon.com/images/M/MV5BMjMxNjY2MDU1OV5BMl5BanBnXkFtZTgwNzY1MTUwNTM@._V1_UX182_CR0,0,182,268_AL_.jpg'"
            ]
          },
          "metadata": {
            "tags": []
          },
          "execution_count": 36
        }
      ]
    },
    {
      "cell_type": "markdown",
      "metadata": {
        "id": "aOhAnM481rvz",
        "colab_type": "text"
      },
      "source": [
        "## Chapter 5 dynamic web content"
      ]
    },
    {
      "cell_type": "code",
      "metadata": {
        "id": "My0f_kgt1hpU",
        "colab_type": "code",
        "colab": {}
      },
      "source": [
        "from pyquery import PyQuery as pq\n",
        "\n",
        "def get_movie_info(movie_url):\n",
        "  rating_css = 'strong span'\n",
        "  genre_css = '.subtext a'\n",
        "  poster_css = '.poster img'\n",
        "  cast_css = '.primary_photo+ td a'\n",
        "\n",
        "  movie_doc = pq(movie_url)\n",
        "\n",
        "  rating_elem = movie_doc(rating_css)\n",
        "  movie_rating = float(rating_elem.text())\n",
        "\n",
        "  genre_elem = movie_doc(genre_css)\n",
        "  movie_genre = [x.text.replace(\"\\n\",\"\").strip() for x in genre_elem]\n",
        "  movie_genre.pop()\n",
        "\n",
        "  movie_poster_elem = movie_doc(poster_css)\n",
        "  movie_poster = movie_poster_elem.attr('src')\n",
        "\n",
        "  movie_cast_elem = movie_doc(cast_css)\n",
        "  movie_cast = [x.text.replace(\"\\n\", \"\").strip() for x in movie_cast_elem]\n",
        "\n",
        "  movie_info = {\n",
        "      'rating': movie_rating,\n",
        "      'genre': movie_genre,\n",
        "      'poster': movie_poster,\n",
        "      'cast': movie_cast\n",
        "  }\n",
        "\n",
        "  return movie_info"
      ],
      "execution_count": 0,
      "outputs": []
    },
    {
      "cell_type": "code",
      "metadata": {
        "id": "P7spFUio3KPk",
        "colab_type": "code",
        "colab": {
          "base_uri": "https://localhost:8080/",
          "height": 343
        },
        "outputId": "c61d15a3-fe1d-4962-cfbc-ae8e4c19ddc6"
      },
      "source": [
        "avenger_url = 'https://www.imdb.com/title/tt4154756'\n",
        "get_movie_info(avenger_url)"
      ],
      "execution_count": 42,
      "outputs": [
        {
          "output_type": "execute_result",
          "data": {
            "text/plain": [
              "{'cast': ['Robert Downey Jr.',\n",
              "  'Chris Hemsworth',\n",
              "  'Mark Ruffalo',\n",
              "  'Chris Evans',\n",
              "  'Scarlett Johansson',\n",
              "  'Don Cheadle',\n",
              "  'Benedict Cumberbatch',\n",
              "  'Tom Holland',\n",
              "  'Chadwick Boseman',\n",
              "  'Zoe Saldana',\n",
              "  'Karen Gillan',\n",
              "  'Tom Hiddleston',\n",
              "  'Paul Bettany',\n",
              "  'Elizabeth Olsen',\n",
              "  'Anthony Mackie'],\n",
              " 'genre': ['Action', 'Adventure', 'Sci-Fi'],\n",
              " 'poster': 'https://m.media-amazon.com/images/M/MV5BMjMxNjY2MDU1OV5BMl5BanBnXkFtZTgwNzY1MTUwNTM@._V1_UX182_CR0,0,182,268_AL_.jpg',\n",
              " 'rating': 8.5}"
            ]
          },
          "metadata": {
            "tags": []
          },
          "execution_count": 42
        }
      ]
    },
    {
      "cell_type": "markdown",
      "metadata": {
        "id": "NsL4AwDn3kZm",
        "colab_type": "text"
      },
      "source": [
        "### Selenium\n",
        "\n",
        "> pip install selenium"
      ]
    },
    {
      "cell_type": "code",
      "metadata": {
        "id": "yPqBFra23xuA",
        "colab_type": "code",
        "colab": {
          "base_uri": "https://localhost:8080/",
          "height": 139
        },
        "outputId": "8685e06f-dc74-4c2d-cf7e-b5cacfc3e49c"
      },
      "source": [
        "!pip install selenium"
      ],
      "execution_count": 44,
      "outputs": [
        {
          "output_type": "stream",
          "text": [
            "Collecting selenium\n",
            "\u001b[?25l  Downloading https://files.pythonhosted.org/packages/80/d6/4294f0b4bce4de0abf13e17190289f9d0613b0a44e5dd6a7f5ca98459853/selenium-3.141.0-py2.py3-none-any.whl (904kB)\n",
            "\u001b[K     |████████████████████████████████| 911kB 3.5MB/s \n",
            "\u001b[?25hRequirement already satisfied: urllib3 in /usr/local/lib/python3.6/dist-packages (from selenium) (1.24.3)\n",
            "Installing collected packages: selenium\n",
            "Successfully installed selenium-3.141.0\n"
          ],
          "name": "stdout"
        }
      ]
    },
    {
      "cell_type": "code",
      "metadata": {
        "id": "J7vjRMD63Uhh",
        "colab_type": "code",
        "colab": {}
      },
      "source": [
        "from selenium import webdriver"
      ],
      "execution_count": 0,
      "outputs": []
    },
    {
      "cell_type": "code",
      "metadata": {
        "id": "FYaGDu-734m-",
        "colab_type": "code",
        "colab": {}
      },
      "source": [
        "imdb_home = 'https://www.imdb.com'\n",
        "driver = webdriver.Chrome(executable_path=\"YOURCHROMEDRIVERPATH\")\n",
        "driver.get(imdb_home)\n",
        "print(driver.current_url)\n",
        "driver.close()"
      ],
      "execution_count": 0,
      "outputs": []
    },
    {
      "cell_type": "markdown",
      "metadata": {
        "id": "jCFECPPy4NU3",
        "colab_type": "text"
      },
      "source": [
        "* driver.get()\n",
        "* driver.find_element_by_xpath()\n",
        "* driver.find_element_by_css_selector()\n",
        "* driver.current_url\n",
        "* elem.send_keys()\n",
        "* elem.click()"
      ]
    },
    {
      "cell_type": "code",
      "metadata": {
        "id": "eFftSC1W4KtN",
        "colab_type": "code",
        "colab": {}
      },
      "source": [
        "from selenium import webdriver\n",
        "from random import randint\n",
        "import time\n",
        "from pyquery import PyQuery as pq"
      ],
      "execution_count": 0,
      "outputs": []
    },
    {
      "cell_type": "code",
      "metadata": {
        "id": "FfexsOd24mxA",
        "colab_type": "code",
        "colab": {}
      },
      "source": [
        "def get_movies(*args):\n",
        "\n",
        "  imdb_home = 'https://www.imdb.com'\n",
        "  driver = webdriver.Firefox(executable_path='YOURGECKODRIVERPATH')\n",
        "\n",
        "  movies = dict()\n",
        "  for movie_title in args:\n",
        "\n",
        "    driver.get(imdb_home)\n",
        "    search_elem = driver.find_element_by_css_selector(\"#navbar-query\")\n",
        "    search_elem.send_keys(movie_title)\n",
        "    submit_elem = driver.find_element_by-css_selector(\"#navbar-submit-button .navbarSprite\")\n",
        "    submit_elem.click()\n",
        "\n",
        "    first_result_elem = driver.find_element_by_css_selector(\"#findSubHeader+ .findSection .odd:nth-child(1) .result_text a\")\n",
        "    first_result_elem.click()\n",
        "\n",
        "    current_url = driver.current_url\n",
        "\n",
        "    movie_info = get_movie_info(current_url)\n",
        "    movies[movie_title] = movie_info\n",
        "    time.sleep(randint(3, 8))\n",
        "\n",
        "  driver.close()\n",
        "\n",
        "  return movies\n",
        "\n",
        "  "
      ],
      "execution_count": 0,
      "outputs": []
    },
    {
      "cell_type": "code",
      "metadata": {
        "id": "0sn8VXhm5_5T",
        "colab_type": "code",
        "colab": {
          "base_uri": "https://localhost:8080/",
          "height": 317
        },
        "outputId": "47139c7d-ad4a-4e30-de8a-5f8abefb0bae"
      },
      "source": [
        "movies = get_movies(\"Avengers: Infinity War\", \"Black Panther\")\n",
        "print(movies[\"Avengers: Infinity War\"])\n",
        "print(movies[\"Black Panther\"])"
      ],
      "execution_count": 4,
      "outputs": [
        {
          "output_type": "error",
          "ename": "NameError",
          "evalue": "ignored",
          "traceback": [
            "\u001b[0;31m---------------------------------------------------------------------------\u001b[0m",
            "\u001b[0;31mNameError\u001b[0m                                 Traceback (most recent call last)",
            "\u001b[0;32m<ipython-input-4-678cb7df20a7>\u001b[0m in \u001b[0;36m<module>\u001b[0;34m()\u001b[0m\n\u001b[0;32m----> 1\u001b[0;31m \u001b[0mmovies\u001b[0m \u001b[0;34m=\u001b[0m \u001b[0mget_movies\u001b[0m\u001b[0;34m(\u001b[0m\u001b[0;34m\"Avengers: Infinity War\"\u001b[0m\u001b[0;34m,\u001b[0m \u001b[0;34m\"Black Panther\"\u001b[0m\u001b[0;34m)\u001b[0m\u001b[0;34m\u001b[0m\u001b[0;34m\u001b[0m\u001b[0m\n\u001b[0m\u001b[1;32m      2\u001b[0m \u001b[0mprint\u001b[0m\u001b[0;34m(\u001b[0m\u001b[0mmovies\u001b[0m\u001b[0;34m[\u001b[0m\u001b[0;34m\"Avengers: Infinity War\"\u001b[0m\u001b[0;34m]\u001b[0m\u001b[0;34m)\u001b[0m\u001b[0;34m\u001b[0m\u001b[0;34m\u001b[0m\u001b[0m\n\u001b[1;32m      3\u001b[0m \u001b[0mprint\u001b[0m\u001b[0;34m(\u001b[0m\u001b[0mmovies\u001b[0m\u001b[0;34m[\u001b[0m\u001b[0;34m\"Black Panther\"\u001b[0m\u001b[0;34m]\u001b[0m\u001b[0;34m)\u001b[0m\u001b[0;34m\u001b[0m\u001b[0;34m\u001b[0m\u001b[0m\n",
            "\u001b[0;32m<ipython-input-3-e32b9d688e12>\u001b[0m in \u001b[0;36mget_movies\u001b[0;34m(*args)\u001b[0m\n\u001b[1;32m      2\u001b[0m \u001b[0;34m\u001b[0m\u001b[0m\n\u001b[1;32m      3\u001b[0m   \u001b[0mimdb_home\u001b[0m \u001b[0;34m=\u001b[0m \u001b[0;34m'https://www.imdb.com'\u001b[0m\u001b[0;34m\u001b[0m\u001b[0;34m\u001b[0m\u001b[0m\n\u001b[0;32m----> 4\u001b[0;31m   \u001b[0mdriver\u001b[0m \u001b[0;34m=\u001b[0m \u001b[0mwebdriver\u001b[0m\u001b[0;34m.\u001b[0m\u001b[0mFirefox\u001b[0m\u001b[0;34m(\u001b[0m\u001b[0mexecutable_path\u001b[0m\u001b[0;34m=\u001b[0m\u001b[0;34m'YOURGECKODRIVERPATH'\u001b[0m\u001b[0;34m)\u001b[0m\u001b[0;34m\u001b[0m\u001b[0;34m\u001b[0m\u001b[0m\n\u001b[0m\u001b[1;32m      5\u001b[0m \u001b[0;34m\u001b[0m\u001b[0m\n\u001b[1;32m      6\u001b[0m   \u001b[0mmovies\u001b[0m \u001b[0;34m=\u001b[0m \u001b[0mdict\u001b[0m\u001b[0;34m(\u001b[0m\u001b[0;34m)\u001b[0m\u001b[0;34m\u001b[0m\u001b[0;34m\u001b[0m\u001b[0m\n",
            "\u001b[0;31mNameError\u001b[0m: name 'webdriver' is not defined"
          ]
        }
      ]
    },
    {
      "cell_type": "code",
      "metadata": {
        "id": "tpnsoVgPkiAq",
        "colab_type": "code",
        "colab": {}
      },
      "source": [
        ""
      ],
      "execution_count": 0,
      "outputs": []
    },
    {
      "cell_type": "markdown",
      "metadata": {
        "id": "eXSU1LGXZg4u",
        "colab_type": "text"
      },
      "source": [
        "## Chapter 6 Data"
      ]
    },
    {
      "cell_type": "markdown",
      "metadata": {
        "id": "tsbQVu9oZlEJ",
        "colab_type": "text"
      },
      "source": [
        "### array\n",
        "\n",
        "* element-wise operation\n",
        "* slicing\n",
        "* filter\n",
        "* single type\n",
        "\n",
        "> pip install numpy"
      ]
    },
    {
      "cell_type": "code",
      "metadata": {
        "id": "bNZH67zpZ2N6",
        "colab_type": "code",
        "colab": {
          "base_uri": "https://localhost:8080/",
          "height": 51
        },
        "outputId": "a220a3d7-127c-4c0f-cf7c-d820c718e0ce"
      },
      "source": [
        "import numpy as np\n",
        "\n",
        "arr = np.array([11,12,13,14,15])\n",
        "print(arr)\n",
        "print(type(arr))"
      ],
      "execution_count": 1,
      "outputs": [
        {
          "output_type": "stream",
          "text": [
            "[11 12 13 14 15]\n",
            "<class 'numpy.ndarray'>\n"
          ],
          "name": "stdout"
        }
      ]
    },
    {
      "cell_type": "code",
      "metadata": {
        "id": "BWanOAnoaFIA",
        "colab_type": "code",
        "colab": {
          "base_uri": "https://localhost:8080/",
          "height": 51
        },
        "outputId": "3ce4ebc5-60ce-44cb-ef58-01cbdc86cad9"
      },
      "source": [
        "print(arr[0])\n",
        "print(arr[-1])"
      ],
      "execution_count": 2,
      "outputs": [
        {
          "output_type": "stream",
          "text": [
            "11\n",
            "15\n"
          ],
          "name": "stdout"
        }
      ]
    },
    {
      "cell_type": "code",
      "metadata": {
        "id": "7B6jL4zMaLxR",
        "colab_type": "code",
        "colab": {
          "base_uri": "https://localhost:8080/",
          "height": 34
        },
        "outputId": "1640b772-ad92-4046-c488-ff420a320d0b"
      },
      "source": [
        "print(arr[[0,1,4]])"
      ],
      "execution_count": 3,
      "outputs": [
        {
          "output_type": "stream",
          "text": [
            "[11 12 15]\n"
          ],
          "name": "stdout"
        }
      ]
    },
    {
      "cell_type": "code",
      "metadata": {
        "id": "P5HnagMOaO9R",
        "colab_type": "code",
        "colab": {
          "base_uri": "https://localhost:8080/",
          "height": 34
        },
        "outputId": "1c688fbf-a689-4bbf-a497-26d098df4151"
      },
      "source": [
        "arr = np.array([11,12,13,14,15])\n",
        "arr[2] = 87\n",
        "print(arr)"
      ],
      "execution_count": 5,
      "outputs": [
        {
          "output_type": "stream",
          "text": [
            "[11 12 87 14 15]\n"
          ],
          "name": "stdout"
        }
      ]
    },
    {
      "cell_type": "code",
      "metadata": {
        "id": "6ZN8RnS_aVbG",
        "colab_type": "code",
        "colab": {
          "base_uri": "https://localhost:8080/",
          "height": 34
        },
        "outputId": "29d32f4a-a1ae-457e-935e-4bb66d8b8628"
      },
      "source": [
        "arr = np.array([11,12,13,14,15])\n",
        "arr = np.append(arr, 87)\n",
        "arr = np.insert(arr, 1, 99)\n",
        "\n",
        "print(arr)"
      ],
      "execution_count": 6,
      "outputs": [
        {
          "output_type": "stream",
          "text": [
            "[11 99 12 13 14 15 87]\n"
          ],
          "name": "stdout"
        }
      ]
    },
    {
      "cell_type": "code",
      "metadata": {
        "id": "w19MPZ6dakMS",
        "colab_type": "code",
        "colab": {
          "base_uri": "https://localhost:8080/",
          "height": 34
        },
        "outputId": "5712fd2f-f57b-4691-b926-4b93c679a9b5"
      },
      "source": [
        "arr = np.array([11,12,13,14,15])\n",
        "arr = np.delete(arr, 2)\n",
        "print(arr)"
      ],
      "execution_count": 7,
      "outputs": [
        {
          "output_type": "stream",
          "text": [
            "[11 12 14 15]\n"
          ],
          "name": "stdout"
        }
      ]
    },
    {
      "cell_type": "code",
      "metadata": {
        "id": "V7gshbXBau9K",
        "colab_type": "code",
        "colab": {
          "base_uri": "https://localhost:8080/",
          "height": 85
        },
        "outputId": "9b0f8b3a-e8c7-454e-922a-0b6bfcefeca5"
      },
      "source": [
        "arr = np.array([11,12,13,14,15])\n",
        "print(arr + 2)\n",
        "print(arr - 2)\n",
        "print(arr * 2)\n",
        "print(arr / 2)"
      ],
      "execution_count": 8,
      "outputs": [
        {
          "output_type": "stream",
          "text": [
            "[13 14 15 16 17]\n",
            "[ 9 10 11 12 13]\n",
            "[22 24 26 28 30]\n",
            "[5.5 6.  6.5 7.  7.5]\n"
          ],
          "name": "stdout"
        }
      ]
    },
    {
      "cell_type": "code",
      "metadata": {
        "id": "RpPMSizXa38j",
        "colab_type": "code",
        "colab": {
          "base_uri": "https://localhost:8080/",
          "height": 102
        },
        "outputId": "d005ba79-6f3f-4415-8757-4fb901ddbf28"
      },
      "source": [
        "print(arr ** 3)\n",
        "print(arr % 2)\n",
        "print(arr // 2)\n",
        "print(arr + arr)\n",
        "print(arr * arr)"
      ],
      "execution_count": 9,
      "outputs": [
        {
          "output_type": "stream",
          "text": [
            "[1331 1728 2197 2744 3375]\n",
            "[1 0 1 0 1]\n",
            "[5 6 6 7 7]\n",
            "[22 24 26 28 30]\n",
            "[121 144 169 196 225]\n"
          ],
          "name": "stdout"
        }
      ]
    },
    {
      "cell_type": "code",
      "metadata": {
        "id": "sS9cTPGUbB3y",
        "colab_type": "code",
        "colab": {
          "base_uri": "https://localhost:8080/",
          "height": 51
        },
        "outputId": "990f0c93-f530-4715-f144-f3756790cc9d"
      },
      "source": [
        "arr = np.array([11,12,13,14,15])\n",
        "is_even = arr % 2 == 0\n",
        "print(is_even)\n",
        "print(arr[is_even])"
      ],
      "execution_count": 10,
      "outputs": [
        {
          "output_type": "stream",
          "text": [
            "[False  True False  True False]\n",
            "[12 14]\n"
          ],
          "name": "stdout"
        }
      ]
    },
    {
      "cell_type": "markdown",
      "metadata": {
        "id": "s6okiWipeqaB",
        "colab_type": "text"
      },
      "source": [
        "### vector, matrix and tensor"
      ]
    },
    {
      "cell_type": "code",
      "metadata": {
        "id": "tSYEo6PKdCzv",
        "colab_type": "code",
        "colab": {
          "base_uri": "https://localhost:8080/",
          "height": 119
        },
        "outputId": "dbceeaf0-d1b7-4aa0-f025-70867f8f7d32"
      },
      "source": [
        "vec = np.array([11,12,13,14,15]).reshape(5,1)\n",
        "print(vec)\n",
        "print(vec.shape)"
      ],
      "execution_count": 11,
      "outputs": [
        {
          "output_type": "stream",
          "text": [
            "[[11]\n",
            " [12]\n",
            " [13]\n",
            " [14]\n",
            " [15]]\n",
            "(5, 1)\n"
          ],
          "name": "stdout"
        }
      ]
    },
    {
      "cell_type": "code",
      "metadata": {
        "id": "4M5_UZVhdOVN",
        "colab_type": "code",
        "colab": {
          "base_uri": "https://localhost:8080/",
          "height": 68
        },
        "outputId": "ae7d5263-eff3-4c4a-bd13-d3b07d9f4a3c"
      },
      "source": [
        "mat = np.arange(11,21).reshape(2,5)\n",
        "print(mat)\n",
        "print(mat.shape)"
      ],
      "execution_count": 12,
      "outputs": [
        {
          "output_type": "stream",
          "text": [
            "[[11 12 13 14 15]\n",
            " [16 17 18 19 20]]\n",
            "(2, 5)\n"
          ],
          "name": "stdout"
        }
      ]
    },
    {
      "cell_type": "code",
      "metadata": {
        "id": "5kQagME4dWrd",
        "colab_type": "code",
        "colab": {
          "base_uri": "https://localhost:8080/",
          "height": 153
        },
        "outputId": "e64b1442-e8d5-401b-c0dc-89c2b2634b4a"
      },
      "source": [
        "tensor = np.arange(11,35).reshape(2,3,4)\n",
        "print(tensor)\n",
        "print(tensor.shape)"
      ],
      "execution_count": 13,
      "outputs": [
        {
          "output_type": "stream",
          "text": [
            "[[[11 12 13 14]\n",
            "  [15 16 17 18]\n",
            "  [19 20 21 22]]\n",
            "\n",
            " [[23 24 25 26]\n",
            "  [27 28 29 30]\n",
            "  [31 32 33 34]]]\n",
            "(2, 3, 4)\n"
          ],
          "name": "stdout"
        }
      ]
    },
    {
      "cell_type": "markdown",
      "metadata": {
        "id": "0rkzMdAeeWjP",
        "colab_type": "text"
      },
      "source": [
        "filter => vec, mat, and tensor failback to array"
      ]
    },
    {
      "cell_type": "code",
      "metadata": {
        "id": "Qi_7U0Yzdf42",
        "colab_type": "code",
        "colab": {
          "base_uri": "https://localhost:8080/",
          "height": 68
        },
        "outputId": "ff0505c2-e459-4ec2-8668-e75a6eaede05"
      },
      "source": [
        "vec = np.array([11,12,13,14,15]).reshape(5,1)\n",
        "mat = np.arange(11,21).reshape(2,5)\n",
        "tensor = np.arange(11,35).reshape(2,3,4)\n",
        "\n",
        "print(vec[vec % 2 == 0])\n",
        "print(mat[mat % 2 == 0])\n",
        "print(tensor[tensor % 2 == 0])"
      ],
      "execution_count": 15,
      "outputs": [
        {
          "output_type": "stream",
          "text": [
            "[12 14]\n",
            "[12 14 16 18 20]\n",
            "[12 14 16 18 20 22 24 26 28 30 32 34]\n"
          ],
          "name": "stdout"
        }
      ]
    },
    {
      "cell_type": "markdown",
      "metadata": {
        "id": "Nczn0Ktde4jx",
        "colab_type": "text"
      },
      "source": [
        "### dataframe"
      ]
    },
    {
      "cell_type": "code",
      "metadata": {
        "id": "m1Hc2UaTeNv5",
        "colab_type": "code",
        "colab": {
          "base_uri": "https://localhost:8080/",
          "height": 204
        },
        "outputId": "8f97294f-6f6b-45ba-ac58-4564967407bf"
      },
      "source": [
        "import pandas as pd\n",
        "\n",
        "numbers = [9, 23, 33, 91, 13]\n",
        "players = [\"Ron Harper\", \"Michael Jordan\", \"Scottie Pippen\", \"Dennis Rodman\", \"Luc Longley\"]\n",
        "\n",
        "df = pd.DataFrame()\n",
        "df[\"number\"] = numbers\n",
        "df[\"player\"] = players\n",
        "df"
      ],
      "execution_count": 16,
      "outputs": [
        {
          "output_type": "execute_result",
          "data": {
            "text/html": [
              "<div>\n",
              "<style scoped>\n",
              "    .dataframe tbody tr th:only-of-type {\n",
              "        vertical-align: middle;\n",
              "    }\n",
              "\n",
              "    .dataframe tbody tr th {\n",
              "        vertical-align: top;\n",
              "    }\n",
              "\n",
              "    .dataframe thead th {\n",
              "        text-align: right;\n",
              "    }\n",
              "</style>\n",
              "<table border=\"1\" class=\"dataframe\">\n",
              "  <thead>\n",
              "    <tr style=\"text-align: right;\">\n",
              "      <th></th>\n",
              "      <th>number</th>\n",
              "      <th>player</th>\n",
              "    </tr>\n",
              "  </thead>\n",
              "  <tbody>\n",
              "    <tr>\n",
              "      <th>0</th>\n",
              "      <td>9</td>\n",
              "      <td>Ron Harper</td>\n",
              "    </tr>\n",
              "    <tr>\n",
              "      <th>1</th>\n",
              "      <td>23</td>\n",
              "      <td>Michael Jordan</td>\n",
              "    </tr>\n",
              "    <tr>\n",
              "      <th>2</th>\n",
              "      <td>33</td>\n",
              "      <td>Scottie Pippen</td>\n",
              "    </tr>\n",
              "    <tr>\n",
              "      <th>3</th>\n",
              "      <td>91</td>\n",
              "      <td>Dennis Rodman</td>\n",
              "    </tr>\n",
              "    <tr>\n",
              "      <th>4</th>\n",
              "      <td>13</td>\n",
              "      <td>Luc Longley</td>\n",
              "    </tr>\n",
              "  </tbody>\n",
              "</table>\n",
              "</div>"
            ],
            "text/plain": [
              "   number          player\n",
              "0       9      Ron Harper\n",
              "1      23  Michael Jordan\n",
              "2      33  Scottie Pippen\n",
              "3      91   Dennis Rodman\n",
              "4      13     Luc Longley"
            ]
          },
          "metadata": {
            "tags": []
          },
          "execution_count": 16
        }
      ]
    },
    {
      "cell_type": "code",
      "metadata": {
        "id": "Vmovsxyzfc2m",
        "colab_type": "code",
        "colab": {
          "base_uri": "https://localhost:8080/",
          "height": 170
        },
        "outputId": "5e1e77d5-5fcb-4f59-b1fe-5cb734c002a4"
      },
      "source": [
        "numbers = [9, 23, 33, 91, 13]\n",
        "players = [\"Ron Harper\", \"Michael Jordan\", \"Scottie Pippen\", \"Dennis Rodman\", \"Luc Longley\"]\n",
        "\n",
        "df = pd.DataFrame()\n",
        "df[\"number\"] = numbers\n",
        "df[\"player\"] = players\n",
        "\n",
        "print(df[\"player\"])\n",
        "print(type(df[\"player\"]))\n",
        "print(df[\"player\"].values)"
      ],
      "execution_count": 17,
      "outputs": [
        {
          "output_type": "stream",
          "text": [
            "0        Ron Harper\n",
            "1    Michael Jordan\n",
            "2    Scottie Pippen\n",
            "3     Dennis Rodman\n",
            "4       Luc Longley\n",
            "Name: player, dtype: object\n",
            "<class 'pandas.core.series.Series'>\n",
            "['Ron Harper' 'Michael Jordan' 'Scottie Pippen' 'Dennis Rodman'\n",
            " 'Luc Longley']\n"
          ],
          "name": "stdout"
        }
      ]
    },
    {
      "cell_type": "code",
      "metadata": {
        "id": "HnvFPuJcfu6C",
        "colab_type": "code",
        "colab": {
          "base_uri": "https://localhost:8080/",
          "height": 34
        },
        "outputId": "8cc6205b-fa93-4f19-f0ca-374c1e20aee9"
      },
      "source": [
        "numbers = [9, 23, 33, 91, 13]\n",
        "players = [\"Ron Harper\", \"Michael Jordan\", \"Scottie Pippen\", \"Dennis Rodman\", \"Luc Longley\"]\n",
        "\n",
        "df = pd.DataFrame()\n",
        "df[\"number\"] = numbers\n",
        "df[\"player\"] = players\n",
        "\n",
        "mj = df.iloc[1,1]\n",
        "print(mj)"
      ],
      "execution_count": 18,
      "outputs": [
        {
          "output_type": "stream",
          "text": [
            "Michael Jordan\n"
          ],
          "name": "stdout"
        }
      ]
    },
    {
      "cell_type": "code",
      "metadata": {
        "id": "hbVBS8S_f6t8",
        "colab_type": "code",
        "colab": {
          "base_uri": "https://localhost:8080/",
          "height": 244
        },
        "outputId": "f3e6f830-c184-45a5-d605-d15cd283b8f2"
      },
      "source": [
        "numbers = [9, 23, 33, 91, 13]\n",
        "players = [\"Ron Harper\", \"Michael Jordan\", \"Scottie Pippen\", \"Dennis Rodman\", \"Luc Longley\"]\n",
        "\n",
        "df = pd.DataFrame()\n",
        "df[\"number\"] = numbers\n",
        "df[\"player\"] = players\n",
        "\n",
        "trio = df[\"number\"].isin([23,33,91])\n",
        "print(trio)\n",
        "df[trio]"
      ],
      "execution_count": 19,
      "outputs": [
        {
          "output_type": "stream",
          "text": [
            "0    False\n",
            "1     True\n",
            "2     True\n",
            "3     True\n",
            "4    False\n",
            "Name: number, dtype: bool\n"
          ],
          "name": "stdout"
        },
        {
          "output_type": "execute_result",
          "data": {
            "text/html": [
              "<div>\n",
              "<style scoped>\n",
              "    .dataframe tbody tr th:only-of-type {\n",
              "        vertical-align: middle;\n",
              "    }\n",
              "\n",
              "    .dataframe tbody tr th {\n",
              "        vertical-align: top;\n",
              "    }\n",
              "\n",
              "    .dataframe thead th {\n",
              "        text-align: right;\n",
              "    }\n",
              "</style>\n",
              "<table border=\"1\" class=\"dataframe\">\n",
              "  <thead>\n",
              "    <tr style=\"text-align: right;\">\n",
              "      <th></th>\n",
              "      <th>number</th>\n",
              "      <th>player</th>\n",
              "    </tr>\n",
              "  </thead>\n",
              "  <tbody>\n",
              "    <tr>\n",
              "      <th>1</th>\n",
              "      <td>23</td>\n",
              "      <td>Michael Jordan</td>\n",
              "    </tr>\n",
              "    <tr>\n",
              "      <th>2</th>\n",
              "      <td>33</td>\n",
              "      <td>Scottie Pippen</td>\n",
              "    </tr>\n",
              "    <tr>\n",
              "      <th>3</th>\n",
              "      <td>91</td>\n",
              "      <td>Dennis Rodman</td>\n",
              "    </tr>\n",
              "  </tbody>\n",
              "</table>\n",
              "</div>"
            ],
            "text/plain": [
              "   number          player\n",
              "1      23  Michael Jordan\n",
              "2      33  Scottie Pippen\n",
              "3      91   Dennis Rodman"
            ]
          },
          "metadata": {
            "tags": []
          },
          "execution_count": 19
        }
      ]
    },
    {
      "cell_type": "markdown",
      "metadata": {
        "id": "r8hbAJk-gR6A",
        "colab_type": "text"
      },
      "source": [
        "### list"
      ]
    },
    {
      "cell_type": "code",
      "metadata": {
        "id": "u_PeIXMUgI_I",
        "colab_type": "code",
        "colab": {
          "base_uri": "https://localhost:8080/",
          "height": 51
        },
        "outputId": "6cd9755c-013d-4f8c-a821-e7376d679d17"
      },
      "source": [
        "team_name = \"Chicago Bulls\"\n",
        "season = \"1995-96\"\n",
        "records = {\n",
        "    \"wins\": 72,\n",
        "    \"losses\": 10\n",
        "}\n",
        "coach = \"Phil Jackson\"\n",
        "assistant_coach = [\"Jim Cleamons\",\"JohnPaxson\", \"Jimmy Rodgers\", \"Tex Winter\"]\n",
        "starting_lineups = {\n",
        "    \"PG\": \"Ron Harper\",\n",
        "    \"SG\": \"Michael Jordan\",\n",
        "    \"SF\": \"Scottie Pippen\", \n",
        "    \"PF\": \"Dennis Rodman\",\n",
        "    \"C\": \"Luc Longley\"\n",
        "}\n",
        "\n",
        "cb_list = [team_name, season, records, coach, assistant_coach, starting_lineups\n",
        "          ]\n",
        "\n",
        "cb_dict = {\n",
        "    \"team_name\": team_name,\n",
        "    \"season\": season,\n",
        "    \"records\": records,\n",
        "    \"coach\": coach,\n",
        "    \"assiant_coach\": assistant_coach,\n",
        "    \"starting_lineups\": starting_lineups\n",
        "}        \n",
        "print(type(cb_list))\n",
        "print(type(cb_dict))"
      ],
      "execution_count": 21,
      "outputs": [
        {
          "output_type": "stream",
          "text": [
            "<class 'list'>\n",
            "<class 'dict'>\n"
          ],
          "name": "stdout"
        }
      ]
    },
    {
      "cell_type": "code",
      "metadata": {
        "id": "BMWkcalmiO7c",
        "colab_type": "code",
        "colab": {
          "base_uri": "https://localhost:8080/",
          "height": 51
        },
        "outputId": "1d02967d-a46e-4817-d12c-200099710f9a"
      },
      "source": [
        "is_champion = True\n",
        "cb_list.append(is_champion)\n",
        "cb_dict[\"is_champion\"] = is_champion\n",
        "print(cb_list[-1])\n",
        "print(cb_dict[\"is_champion\"])"
      ],
      "execution_count": 24,
      "outputs": [
        {
          "output_type": "stream",
          "text": [
            "True\n",
            "True\n"
          ],
          "name": "stdout"
        }
      ]
    },
    {
      "cell_type": "code",
      "metadata": {
        "id": "9pUiDiUUlWxv",
        "colab_type": "code",
        "colab": {
          "base_uri": "https://localhost:8080/",
          "height": 51
        },
        "outputId": "7e5c8231-7be4-43bd-b921-5ce33f49e2dd"
      },
      "source": [
        "new_records = {\n",
        "    \"wins\": 72,\n",
        "    \"losses\": 10,\n",
        "    \"winning_percent\": \"{0:.2f}%\".format(72/82*100)\n",
        "}\n",
        "cb_list[2] = new_records\n",
        "cb_dict[\"records\"] = new_records\n",
        "print(cb_list[2])\n",
        "print(cb_dict[\"records\"])"
      ],
      "execution_count": 25,
      "outputs": [
        {
          "output_type": "stream",
          "text": [
            "{'wins': 72, 'losses': 10, 'winning_percent': '87.80%'}\n",
            "{'wins': 72, 'losses': 10, 'winning_percent': '87.80%'}\n"
          ],
          "name": "stdout"
        }
      ]
    },
    {
      "cell_type": "code",
      "metadata": {
        "id": "5VlJ7NmCmBGv",
        "colab_type": "code",
        "colab": {
          "base_uri": "https://localhost:8080/",
          "height": 275
        },
        "outputId": "8aa0b455-f65c-4c64-9a63-138f233cc2a8"
      },
      "source": [
        "for idx, elem in enumerate(cb_list):\n",
        "  print(\"index {} value:\".format(idx))\n",
        "  print(elem)"
      ],
      "execution_count": 27,
      "outputs": [
        {
          "output_type": "stream",
          "text": [
            "index 0 value:\n",
            "Chicago Bulls\n",
            "index 1 value:\n",
            "1995-96\n",
            "index 2 value:\n",
            "{'wins': 72, 'losses': 10, 'winning_percent': '87.80%'}\n",
            "index 3 value:\n",
            "Phil Jackson\n",
            "index 4 value:\n",
            "['Jim Cleamons', 'JohnPaxson', 'Jimmy Rodgers', 'Tex Winter']\n",
            "index 5 value:\n",
            "{'PG': 'Ron Harper', 'SG': 'Michael Jordan', 'SF': 'Scottie Pippen', 'PF': 'Dennis Rodman', 'C': 'Luc Longley'}\n",
            "index 6 value:\n",
            "True\n"
          ],
          "name": "stdout"
        }
      ]
    },
    {
      "cell_type": "code",
      "metadata": {
        "id": "90bXiMTYmURb",
        "colab_type": "code",
        "colab": {
          "base_uri": "https://localhost:8080/",
          "height": 275
        },
        "outputId": "5be8d58d-b200-4af0-9015-15a13efbe837"
      },
      "source": [
        "for key, value in cb_dict.items():\n",
        "  print(\"key {} value is: \".format(key))\n",
        "  print(value)"
      ],
      "execution_count": 28,
      "outputs": [
        {
          "output_type": "stream",
          "text": [
            "key team_name value is: \n",
            "Chicago Bulls\n",
            "key season value is: \n",
            "1995-96\n",
            "key records value is: \n",
            "{'wins': 72, 'losses': 10, 'winning_percent': '87.80%'}\n",
            "key coach value is: \n",
            "Phil Jackson\n",
            "key assiant_coach value is: \n",
            "['Jim Cleamons', 'JohnPaxson', 'Jimmy Rodgers', 'Tex Winter']\n",
            "key starting_lineups value is: \n",
            "{'PG': 'Ron Harper', 'SG': 'Michael Jordan', 'SF': 'Scottie Pippen', 'PF': 'Dennis Rodman', 'C': 'Luc Longley'}\n",
            "key is_champion value is: \n",
            "True\n"
          ],
          "name": "stdout"
        }
      ]
    },
    {
      "cell_type": "markdown",
      "metadata": {
        "id": "evX5fQaKmrP_",
        "colab_type": "text"
      },
      "source": [
        "## Chapter 7 basic dataframe operation\n",
        "\n",
        "data wrangling\n",
        "\n",
        "data munging\n",
        "\n",
        "Exploratory Data Analysis - EDA\n",
        "\n",
        "Tabular Data => DataFrame"
      ]
    },
    {
      "cell_type": "markdown",
      "metadata": {
        "id": "rTU4B62Unpvh",
        "colab_type": "text"
      },
      "source": [
        "### create"
      ]
    },
    {
      "cell_type": "code",
      "metadata": {
        "id": "9HE7qhgCmiPn",
        "colab_type": "code",
        "colab": {
          "base_uri": "https://localhost:8080/",
          "height": 204
        },
        "outputId": "3478674c-01b2-4c03-f538-348a399678aa"
      },
      "source": [
        "numbers = [9, 23, 33, 91, 13]\n",
        "players = [\"Ron Harper\", \"Michael Jordan\", \"Scottie Pippen\", \"Dennis Rodman\", \"Luc Longley\"]\n",
        "\n",
        "df = pd.DataFrame()\n",
        "df[\"number\"] = numbers\n",
        "df[\"player\"] = players\n",
        "\n",
        "df"
      ],
      "execution_count": 29,
      "outputs": [
        {
          "output_type": "execute_result",
          "data": {
            "text/html": [
              "<div>\n",
              "<style scoped>\n",
              "    .dataframe tbody tr th:only-of-type {\n",
              "        vertical-align: middle;\n",
              "    }\n",
              "\n",
              "    .dataframe tbody tr th {\n",
              "        vertical-align: top;\n",
              "    }\n",
              "\n",
              "    .dataframe thead th {\n",
              "        text-align: right;\n",
              "    }\n",
              "</style>\n",
              "<table border=\"1\" class=\"dataframe\">\n",
              "  <thead>\n",
              "    <tr style=\"text-align: right;\">\n",
              "      <th></th>\n",
              "      <th>number</th>\n",
              "      <th>player</th>\n",
              "    </tr>\n",
              "  </thead>\n",
              "  <tbody>\n",
              "    <tr>\n",
              "      <th>0</th>\n",
              "      <td>9</td>\n",
              "      <td>Ron Harper</td>\n",
              "    </tr>\n",
              "    <tr>\n",
              "      <th>1</th>\n",
              "      <td>23</td>\n",
              "      <td>Michael Jordan</td>\n",
              "    </tr>\n",
              "    <tr>\n",
              "      <th>2</th>\n",
              "      <td>33</td>\n",
              "      <td>Scottie Pippen</td>\n",
              "    </tr>\n",
              "    <tr>\n",
              "      <th>3</th>\n",
              "      <td>91</td>\n",
              "      <td>Dennis Rodman</td>\n",
              "    </tr>\n",
              "    <tr>\n",
              "      <th>4</th>\n",
              "      <td>13</td>\n",
              "      <td>Luc Longley</td>\n",
              "    </tr>\n",
              "  </tbody>\n",
              "</table>\n",
              "</div>"
            ],
            "text/plain": [
              "   number          player\n",
              "0       9      Ron Harper\n",
              "1      23  Michael Jordan\n",
              "2      33  Scottie Pippen\n",
              "3      91   Dennis Rodman\n",
              "4      13     Luc Longley"
            ]
          },
          "metadata": {
            "tags": []
          },
          "execution_count": 29
        }
      ]
    },
    {
      "cell_type": "code",
      "metadata": {
        "id": "pd8se-4ln1DD",
        "colab_type": "code",
        "colab": {
          "base_uri": "https://localhost:8080/",
          "height": 419
        },
        "outputId": "4b2ef294-615f-41ea-9465-7915c6371352"
      },
      "source": [
        "csv_url = \"https://storage.googleapis.com/learn_pd_like_tidyverse/gapminder.csv\"\n",
        "\n",
        "df = pd.read_csv(csv_url)\n",
        "df"
      ],
      "execution_count": 30,
      "outputs": [
        {
          "output_type": "execute_result",
          "data": {
            "text/html": [
              "<div>\n",
              "<style scoped>\n",
              "    .dataframe tbody tr th:only-of-type {\n",
              "        vertical-align: middle;\n",
              "    }\n",
              "\n",
              "    .dataframe tbody tr th {\n",
              "        vertical-align: top;\n",
              "    }\n",
              "\n",
              "    .dataframe thead th {\n",
              "        text-align: right;\n",
              "    }\n",
              "</style>\n",
              "<table border=\"1\" class=\"dataframe\">\n",
              "  <thead>\n",
              "    <tr style=\"text-align: right;\">\n",
              "      <th></th>\n",
              "      <th>country</th>\n",
              "      <th>continent</th>\n",
              "      <th>year</th>\n",
              "      <th>lifeExp</th>\n",
              "      <th>pop</th>\n",
              "      <th>gdpPercap</th>\n",
              "    </tr>\n",
              "  </thead>\n",
              "  <tbody>\n",
              "    <tr>\n",
              "      <th>0</th>\n",
              "      <td>Afghanistan</td>\n",
              "      <td>Asia</td>\n",
              "      <td>1952</td>\n",
              "      <td>28.801</td>\n",
              "      <td>8425333</td>\n",
              "      <td>779.445314</td>\n",
              "    </tr>\n",
              "    <tr>\n",
              "      <th>1</th>\n",
              "      <td>Afghanistan</td>\n",
              "      <td>Asia</td>\n",
              "      <td>1957</td>\n",
              "      <td>30.332</td>\n",
              "      <td>9240934</td>\n",
              "      <td>820.853030</td>\n",
              "    </tr>\n",
              "    <tr>\n",
              "      <th>2</th>\n",
              "      <td>Afghanistan</td>\n",
              "      <td>Asia</td>\n",
              "      <td>1962</td>\n",
              "      <td>31.997</td>\n",
              "      <td>10267083</td>\n",
              "      <td>853.100710</td>\n",
              "    </tr>\n",
              "    <tr>\n",
              "      <th>3</th>\n",
              "      <td>Afghanistan</td>\n",
              "      <td>Asia</td>\n",
              "      <td>1967</td>\n",
              "      <td>34.020</td>\n",
              "      <td>11537966</td>\n",
              "      <td>836.197138</td>\n",
              "    </tr>\n",
              "    <tr>\n",
              "      <th>4</th>\n",
              "      <td>Afghanistan</td>\n",
              "      <td>Asia</td>\n",
              "      <td>1972</td>\n",
              "      <td>36.088</td>\n",
              "      <td>13079460</td>\n",
              "      <td>739.981106</td>\n",
              "    </tr>\n",
              "    <tr>\n",
              "      <th>...</th>\n",
              "      <td>...</td>\n",
              "      <td>...</td>\n",
              "      <td>...</td>\n",
              "      <td>...</td>\n",
              "      <td>...</td>\n",
              "      <td>...</td>\n",
              "    </tr>\n",
              "    <tr>\n",
              "      <th>1699</th>\n",
              "      <td>Zimbabwe</td>\n",
              "      <td>Africa</td>\n",
              "      <td>1987</td>\n",
              "      <td>62.351</td>\n",
              "      <td>9216418</td>\n",
              "      <td>706.157306</td>\n",
              "    </tr>\n",
              "    <tr>\n",
              "      <th>1700</th>\n",
              "      <td>Zimbabwe</td>\n",
              "      <td>Africa</td>\n",
              "      <td>1992</td>\n",
              "      <td>60.377</td>\n",
              "      <td>10704340</td>\n",
              "      <td>693.420786</td>\n",
              "    </tr>\n",
              "    <tr>\n",
              "      <th>1701</th>\n",
              "      <td>Zimbabwe</td>\n",
              "      <td>Africa</td>\n",
              "      <td>1997</td>\n",
              "      <td>46.809</td>\n",
              "      <td>11404948</td>\n",
              "      <td>792.449960</td>\n",
              "    </tr>\n",
              "    <tr>\n",
              "      <th>1702</th>\n",
              "      <td>Zimbabwe</td>\n",
              "      <td>Africa</td>\n",
              "      <td>2002</td>\n",
              "      <td>39.989</td>\n",
              "      <td>11926563</td>\n",
              "      <td>672.038623</td>\n",
              "    </tr>\n",
              "    <tr>\n",
              "      <th>1703</th>\n",
              "      <td>Zimbabwe</td>\n",
              "      <td>Africa</td>\n",
              "      <td>2007</td>\n",
              "      <td>43.487</td>\n",
              "      <td>12311143</td>\n",
              "      <td>469.709298</td>\n",
              "    </tr>\n",
              "  </tbody>\n",
              "</table>\n",
              "<p>1704 rows × 6 columns</p>\n",
              "</div>"
            ],
            "text/plain": [
              "          country continent  year  lifeExp       pop   gdpPercap\n",
              "0     Afghanistan      Asia  1952   28.801   8425333  779.445314\n",
              "1     Afghanistan      Asia  1957   30.332   9240934  820.853030\n",
              "2     Afghanistan      Asia  1962   31.997  10267083  853.100710\n",
              "3     Afghanistan      Asia  1967   34.020  11537966  836.197138\n",
              "4     Afghanistan      Asia  1972   36.088  13079460  739.981106\n",
              "...           ...       ...   ...      ...       ...         ...\n",
              "1699     Zimbabwe    Africa  1987   62.351   9216418  706.157306\n",
              "1700     Zimbabwe    Africa  1992   60.377  10704340  693.420786\n",
              "1701     Zimbabwe    Africa  1997   46.809  11404948  792.449960\n",
              "1702     Zimbabwe    Africa  2002   39.989  11926563  672.038623\n",
              "1703     Zimbabwe    Africa  2007   43.487  12311143  469.709298\n",
              "\n",
              "[1704 rows x 6 columns]"
            ]
          },
          "metadata": {
            "tags": []
          },
          "execution_count": 30
        }
      ]
    },
    {
      "cell_type": "markdown",
      "metadata": {
        "id": "ntF3dj7coVZ3",
        "colab_type": "text"
      },
      "source": [
        "### view\n",
        "\n",
        "* df.head()\n",
        "* df.tail()\n",
        "* df.info()\n",
        "* df.describe()\n",
        "* df.shape()\n",
        "* df.columns\n",
        "* df.index"
      ]
    },
    {
      "cell_type": "code",
      "metadata": {
        "id": "28lH3AL1oPLQ",
        "colab_type": "code",
        "colab": {
          "base_uri": "https://localhost:8080/",
          "height": 204
        },
        "outputId": "f7219e4d-7356-42eb-8f66-378e856a1fcb"
      },
      "source": [
        "csv_url = \"https://storage.googleapis.com/learn_pd_like_tidyverse/gapminder.csv\"\n",
        "\n",
        "df = pd.read_csv(csv_url)\n",
        "\n",
        "df.head()"
      ],
      "execution_count": 31,
      "outputs": [
        {
          "output_type": "execute_result",
          "data": {
            "text/html": [
              "<div>\n",
              "<style scoped>\n",
              "    .dataframe tbody tr th:only-of-type {\n",
              "        vertical-align: middle;\n",
              "    }\n",
              "\n",
              "    .dataframe tbody tr th {\n",
              "        vertical-align: top;\n",
              "    }\n",
              "\n",
              "    .dataframe thead th {\n",
              "        text-align: right;\n",
              "    }\n",
              "</style>\n",
              "<table border=\"1\" class=\"dataframe\">\n",
              "  <thead>\n",
              "    <tr style=\"text-align: right;\">\n",
              "      <th></th>\n",
              "      <th>country</th>\n",
              "      <th>continent</th>\n",
              "      <th>year</th>\n",
              "      <th>lifeExp</th>\n",
              "      <th>pop</th>\n",
              "      <th>gdpPercap</th>\n",
              "    </tr>\n",
              "  </thead>\n",
              "  <tbody>\n",
              "    <tr>\n",
              "      <th>0</th>\n",
              "      <td>Afghanistan</td>\n",
              "      <td>Asia</td>\n",
              "      <td>1952</td>\n",
              "      <td>28.801</td>\n",
              "      <td>8425333</td>\n",
              "      <td>779.445314</td>\n",
              "    </tr>\n",
              "    <tr>\n",
              "      <th>1</th>\n",
              "      <td>Afghanistan</td>\n",
              "      <td>Asia</td>\n",
              "      <td>1957</td>\n",
              "      <td>30.332</td>\n",
              "      <td>9240934</td>\n",
              "      <td>820.853030</td>\n",
              "    </tr>\n",
              "    <tr>\n",
              "      <th>2</th>\n",
              "      <td>Afghanistan</td>\n",
              "      <td>Asia</td>\n",
              "      <td>1962</td>\n",
              "      <td>31.997</td>\n",
              "      <td>10267083</td>\n",
              "      <td>853.100710</td>\n",
              "    </tr>\n",
              "    <tr>\n",
              "      <th>3</th>\n",
              "      <td>Afghanistan</td>\n",
              "      <td>Asia</td>\n",
              "      <td>1967</td>\n",
              "      <td>34.020</td>\n",
              "      <td>11537966</td>\n",
              "      <td>836.197138</td>\n",
              "    </tr>\n",
              "    <tr>\n",
              "      <th>4</th>\n",
              "      <td>Afghanistan</td>\n",
              "      <td>Asia</td>\n",
              "      <td>1972</td>\n",
              "      <td>36.088</td>\n",
              "      <td>13079460</td>\n",
              "      <td>739.981106</td>\n",
              "    </tr>\n",
              "  </tbody>\n",
              "</table>\n",
              "</div>"
            ],
            "text/plain": [
              "       country continent  year  lifeExp       pop   gdpPercap\n",
              "0  Afghanistan      Asia  1952   28.801   8425333  779.445314\n",
              "1  Afghanistan      Asia  1957   30.332   9240934  820.853030\n",
              "2  Afghanistan      Asia  1962   31.997  10267083  853.100710\n",
              "3  Afghanistan      Asia  1967   34.020  11537966  836.197138\n",
              "4  Afghanistan      Asia  1972   36.088  13079460  739.981106"
            ]
          },
          "metadata": {
            "tags": []
          },
          "execution_count": 31
        }
      ]
    },
    {
      "cell_type": "code",
      "metadata": {
        "id": "QVlMn_6FopIs",
        "colab_type": "code",
        "colab": {
          "base_uri": "https://localhost:8080/",
          "height": 204
        },
        "outputId": "3bbf4e1c-8641-4f8b-cabe-f435ed14f8ed"
      },
      "source": [
        "df.tail()"
      ],
      "execution_count": 32,
      "outputs": [
        {
          "output_type": "execute_result",
          "data": {
            "text/html": [
              "<div>\n",
              "<style scoped>\n",
              "    .dataframe tbody tr th:only-of-type {\n",
              "        vertical-align: middle;\n",
              "    }\n",
              "\n",
              "    .dataframe tbody tr th {\n",
              "        vertical-align: top;\n",
              "    }\n",
              "\n",
              "    .dataframe thead th {\n",
              "        text-align: right;\n",
              "    }\n",
              "</style>\n",
              "<table border=\"1\" class=\"dataframe\">\n",
              "  <thead>\n",
              "    <tr style=\"text-align: right;\">\n",
              "      <th></th>\n",
              "      <th>country</th>\n",
              "      <th>continent</th>\n",
              "      <th>year</th>\n",
              "      <th>lifeExp</th>\n",
              "      <th>pop</th>\n",
              "      <th>gdpPercap</th>\n",
              "    </tr>\n",
              "  </thead>\n",
              "  <tbody>\n",
              "    <tr>\n",
              "      <th>1699</th>\n",
              "      <td>Zimbabwe</td>\n",
              "      <td>Africa</td>\n",
              "      <td>1987</td>\n",
              "      <td>62.351</td>\n",
              "      <td>9216418</td>\n",
              "      <td>706.157306</td>\n",
              "    </tr>\n",
              "    <tr>\n",
              "      <th>1700</th>\n",
              "      <td>Zimbabwe</td>\n",
              "      <td>Africa</td>\n",
              "      <td>1992</td>\n",
              "      <td>60.377</td>\n",
              "      <td>10704340</td>\n",
              "      <td>693.420786</td>\n",
              "    </tr>\n",
              "    <tr>\n",
              "      <th>1701</th>\n",
              "      <td>Zimbabwe</td>\n",
              "      <td>Africa</td>\n",
              "      <td>1997</td>\n",
              "      <td>46.809</td>\n",
              "      <td>11404948</td>\n",
              "      <td>792.449960</td>\n",
              "    </tr>\n",
              "    <tr>\n",
              "      <th>1702</th>\n",
              "      <td>Zimbabwe</td>\n",
              "      <td>Africa</td>\n",
              "      <td>2002</td>\n",
              "      <td>39.989</td>\n",
              "      <td>11926563</td>\n",
              "      <td>672.038623</td>\n",
              "    </tr>\n",
              "    <tr>\n",
              "      <th>1703</th>\n",
              "      <td>Zimbabwe</td>\n",
              "      <td>Africa</td>\n",
              "      <td>2007</td>\n",
              "      <td>43.487</td>\n",
              "      <td>12311143</td>\n",
              "      <td>469.709298</td>\n",
              "    </tr>\n",
              "  </tbody>\n",
              "</table>\n",
              "</div>"
            ],
            "text/plain": [
              "       country continent  year  lifeExp       pop   gdpPercap\n",
              "1699  Zimbabwe    Africa  1987   62.351   9216418  706.157306\n",
              "1700  Zimbabwe    Africa  1992   60.377  10704340  693.420786\n",
              "1701  Zimbabwe    Africa  1997   46.809  11404948  792.449960\n",
              "1702  Zimbabwe    Africa  2002   39.989  11926563  672.038623\n",
              "1703  Zimbabwe    Africa  2007   43.487  12311143  469.709298"
            ]
          },
          "metadata": {
            "tags": []
          },
          "execution_count": 32
        }
      ]
    },
    {
      "cell_type": "code",
      "metadata": {
        "id": "qVTpEhhroqLB",
        "colab_type": "code",
        "colab": {
          "base_uri": "https://localhost:8080/",
          "height": 238
        },
        "outputId": "1e310a26-14fc-4b88-f487-944c60e28db3"
      },
      "source": [
        "df.info()"
      ],
      "execution_count": 33,
      "outputs": [
        {
          "output_type": "stream",
          "text": [
            "<class 'pandas.core.frame.DataFrame'>\n",
            "RangeIndex: 1704 entries, 0 to 1703\n",
            "Data columns (total 6 columns):\n",
            " #   Column     Non-Null Count  Dtype  \n",
            "---  ------     --------------  -----  \n",
            " 0   country    1704 non-null   object \n",
            " 1   continent  1704 non-null   object \n",
            " 2   year       1704 non-null   int64  \n",
            " 3   lifeExp    1704 non-null   float64\n",
            " 4   pop        1704 non-null   int64  \n",
            " 5   gdpPercap  1704 non-null   float64\n",
            "dtypes: float64(2), int64(2), object(2)\n",
            "memory usage: 80.0+ KB\n"
          ],
          "name": "stdout"
        }
      ]
    },
    {
      "cell_type": "code",
      "metadata": {
        "id": "l6jeDcimorJP",
        "colab_type": "code",
        "colab": {
          "base_uri": "https://localhost:8080/",
          "height": 297
        },
        "outputId": "135687af-759a-4ddd-8977-25f25b47b92c"
      },
      "source": [
        "df.describe()"
      ],
      "execution_count": 34,
      "outputs": [
        {
          "output_type": "execute_result",
          "data": {
            "text/html": [
              "<div>\n",
              "<style scoped>\n",
              "    .dataframe tbody tr th:only-of-type {\n",
              "        vertical-align: middle;\n",
              "    }\n",
              "\n",
              "    .dataframe tbody tr th {\n",
              "        vertical-align: top;\n",
              "    }\n",
              "\n",
              "    .dataframe thead th {\n",
              "        text-align: right;\n",
              "    }\n",
              "</style>\n",
              "<table border=\"1\" class=\"dataframe\">\n",
              "  <thead>\n",
              "    <tr style=\"text-align: right;\">\n",
              "      <th></th>\n",
              "      <th>year</th>\n",
              "      <th>lifeExp</th>\n",
              "      <th>pop</th>\n",
              "      <th>gdpPercap</th>\n",
              "    </tr>\n",
              "  </thead>\n",
              "  <tbody>\n",
              "    <tr>\n",
              "      <th>count</th>\n",
              "      <td>1704.00000</td>\n",
              "      <td>1704.000000</td>\n",
              "      <td>1.704000e+03</td>\n",
              "      <td>1704.000000</td>\n",
              "    </tr>\n",
              "    <tr>\n",
              "      <th>mean</th>\n",
              "      <td>1979.50000</td>\n",
              "      <td>59.474439</td>\n",
              "      <td>2.960121e+07</td>\n",
              "      <td>7215.327081</td>\n",
              "    </tr>\n",
              "    <tr>\n",
              "      <th>std</th>\n",
              "      <td>17.26533</td>\n",
              "      <td>12.917107</td>\n",
              "      <td>1.061579e+08</td>\n",
              "      <td>9857.454543</td>\n",
              "    </tr>\n",
              "    <tr>\n",
              "      <th>min</th>\n",
              "      <td>1952.00000</td>\n",
              "      <td>23.599000</td>\n",
              "      <td>6.001100e+04</td>\n",
              "      <td>241.165877</td>\n",
              "    </tr>\n",
              "    <tr>\n",
              "      <th>25%</th>\n",
              "      <td>1965.75000</td>\n",
              "      <td>48.198000</td>\n",
              "      <td>2.793664e+06</td>\n",
              "      <td>1202.060309</td>\n",
              "    </tr>\n",
              "    <tr>\n",
              "      <th>50%</th>\n",
              "      <td>1979.50000</td>\n",
              "      <td>60.712500</td>\n",
              "      <td>7.023596e+06</td>\n",
              "      <td>3531.846989</td>\n",
              "    </tr>\n",
              "    <tr>\n",
              "      <th>75%</th>\n",
              "      <td>1993.25000</td>\n",
              "      <td>70.845500</td>\n",
              "      <td>1.958522e+07</td>\n",
              "      <td>9325.462346</td>\n",
              "    </tr>\n",
              "    <tr>\n",
              "      <th>max</th>\n",
              "      <td>2007.00000</td>\n",
              "      <td>82.603000</td>\n",
              "      <td>1.318683e+09</td>\n",
              "      <td>113523.132900</td>\n",
              "    </tr>\n",
              "  </tbody>\n",
              "</table>\n",
              "</div>"
            ],
            "text/plain": [
              "             year      lifeExp           pop      gdpPercap\n",
              "count  1704.00000  1704.000000  1.704000e+03    1704.000000\n",
              "mean   1979.50000    59.474439  2.960121e+07    7215.327081\n",
              "std      17.26533    12.917107  1.061579e+08    9857.454543\n",
              "min    1952.00000    23.599000  6.001100e+04     241.165877\n",
              "25%    1965.75000    48.198000  2.793664e+06    1202.060309\n",
              "50%    1979.50000    60.712500  7.023596e+06    3531.846989\n",
              "75%    1993.25000    70.845500  1.958522e+07    9325.462346\n",
              "max    2007.00000    82.603000  1.318683e+09  113523.132900"
            ]
          },
          "metadata": {
            "tags": []
          },
          "execution_count": 34
        }
      ]
    },
    {
      "cell_type": "code",
      "metadata": {
        "id": "w_c9dXgsoskl",
        "colab_type": "code",
        "colab": {
          "base_uri": "https://localhost:8080/",
          "height": 34
        },
        "outputId": "c2aa5ff6-ab7d-47c6-b8ab-3820e9a798c9"
      },
      "source": [
        "df.shape"
      ],
      "execution_count": 36,
      "outputs": [
        {
          "output_type": "execute_result",
          "data": {
            "text/plain": [
              "(1704, 6)"
            ]
          },
          "metadata": {
            "tags": []
          },
          "execution_count": 36
        }
      ]
    },
    {
      "cell_type": "code",
      "metadata": {
        "id": "h0Y_b-Z1otnI",
        "colab_type": "code",
        "colab": {
          "base_uri": "https://localhost:8080/",
          "height": 34
        },
        "outputId": "55a5b711-baa5-4c56-f799-14ba76d0f203"
      },
      "source": [
        "df.columns"
      ],
      "execution_count": 37,
      "outputs": [
        {
          "output_type": "execute_result",
          "data": {
            "text/plain": [
              "Index(['country', 'continent', 'year', 'lifeExp', 'pop', 'gdpPercap'], dtype='object')"
            ]
          },
          "metadata": {
            "tags": []
          },
          "execution_count": 37
        }
      ]
    },
    {
      "cell_type": "code",
      "metadata": {
        "id": "7erucz6Do8Bb",
        "colab_type": "code",
        "colab": {
          "base_uri": "https://localhost:8080/",
          "height": 34
        },
        "outputId": "fd6721bb-a199-447b-8701-2e261e357dfc"
      },
      "source": [
        "df.index"
      ],
      "execution_count": 38,
      "outputs": [
        {
          "output_type": "execute_result",
          "data": {
            "text/plain": [
              "RangeIndex(start=0, stop=1704, step=1)"
            ]
          },
          "metadata": {
            "tags": []
          },
          "execution_count": 38
        }
      ]
    },
    {
      "cell_type": "markdown",
      "metadata": {
        "id": "V8XgXFNkpBw6",
        "colab_type": "text"
      },
      "source": [
        "### filter\n",
        "\n",
        "* df.loc[m, n]\n",
        "* df.iloc[m, n]"
      ]
    },
    {
      "cell_type": "code",
      "metadata": {
        "id": "sLeNY433o9uZ",
        "colab_type": "code",
        "colab": {
          "base_uri": "https://localhost:8080/",
          "height": 204
        },
        "outputId": "099eec0e-018d-4667-bc68-99d4e9d2b0ba"
      },
      "source": [
        "numbers = [9, 23, 33, 91, 13]\n",
        "players = [\"Ron Harper\", \"Michael Jordan\", \"Scottie Pippen\", \"Dennis Rodman\", \"Luc Longley\"]\n",
        "\n",
        "df = pd.DataFrame()\n",
        "df[\"number\"] = numbers\n",
        "df[\"player\"] = players\n",
        "df.index = [\"PG\",\"SG\",\"SF\",\"PF\",\"C\"]\n",
        "\n",
        "df"
      ],
      "execution_count": 40,
      "outputs": [
        {
          "output_type": "execute_result",
          "data": {
            "text/html": [
              "<div>\n",
              "<style scoped>\n",
              "    .dataframe tbody tr th:only-of-type {\n",
              "        vertical-align: middle;\n",
              "    }\n",
              "\n",
              "    .dataframe tbody tr th {\n",
              "        vertical-align: top;\n",
              "    }\n",
              "\n",
              "    .dataframe thead th {\n",
              "        text-align: right;\n",
              "    }\n",
              "</style>\n",
              "<table border=\"1\" class=\"dataframe\">\n",
              "  <thead>\n",
              "    <tr style=\"text-align: right;\">\n",
              "      <th></th>\n",
              "      <th>number</th>\n",
              "      <th>player</th>\n",
              "    </tr>\n",
              "  </thead>\n",
              "  <tbody>\n",
              "    <tr>\n",
              "      <th>PG</th>\n",
              "      <td>9</td>\n",
              "      <td>Ron Harper</td>\n",
              "    </tr>\n",
              "    <tr>\n",
              "      <th>SG</th>\n",
              "      <td>23</td>\n",
              "      <td>Michael Jordan</td>\n",
              "    </tr>\n",
              "    <tr>\n",
              "      <th>SF</th>\n",
              "      <td>33</td>\n",
              "      <td>Scottie Pippen</td>\n",
              "    </tr>\n",
              "    <tr>\n",
              "      <th>PF</th>\n",
              "      <td>91</td>\n",
              "      <td>Dennis Rodman</td>\n",
              "    </tr>\n",
              "    <tr>\n",
              "      <th>C</th>\n",
              "      <td>13</td>\n",
              "      <td>Luc Longley</td>\n",
              "    </tr>\n",
              "  </tbody>\n",
              "</table>\n",
              "</div>"
            ],
            "text/plain": [
              "    number          player\n",
              "PG       9      Ron Harper\n",
              "SG      23  Michael Jordan\n",
              "SF      33  Scottie Pippen\n",
              "PF      91   Dennis Rodman\n",
              "C       13     Luc Longley"
            ]
          },
          "metadata": {
            "tags": []
          },
          "execution_count": 40
        }
      ]
    },
    {
      "cell_type": "code",
      "metadata": {
        "id": "0EEycgHApQzJ",
        "colab_type": "code",
        "colab": {
          "base_uri": "https://localhost:8080/",
          "height": 142
        },
        "outputId": "6cc5a9a7-5c22-4723-f16b-df82e7ea8e4b"
      },
      "source": [
        "numbers = [9, 23, 33, 91, 13]\n",
        "players = [\"Ron Harper\", \"Michael Jordan\", \"Scottie Pippen\", \"Dennis Rodman\", \"Luc Longley\"]\n",
        "\n",
        "df = pd.DataFrame()\n",
        "df[\"number\"] = numbers\n",
        "df[\"player\"] = players\n",
        "df.index = [\"PG\",\"SG\",\"SF\",\"PF\",\"C\"]\n",
        "\n",
        "df.loc[[\"PG\",\"SG\",\"PF\"], [\"number\", \"player\"]]\n"
      ],
      "execution_count": 42,
      "outputs": [
        {
          "output_type": "execute_result",
          "data": {
            "text/html": [
              "<div>\n",
              "<style scoped>\n",
              "    .dataframe tbody tr th:only-of-type {\n",
              "        vertical-align: middle;\n",
              "    }\n",
              "\n",
              "    .dataframe tbody tr th {\n",
              "        vertical-align: top;\n",
              "    }\n",
              "\n",
              "    .dataframe thead th {\n",
              "        text-align: right;\n",
              "    }\n",
              "</style>\n",
              "<table border=\"1\" class=\"dataframe\">\n",
              "  <thead>\n",
              "    <tr style=\"text-align: right;\">\n",
              "      <th></th>\n",
              "      <th>number</th>\n",
              "      <th>player</th>\n",
              "    </tr>\n",
              "  </thead>\n",
              "  <tbody>\n",
              "    <tr>\n",
              "      <th>PG</th>\n",
              "      <td>9</td>\n",
              "      <td>Ron Harper</td>\n",
              "    </tr>\n",
              "    <tr>\n",
              "      <th>SG</th>\n",
              "      <td>23</td>\n",
              "      <td>Michael Jordan</td>\n",
              "    </tr>\n",
              "    <tr>\n",
              "      <th>PF</th>\n",
              "      <td>91</td>\n",
              "      <td>Dennis Rodman</td>\n",
              "    </tr>\n",
              "  </tbody>\n",
              "</table>\n",
              "</div>"
            ],
            "text/plain": [
              "    number          player\n",
              "PG       9      Ron Harper\n",
              "SG      23  Michael Jordan\n",
              "PF      91   Dennis Rodman"
            ]
          },
          "metadata": {
            "tags": []
          },
          "execution_count": 42
        }
      ]
    },
    {
      "cell_type": "code",
      "metadata": {
        "id": "aCZ5jgeJp40X",
        "colab_type": "code",
        "colab": {
          "base_uri": "https://localhost:8080/",
          "height": 142
        },
        "outputId": "0ec6d9d8-9f10-43c6-e4ca-53ac758895d9"
      },
      "source": [
        "df.iloc[[1,2,3],[0,1]]"
      ],
      "execution_count": 43,
      "outputs": [
        {
          "output_type": "execute_result",
          "data": {
            "text/html": [
              "<div>\n",
              "<style scoped>\n",
              "    .dataframe tbody tr th:only-of-type {\n",
              "        vertical-align: middle;\n",
              "    }\n",
              "\n",
              "    .dataframe tbody tr th {\n",
              "        vertical-align: top;\n",
              "    }\n",
              "\n",
              "    .dataframe thead th {\n",
              "        text-align: right;\n",
              "    }\n",
              "</style>\n",
              "<table border=\"1\" class=\"dataframe\">\n",
              "  <thead>\n",
              "    <tr style=\"text-align: right;\">\n",
              "      <th></th>\n",
              "      <th>number</th>\n",
              "      <th>player</th>\n",
              "    </tr>\n",
              "  </thead>\n",
              "  <tbody>\n",
              "    <tr>\n",
              "      <th>SG</th>\n",
              "      <td>23</td>\n",
              "      <td>Michael Jordan</td>\n",
              "    </tr>\n",
              "    <tr>\n",
              "      <th>SF</th>\n",
              "      <td>33</td>\n",
              "      <td>Scottie Pippen</td>\n",
              "    </tr>\n",
              "    <tr>\n",
              "      <th>PF</th>\n",
              "      <td>91</td>\n",
              "      <td>Dennis Rodman</td>\n",
              "    </tr>\n",
              "  </tbody>\n",
              "</table>\n",
              "</div>"
            ],
            "text/plain": [
              "    number          player\n",
              "SG      23  Michael Jordan\n",
              "SF      33  Scottie Pippen\n",
              "PF      91   Dennis Rodman"
            ]
          },
          "metadata": {
            "tags": []
          },
          "execution_count": 43
        }
      ]
    },
    {
      "cell_type": "code",
      "metadata": {
        "id": "wAsk6VI4p7_V",
        "colab_type": "code",
        "colab": {
          "base_uri": "https://localhost:8080/",
          "height": 119
        },
        "outputId": "22afd1c3-9300-47c7-f948-40d3e0f18fa3"
      },
      "source": [
        "numbers = [9, 23, 33, 91, 13]\n",
        "players = [\"Ron Harper\", \"Michael Jordan\", \"Scottie Pippen\", \"Dennis Rodman\", \"Luc Longley\"]\n",
        "\n",
        "df = pd.DataFrame()\n",
        "df[\"number\"] = numbers\n",
        "df[\"player\"] = players\n",
        "df.index = [\"PG\",\"SG\",\"SF\",\"PF\",\"C\"]\n",
        "\n",
        "is_trio = df[\"number\"].isin([23,33,91])\n",
        "print(is_trio)\n"
      ],
      "execution_count": 44,
      "outputs": [
        {
          "output_type": "stream",
          "text": [
            "PG    False\n",
            "SG     True\n",
            "SF     True\n",
            "PF     True\n",
            "C     False\n",
            "Name: number, dtype: bool\n"
          ],
          "name": "stdout"
        }
      ]
    },
    {
      "cell_type": "code",
      "metadata": {
        "id": "fxZUpVpOqNQ_",
        "colab_type": "code",
        "colab": {
          "base_uri": "https://localhost:8080/",
          "height": 142
        },
        "outputId": "c215d6f0-8b18-40ee-a91f-383aa093c16d"
      },
      "source": [
        "df[is_trio]"
      ],
      "execution_count": 45,
      "outputs": [
        {
          "output_type": "execute_result",
          "data": {
            "text/html": [
              "<div>\n",
              "<style scoped>\n",
              "    .dataframe tbody tr th:only-of-type {\n",
              "        vertical-align: middle;\n",
              "    }\n",
              "\n",
              "    .dataframe tbody tr th {\n",
              "        vertical-align: top;\n",
              "    }\n",
              "\n",
              "    .dataframe thead th {\n",
              "        text-align: right;\n",
              "    }\n",
              "</style>\n",
              "<table border=\"1\" class=\"dataframe\">\n",
              "  <thead>\n",
              "    <tr style=\"text-align: right;\">\n",
              "      <th></th>\n",
              "      <th>number</th>\n",
              "      <th>player</th>\n",
              "    </tr>\n",
              "  </thead>\n",
              "  <tbody>\n",
              "    <tr>\n",
              "      <th>SG</th>\n",
              "      <td>23</td>\n",
              "      <td>Michael Jordan</td>\n",
              "    </tr>\n",
              "    <tr>\n",
              "      <th>SF</th>\n",
              "      <td>33</td>\n",
              "      <td>Scottie Pippen</td>\n",
              "    </tr>\n",
              "    <tr>\n",
              "      <th>PF</th>\n",
              "      <td>91</td>\n",
              "      <td>Dennis Rodman</td>\n",
              "    </tr>\n",
              "  </tbody>\n",
              "</table>\n",
              "</div>"
            ],
            "text/plain": [
              "    number          player\n",
              "SG      23  Michael Jordan\n",
              "SF      33  Scottie Pippen\n",
              "PF      91   Dennis Rodman"
            ]
          },
          "metadata": {
            "tags": []
          },
          "execution_count": 45
        }
      ]
    },
    {
      "cell_type": "code",
      "metadata": {
        "id": "KPo309V9qN0J",
        "colab_type": "code",
        "colab": {
          "base_uri": "https://localhost:8080/",
          "height": 244
        },
        "outputId": "63d333ea-3ecb-43ee-df51-9ab82938a060"
      },
      "source": [
        "is_trio = df[\"player\"].isin([\"Michael Jordan\", \"Scottie Pippen\", \"Dennis Rodman\"])\n",
        "print(is_trio)\n",
        "df[is_trio]"
      ],
      "execution_count": 48,
      "outputs": [
        {
          "output_type": "stream",
          "text": [
            "PG    False\n",
            "SG     True\n",
            "SF     True\n",
            "PF     True\n",
            "C     False\n",
            "Name: player, dtype: bool\n"
          ],
          "name": "stdout"
        },
        {
          "output_type": "execute_result",
          "data": {
            "text/html": [
              "<div>\n",
              "<style scoped>\n",
              "    .dataframe tbody tr th:only-of-type {\n",
              "        vertical-align: middle;\n",
              "    }\n",
              "\n",
              "    .dataframe tbody tr th {\n",
              "        vertical-align: top;\n",
              "    }\n",
              "\n",
              "    .dataframe thead th {\n",
              "        text-align: right;\n",
              "    }\n",
              "</style>\n",
              "<table border=\"1\" class=\"dataframe\">\n",
              "  <thead>\n",
              "    <tr style=\"text-align: right;\">\n",
              "      <th></th>\n",
              "      <th>number</th>\n",
              "      <th>player</th>\n",
              "    </tr>\n",
              "  </thead>\n",
              "  <tbody>\n",
              "    <tr>\n",
              "      <th>SG</th>\n",
              "      <td>23</td>\n",
              "      <td>Michael Jordan</td>\n",
              "    </tr>\n",
              "    <tr>\n",
              "      <th>SF</th>\n",
              "      <td>33</td>\n",
              "      <td>Scottie Pippen</td>\n",
              "    </tr>\n",
              "    <tr>\n",
              "      <th>PF</th>\n",
              "      <td>91</td>\n",
              "      <td>Dennis Rodman</td>\n",
              "    </tr>\n",
              "  </tbody>\n",
              "</table>\n",
              "</div>"
            ],
            "text/plain": [
              "    number          player\n",
              "SG      23  Michael Jordan\n",
              "SF      33  Scottie Pippen\n",
              "PF      91   Dennis Rodman"
            ]
          },
          "metadata": {
            "tags": []
          },
          "execution_count": 48
        }
      ]
    },
    {
      "cell_type": "markdown",
      "metadata": {
        "id": "cRgEnO7AxYcC",
        "colab_type": "text"
      },
      "source": [
        "### selection\n",
        "\n",
        "df.col or df[\"col\"]\n",
        "\n",
        "df[[\"col1\", \"col2\"]]"
      ]
    },
    {
      "cell_type": "code",
      "metadata": {
        "id": "hkgdZQ9-xNfQ",
        "colab_type": "code",
        "colab": {
          "base_uri": "https://localhost:8080/",
          "height": 323
        },
        "outputId": "c0e51665-0716-4862-d633-6b796d5a91d8"
      },
      "source": [
        "numbers = [9, 23, 33, 91, 13]\n",
        "players = [\"Ron Harper\", \"Michael Jordan\", \"Scottie Pippen\", \"Dennis Rodman\", \"Luc Longley\"]\n",
        "\n",
        "df = pd.DataFrame()\n",
        "df[\"number\"] = numbers\n",
        "df[\"player\"] = players\n",
        "\n",
        "print(df[\"player\"])\n",
        "print(type(df[\"player\"]))\n",
        "df[[\"player\", \"number\"]]"
      ],
      "execution_count": 49,
      "outputs": [
        {
          "output_type": "stream",
          "text": [
            "0        Ron Harper\n",
            "1    Michael Jordan\n",
            "2    Scottie Pippen\n",
            "3     Dennis Rodman\n",
            "4       Luc Longley\n",
            "Name: player, dtype: object\n",
            "<class 'pandas.core.series.Series'>\n"
          ],
          "name": "stdout"
        },
        {
          "output_type": "execute_result",
          "data": {
            "text/html": [
              "<div>\n",
              "<style scoped>\n",
              "    .dataframe tbody tr th:only-of-type {\n",
              "        vertical-align: middle;\n",
              "    }\n",
              "\n",
              "    .dataframe tbody tr th {\n",
              "        vertical-align: top;\n",
              "    }\n",
              "\n",
              "    .dataframe thead th {\n",
              "        text-align: right;\n",
              "    }\n",
              "</style>\n",
              "<table border=\"1\" class=\"dataframe\">\n",
              "  <thead>\n",
              "    <tr style=\"text-align: right;\">\n",
              "      <th></th>\n",
              "      <th>player</th>\n",
              "      <th>number</th>\n",
              "    </tr>\n",
              "  </thead>\n",
              "  <tbody>\n",
              "    <tr>\n",
              "      <th>0</th>\n",
              "      <td>Ron Harper</td>\n",
              "      <td>9</td>\n",
              "    </tr>\n",
              "    <tr>\n",
              "      <th>1</th>\n",
              "      <td>Michael Jordan</td>\n",
              "      <td>23</td>\n",
              "    </tr>\n",
              "    <tr>\n",
              "      <th>2</th>\n",
              "      <td>Scottie Pippen</td>\n",
              "      <td>33</td>\n",
              "    </tr>\n",
              "    <tr>\n",
              "      <th>3</th>\n",
              "      <td>Dennis Rodman</td>\n",
              "      <td>91</td>\n",
              "    </tr>\n",
              "    <tr>\n",
              "      <th>4</th>\n",
              "      <td>Luc Longley</td>\n",
              "      <td>13</td>\n",
              "    </tr>\n",
              "  </tbody>\n",
              "</table>\n",
              "</div>"
            ],
            "text/plain": [
              "           player  number\n",
              "0      Ron Harper       9\n",
              "1  Michael Jordan      23\n",
              "2  Scottie Pippen      33\n",
              "3   Dennis Rodman      91\n",
              "4     Luc Longley      13"
            ]
          },
          "metadata": {
            "tags": []
          },
          "execution_count": 49
        }
      ]
    },
    {
      "cell_type": "code",
      "metadata": {
        "id": "HGxRpsAexvQJ",
        "colab_type": "code",
        "colab": {
          "base_uri": "https://localhost:8080/",
          "height": 136
        },
        "outputId": "cde038c6-e8af-47ad-f5b8-50533d4212ad"
      },
      "source": [
        "numbers = [9, 23, 33, 91, 13]\n",
        "players = [\"Ron Harper\", \"Michael Jordan\", \"Scottie Pippen\", \"Dennis Rodman\", \"Luc Longley\"]\n",
        "\n",
        "df = pd.DataFrame()\n",
        "df[\"number\"] = numbers\n",
        "df[\"player\"] = players\n",
        "\n",
        "print(df.iloc[:,1])\n",
        "print(type(df.iloc[:, 1]))\n"
      ],
      "execution_count": 50,
      "outputs": [
        {
          "output_type": "stream",
          "text": [
            "0        Ron Harper\n",
            "1    Michael Jordan\n",
            "2    Scottie Pippen\n",
            "3     Dennis Rodman\n",
            "4       Luc Longley\n",
            "Name: player, dtype: object\n",
            "<class 'pandas.core.series.Series'>\n"
          ],
          "name": "stdout"
        }
      ]
    },
    {
      "cell_type": "code",
      "metadata": {
        "id": "UTHMgUxUx5do",
        "colab_type": "code",
        "colab": {
          "base_uri": "https://localhost:8080/",
          "height": 204
        },
        "outputId": "dcb53cfe-edc2-42f1-e8ef-e705e38a94c0"
      },
      "source": [
        "df.iloc[:, [1,0]]"
      ],
      "execution_count": 51,
      "outputs": [
        {
          "output_type": "execute_result",
          "data": {
            "text/html": [
              "<div>\n",
              "<style scoped>\n",
              "    .dataframe tbody tr th:only-of-type {\n",
              "        vertical-align: middle;\n",
              "    }\n",
              "\n",
              "    .dataframe tbody tr th {\n",
              "        vertical-align: top;\n",
              "    }\n",
              "\n",
              "    .dataframe thead th {\n",
              "        text-align: right;\n",
              "    }\n",
              "</style>\n",
              "<table border=\"1\" class=\"dataframe\">\n",
              "  <thead>\n",
              "    <tr style=\"text-align: right;\">\n",
              "      <th></th>\n",
              "      <th>player</th>\n",
              "      <th>number</th>\n",
              "    </tr>\n",
              "  </thead>\n",
              "  <tbody>\n",
              "    <tr>\n",
              "      <th>0</th>\n",
              "      <td>Ron Harper</td>\n",
              "      <td>9</td>\n",
              "    </tr>\n",
              "    <tr>\n",
              "      <th>1</th>\n",
              "      <td>Michael Jordan</td>\n",
              "      <td>23</td>\n",
              "    </tr>\n",
              "    <tr>\n",
              "      <th>2</th>\n",
              "      <td>Scottie Pippen</td>\n",
              "      <td>33</td>\n",
              "    </tr>\n",
              "    <tr>\n",
              "      <th>3</th>\n",
              "      <td>Dennis Rodman</td>\n",
              "      <td>91</td>\n",
              "    </tr>\n",
              "    <tr>\n",
              "      <th>4</th>\n",
              "      <td>Luc Longley</td>\n",
              "      <td>13</td>\n",
              "    </tr>\n",
              "  </tbody>\n",
              "</table>\n",
              "</div>"
            ],
            "text/plain": [
              "           player  number\n",
              "0      Ron Harper       9\n",
              "1  Michael Jordan      23\n",
              "2  Scottie Pippen      33\n",
              "3   Dennis Rodman      91\n",
              "4     Luc Longley      13"
            ]
          },
          "metadata": {
            "tags": []
          },
          "execution_count": 51
        }
      ]
    },
    {
      "cell_type": "markdown",
      "metadata": {
        "id": "CX6OohFmyBG5",
        "colab_type": "text"
      },
      "source": [
        "### sort\n",
        "\n",
        "df.sort_index()\n",
        "\n",
        "df.sort_values()\n",
        "\n",
        "ascending=False"
      ]
    },
    {
      "cell_type": "code",
      "metadata": {
        "id": "iPy7K5v1x9lP",
        "colab_type": "code",
        "colab": {
          "base_uri": "https://localhost:8080/",
          "height": 204
        },
        "outputId": "7b5e6f39-96ae-486e-bfd5-d31952f7ea97"
      },
      "source": [
        "numbers = [9, 23, 33, 91, 13]\n",
        "players = [\"Ron Harper\", \"Michael Jordan\", \"Scottie Pippen\", \"Dennis Rodman\", \"Luc Longley\"]\n",
        "\n",
        "df = pd.DataFrame()\n",
        "df[\"number\"] = numbers\n",
        "df[\"player\"] = players\n",
        "df.index = [\"PG\",\"SG\",\"SF\",\"PF\",\"C\"]\n",
        "\n",
        "df.sort_index()"
      ],
      "execution_count": 52,
      "outputs": [
        {
          "output_type": "execute_result",
          "data": {
            "text/html": [
              "<div>\n",
              "<style scoped>\n",
              "    .dataframe tbody tr th:only-of-type {\n",
              "        vertical-align: middle;\n",
              "    }\n",
              "\n",
              "    .dataframe tbody tr th {\n",
              "        vertical-align: top;\n",
              "    }\n",
              "\n",
              "    .dataframe thead th {\n",
              "        text-align: right;\n",
              "    }\n",
              "</style>\n",
              "<table border=\"1\" class=\"dataframe\">\n",
              "  <thead>\n",
              "    <tr style=\"text-align: right;\">\n",
              "      <th></th>\n",
              "      <th>number</th>\n",
              "      <th>player</th>\n",
              "    </tr>\n",
              "  </thead>\n",
              "  <tbody>\n",
              "    <tr>\n",
              "      <th>C</th>\n",
              "      <td>13</td>\n",
              "      <td>Luc Longley</td>\n",
              "    </tr>\n",
              "    <tr>\n",
              "      <th>PF</th>\n",
              "      <td>91</td>\n",
              "      <td>Dennis Rodman</td>\n",
              "    </tr>\n",
              "    <tr>\n",
              "      <th>PG</th>\n",
              "      <td>9</td>\n",
              "      <td>Ron Harper</td>\n",
              "    </tr>\n",
              "    <tr>\n",
              "      <th>SF</th>\n",
              "      <td>33</td>\n",
              "      <td>Scottie Pippen</td>\n",
              "    </tr>\n",
              "    <tr>\n",
              "      <th>SG</th>\n",
              "      <td>23</td>\n",
              "      <td>Michael Jordan</td>\n",
              "    </tr>\n",
              "  </tbody>\n",
              "</table>\n",
              "</div>"
            ],
            "text/plain": [
              "    number          player\n",
              "C       13     Luc Longley\n",
              "PF      91   Dennis Rodman\n",
              "PG       9      Ron Harper\n",
              "SF      33  Scottie Pippen\n",
              "SG      23  Michael Jordan"
            ]
          },
          "metadata": {
            "tags": []
          },
          "execution_count": 52
        }
      ]
    },
    {
      "cell_type": "code",
      "metadata": {
        "id": "paHml0yTyS1O",
        "colab_type": "code",
        "colab": {
          "base_uri": "https://localhost:8080/",
          "height": 204
        },
        "outputId": "ae8d2adf-8f6b-44bd-f961-7af9e417890e"
      },
      "source": [
        "df.sort_index(ascending=False)"
      ],
      "execution_count": 53,
      "outputs": [
        {
          "output_type": "execute_result",
          "data": {
            "text/html": [
              "<div>\n",
              "<style scoped>\n",
              "    .dataframe tbody tr th:only-of-type {\n",
              "        vertical-align: middle;\n",
              "    }\n",
              "\n",
              "    .dataframe tbody tr th {\n",
              "        vertical-align: top;\n",
              "    }\n",
              "\n",
              "    .dataframe thead th {\n",
              "        text-align: right;\n",
              "    }\n",
              "</style>\n",
              "<table border=\"1\" class=\"dataframe\">\n",
              "  <thead>\n",
              "    <tr style=\"text-align: right;\">\n",
              "      <th></th>\n",
              "      <th>number</th>\n",
              "      <th>player</th>\n",
              "    </tr>\n",
              "  </thead>\n",
              "  <tbody>\n",
              "    <tr>\n",
              "      <th>SG</th>\n",
              "      <td>23</td>\n",
              "      <td>Michael Jordan</td>\n",
              "    </tr>\n",
              "    <tr>\n",
              "      <th>SF</th>\n",
              "      <td>33</td>\n",
              "      <td>Scottie Pippen</td>\n",
              "    </tr>\n",
              "    <tr>\n",
              "      <th>PG</th>\n",
              "      <td>9</td>\n",
              "      <td>Ron Harper</td>\n",
              "    </tr>\n",
              "    <tr>\n",
              "      <th>PF</th>\n",
              "      <td>91</td>\n",
              "      <td>Dennis Rodman</td>\n",
              "    </tr>\n",
              "    <tr>\n",
              "      <th>C</th>\n",
              "      <td>13</td>\n",
              "      <td>Luc Longley</td>\n",
              "    </tr>\n",
              "  </tbody>\n",
              "</table>\n",
              "</div>"
            ],
            "text/plain": [
              "    number          player\n",
              "SG      23  Michael Jordan\n",
              "SF      33  Scottie Pippen\n",
              "PG       9      Ron Harper\n",
              "PF      91   Dennis Rodman\n",
              "C       13     Luc Longley"
            ]
          },
          "metadata": {
            "tags": []
          },
          "execution_count": 53
        }
      ]
    },
    {
      "cell_type": "code",
      "metadata": {
        "id": "k51bLTdLyWQV",
        "colab_type": "code",
        "colab": {
          "base_uri": "https://localhost:8080/",
          "height": 204
        },
        "outputId": "4236d468-8435-4753-9392-b280b20b9da1"
      },
      "source": [
        "csv_url = \"https://storage.googleapis.com/learn_pd_like_tidyverse/gapminder.csv\"\n",
        "df = pd.read_csv(csv_url)\n",
        "\n",
        "df.sort_values(by=\"year\").head()"
      ],
      "execution_count": 54,
      "outputs": [
        {
          "output_type": "execute_result",
          "data": {
            "text/html": [
              "<div>\n",
              "<style scoped>\n",
              "    .dataframe tbody tr th:only-of-type {\n",
              "        vertical-align: middle;\n",
              "    }\n",
              "\n",
              "    .dataframe tbody tr th {\n",
              "        vertical-align: top;\n",
              "    }\n",
              "\n",
              "    .dataframe thead th {\n",
              "        text-align: right;\n",
              "    }\n",
              "</style>\n",
              "<table border=\"1\" class=\"dataframe\">\n",
              "  <thead>\n",
              "    <tr style=\"text-align: right;\">\n",
              "      <th></th>\n",
              "      <th>country</th>\n",
              "      <th>continent</th>\n",
              "      <th>year</th>\n",
              "      <th>lifeExp</th>\n",
              "      <th>pop</th>\n",
              "      <th>gdpPercap</th>\n",
              "    </tr>\n",
              "  </thead>\n",
              "  <tbody>\n",
              "    <tr>\n",
              "      <th>0</th>\n",
              "      <td>Afghanistan</td>\n",
              "      <td>Asia</td>\n",
              "      <td>1952</td>\n",
              "      <td>28.801</td>\n",
              "      <td>8425333</td>\n",
              "      <td>779.445314</td>\n",
              "    </tr>\n",
              "    <tr>\n",
              "      <th>528</th>\n",
              "      <td>France</td>\n",
              "      <td>Europe</td>\n",
              "      <td>1952</td>\n",
              "      <td>67.410</td>\n",
              "      <td>42459667</td>\n",
              "      <td>7029.809327</td>\n",
              "    </tr>\n",
              "    <tr>\n",
              "      <th>540</th>\n",
              "      <td>Gabon</td>\n",
              "      <td>Africa</td>\n",
              "      <td>1952</td>\n",
              "      <td>37.003</td>\n",
              "      <td>420702</td>\n",
              "      <td>4293.476475</td>\n",
              "    </tr>\n",
              "    <tr>\n",
              "      <th>1656</th>\n",
              "      <td>West Bank and Gaza</td>\n",
              "      <td>Asia</td>\n",
              "      <td>1952</td>\n",
              "      <td>43.160</td>\n",
              "      <td>1030585</td>\n",
              "      <td>1515.592329</td>\n",
              "    </tr>\n",
              "    <tr>\n",
              "      <th>552</th>\n",
              "      <td>Gambia</td>\n",
              "      <td>Africa</td>\n",
              "      <td>1952</td>\n",
              "      <td>30.000</td>\n",
              "      <td>284320</td>\n",
              "      <td>485.230659</td>\n",
              "    </tr>\n",
              "  </tbody>\n",
              "</table>\n",
              "</div>"
            ],
            "text/plain": [
              "                 country continent  year  lifeExp       pop    gdpPercap\n",
              "0            Afghanistan      Asia  1952   28.801   8425333   779.445314\n",
              "528               France    Europe  1952   67.410  42459667  7029.809327\n",
              "540                Gabon    Africa  1952   37.003    420702  4293.476475\n",
              "1656  West Bank and Gaza      Asia  1952   43.160   1030585  1515.592329\n",
              "552               Gambia    Africa  1952   30.000    284320   485.230659"
            ]
          },
          "metadata": {
            "tags": []
          },
          "execution_count": 54
        }
      ]
    },
    {
      "cell_type": "code",
      "metadata": {
        "id": "0CD5FKRoyk1W",
        "colab_type": "code",
        "colab": {
          "base_uri": "https://localhost:8080/",
          "height": 204
        },
        "outputId": "da724ae0-2f05-434a-ac75-939931aa5045"
      },
      "source": [
        "df.sort_values(by=\"year\", ascending=False).head()"
      ],
      "execution_count": 55,
      "outputs": [
        {
          "output_type": "execute_result",
          "data": {
            "text/html": [
              "<div>\n",
              "<style scoped>\n",
              "    .dataframe tbody tr th:only-of-type {\n",
              "        vertical-align: middle;\n",
              "    }\n",
              "\n",
              "    .dataframe tbody tr th {\n",
              "        vertical-align: top;\n",
              "    }\n",
              "\n",
              "    .dataframe thead th {\n",
              "        text-align: right;\n",
              "    }\n",
              "</style>\n",
              "<table border=\"1\" class=\"dataframe\">\n",
              "  <thead>\n",
              "    <tr style=\"text-align: right;\">\n",
              "      <th></th>\n",
              "      <th>country</th>\n",
              "      <th>continent</th>\n",
              "      <th>year</th>\n",
              "      <th>lifeExp</th>\n",
              "      <th>pop</th>\n",
              "      <th>gdpPercap</th>\n",
              "    </tr>\n",
              "  </thead>\n",
              "  <tbody>\n",
              "    <tr>\n",
              "      <th>1703</th>\n",
              "      <td>Zimbabwe</td>\n",
              "      <td>Africa</td>\n",
              "      <td>2007</td>\n",
              "      <td>43.487</td>\n",
              "      <td>12311143</td>\n",
              "      <td>469.709298</td>\n",
              "    </tr>\n",
              "    <tr>\n",
              "      <th>491</th>\n",
              "      <td>Equatorial Guinea</td>\n",
              "      <td>Africa</td>\n",
              "      <td>2007</td>\n",
              "      <td>51.579</td>\n",
              "      <td>551201</td>\n",
              "      <td>12154.089750</td>\n",
              "    </tr>\n",
              "    <tr>\n",
              "      <th>515</th>\n",
              "      <td>Ethiopia</td>\n",
              "      <td>Africa</td>\n",
              "      <td>2007</td>\n",
              "      <td>52.947</td>\n",
              "      <td>76511887</td>\n",
              "      <td>690.805576</td>\n",
              "    </tr>\n",
              "    <tr>\n",
              "      <th>527</th>\n",
              "      <td>Finland</td>\n",
              "      <td>Europe</td>\n",
              "      <td>2007</td>\n",
              "      <td>79.313</td>\n",
              "      <td>5238460</td>\n",
              "      <td>33207.084400</td>\n",
              "    </tr>\n",
              "    <tr>\n",
              "      <th>539</th>\n",
              "      <td>France</td>\n",
              "      <td>Europe</td>\n",
              "      <td>2007</td>\n",
              "      <td>80.657</td>\n",
              "      <td>61083916</td>\n",
              "      <td>30470.016700</td>\n",
              "    </tr>\n",
              "  </tbody>\n",
              "</table>\n",
              "</div>"
            ],
            "text/plain": [
              "                country continent  year  lifeExp       pop     gdpPercap\n",
              "1703           Zimbabwe    Africa  2007   43.487  12311143    469.709298\n",
              "491   Equatorial Guinea    Africa  2007   51.579    551201  12154.089750\n",
              "515            Ethiopia    Africa  2007   52.947  76511887    690.805576\n",
              "527             Finland    Europe  2007   79.313   5238460  33207.084400\n",
              "539              France    Europe  2007   80.657  61083916  30470.016700"
            ]
          },
          "metadata": {
            "tags": []
          },
          "execution_count": 55
        }
      ]
    },
    {
      "cell_type": "code",
      "metadata": {
        "id": "Z_JMfxHoyqDS",
        "colab_type": "code",
        "colab": {
          "base_uri": "https://localhost:8080/",
          "height": 204
        },
        "outputId": "d37f3dfc-aebe-4958-d851-ff5305f45f6d"
      },
      "source": [
        "df.sort_values(by=[\"year\",\"continent\"],ascending=[True,False]).head()"
      ],
      "execution_count": 56,
      "outputs": [
        {
          "output_type": "execute_result",
          "data": {
            "text/html": [
              "<div>\n",
              "<style scoped>\n",
              "    .dataframe tbody tr th:only-of-type {\n",
              "        vertical-align: middle;\n",
              "    }\n",
              "\n",
              "    .dataframe tbody tr th {\n",
              "        vertical-align: top;\n",
              "    }\n",
              "\n",
              "    .dataframe thead th {\n",
              "        text-align: right;\n",
              "    }\n",
              "</style>\n",
              "<table border=\"1\" class=\"dataframe\">\n",
              "  <thead>\n",
              "    <tr style=\"text-align: right;\">\n",
              "      <th></th>\n",
              "      <th>country</th>\n",
              "      <th>continent</th>\n",
              "      <th>year</th>\n",
              "      <th>lifeExp</th>\n",
              "      <th>pop</th>\n",
              "      <th>gdpPercap</th>\n",
              "    </tr>\n",
              "  </thead>\n",
              "  <tbody>\n",
              "    <tr>\n",
              "      <th>60</th>\n",
              "      <td>Australia</td>\n",
              "      <td>Oceania</td>\n",
              "      <td>1952</td>\n",
              "      <td>69.12</td>\n",
              "      <td>8691212</td>\n",
              "      <td>10039.595640</td>\n",
              "    </tr>\n",
              "    <tr>\n",
              "      <th>1092</th>\n",
              "      <td>New Zealand</td>\n",
              "      <td>Oceania</td>\n",
              "      <td>1952</td>\n",
              "      <td>69.39</td>\n",
              "      <td>1994794</td>\n",
              "      <td>10556.575660</td>\n",
              "    </tr>\n",
              "    <tr>\n",
              "      <th>12</th>\n",
              "      <td>Albania</td>\n",
              "      <td>Europe</td>\n",
              "      <td>1952</td>\n",
              "      <td>55.23</td>\n",
              "      <td>1282697</td>\n",
              "      <td>1601.056136</td>\n",
              "    </tr>\n",
              "    <tr>\n",
              "      <th>72</th>\n",
              "      <td>Austria</td>\n",
              "      <td>Europe</td>\n",
              "      <td>1952</td>\n",
              "      <td>66.80</td>\n",
              "      <td>6927772</td>\n",
              "      <td>6137.076492</td>\n",
              "    </tr>\n",
              "    <tr>\n",
              "      <th>108</th>\n",
              "      <td>Belgium</td>\n",
              "      <td>Europe</td>\n",
              "      <td>1952</td>\n",
              "      <td>68.00</td>\n",
              "      <td>8730405</td>\n",
              "      <td>8343.105127</td>\n",
              "    </tr>\n",
              "  </tbody>\n",
              "</table>\n",
              "</div>"
            ],
            "text/plain": [
              "          country continent  year  lifeExp      pop     gdpPercap\n",
              "60      Australia   Oceania  1952    69.12  8691212  10039.595640\n",
              "1092  New Zealand   Oceania  1952    69.39  1994794  10556.575660\n",
              "12        Albania    Europe  1952    55.23  1282697   1601.056136\n",
              "72        Austria    Europe  1952    66.80  6927772   6137.076492\n",
              "108       Belgium    Europe  1952    68.00  8730405   8343.105127"
            ]
          },
          "metadata": {
            "tags": []
          },
          "execution_count": 56
        }
      ]
    },
    {
      "cell_type": "markdown",
      "metadata": {
        "id": "Lv6M5c-Jy8D_",
        "colab_type": "text"
      },
      "source": [
        "### New column\n",
        "\n",
        "* 衍生變數\n",
        "* 非衍生變數"
      ]
    },
    {
      "cell_type": "code",
      "metadata": {
        "id": "MVNb9ljGy0Lg",
        "colab_type": "code",
        "colab": {
          "base_uri": "https://localhost:8080/",
          "height": 204
        },
        "outputId": "c476833a-1701-4f5d-e680-0d07704c0257"
      },
      "source": [
        "numbers = [9, 23, 33, 91, 13]\n",
        "players = [\"Ron Harper\", \"Michael Jordan\", \"Scottie Pippen\", \"Dennis Rodman\", \"Luc Longley\"]\n",
        "\n",
        "df = pd.DataFrame()\n",
        "df[\"number\"] = numbers\n",
        "df[\"player\"] = players\n",
        "\n",
        "df[\"last_name\"] = df[\"player\"].map(lambda x: x.split()[1])\n",
        "df"
      ],
      "execution_count": 57,
      "outputs": [
        {
          "output_type": "execute_result",
          "data": {
            "text/html": [
              "<div>\n",
              "<style scoped>\n",
              "    .dataframe tbody tr th:only-of-type {\n",
              "        vertical-align: middle;\n",
              "    }\n",
              "\n",
              "    .dataframe tbody tr th {\n",
              "        vertical-align: top;\n",
              "    }\n",
              "\n",
              "    .dataframe thead th {\n",
              "        text-align: right;\n",
              "    }\n",
              "</style>\n",
              "<table border=\"1\" class=\"dataframe\">\n",
              "  <thead>\n",
              "    <tr style=\"text-align: right;\">\n",
              "      <th></th>\n",
              "      <th>number</th>\n",
              "      <th>player</th>\n",
              "      <th>last_name</th>\n",
              "    </tr>\n",
              "  </thead>\n",
              "  <tbody>\n",
              "    <tr>\n",
              "      <th>0</th>\n",
              "      <td>9</td>\n",
              "      <td>Ron Harper</td>\n",
              "      <td>Harper</td>\n",
              "    </tr>\n",
              "    <tr>\n",
              "      <th>1</th>\n",
              "      <td>23</td>\n",
              "      <td>Michael Jordan</td>\n",
              "      <td>Jordan</td>\n",
              "    </tr>\n",
              "    <tr>\n",
              "      <th>2</th>\n",
              "      <td>33</td>\n",
              "      <td>Scottie Pippen</td>\n",
              "      <td>Pippen</td>\n",
              "    </tr>\n",
              "    <tr>\n",
              "      <th>3</th>\n",
              "      <td>91</td>\n",
              "      <td>Dennis Rodman</td>\n",
              "      <td>Rodman</td>\n",
              "    </tr>\n",
              "    <tr>\n",
              "      <th>4</th>\n",
              "      <td>13</td>\n",
              "      <td>Luc Longley</td>\n",
              "      <td>Longley</td>\n",
              "    </tr>\n",
              "  </tbody>\n",
              "</table>\n",
              "</div>"
            ],
            "text/plain": [
              "   number          player last_name\n",
              "0       9      Ron Harper    Harper\n",
              "1      23  Michael Jordan    Jordan\n",
              "2      33  Scottie Pippen    Pippen\n",
              "3      91   Dennis Rodman    Rodman\n",
              "4      13     Luc Longley   Longley"
            ]
          },
          "metadata": {
            "tags": []
          },
          "execution_count": 57
        }
      ]
    },
    {
      "cell_type": "code",
      "metadata": {
        "id": "xF2fj1eVzWS_",
        "colab_type": "code",
        "colab": {
          "base_uri": "https://localhost:8080/",
          "height": 204
        },
        "outputId": "d340bf79-1407-45a1-c432-5fe932d7aa0b"
      },
      "source": [
        "numbers = [9, 23, 33, 91, 13]\n",
        "players = [\"Ron Harper\", \"Michael Jordan\", \"Scottie Pippen\", \"Dennis Rodman\", \"Luc Longley\"]\n",
        "\n",
        "df = pd.DataFrame()\n",
        "df[\"number\"] = numbers\n",
        "df[\"player\"] = players\n",
        "df[\"team\"] = \"Chicago Bulls\"\n",
        "df[\"height\"] = [\"6-6\",\"6-6\",\"6-8\",\"6-7\",\"7-2\"]\n",
        "\n",
        "df"
      ],
      "execution_count": 58,
      "outputs": [
        {
          "output_type": "execute_result",
          "data": {
            "text/html": [
              "<div>\n",
              "<style scoped>\n",
              "    .dataframe tbody tr th:only-of-type {\n",
              "        vertical-align: middle;\n",
              "    }\n",
              "\n",
              "    .dataframe tbody tr th {\n",
              "        vertical-align: top;\n",
              "    }\n",
              "\n",
              "    .dataframe thead th {\n",
              "        text-align: right;\n",
              "    }\n",
              "</style>\n",
              "<table border=\"1\" class=\"dataframe\">\n",
              "  <thead>\n",
              "    <tr style=\"text-align: right;\">\n",
              "      <th></th>\n",
              "      <th>number</th>\n",
              "      <th>player</th>\n",
              "      <th>team</th>\n",
              "      <th>height</th>\n",
              "    </tr>\n",
              "  </thead>\n",
              "  <tbody>\n",
              "    <tr>\n",
              "      <th>0</th>\n",
              "      <td>9</td>\n",
              "      <td>Ron Harper</td>\n",
              "      <td>Chicago Bulls</td>\n",
              "      <td>6-6</td>\n",
              "    </tr>\n",
              "    <tr>\n",
              "      <th>1</th>\n",
              "      <td>23</td>\n",
              "      <td>Michael Jordan</td>\n",
              "      <td>Chicago Bulls</td>\n",
              "      <td>6-6</td>\n",
              "    </tr>\n",
              "    <tr>\n",
              "      <th>2</th>\n",
              "      <td>33</td>\n",
              "      <td>Scottie Pippen</td>\n",
              "      <td>Chicago Bulls</td>\n",
              "      <td>6-8</td>\n",
              "    </tr>\n",
              "    <tr>\n",
              "      <th>3</th>\n",
              "      <td>91</td>\n",
              "      <td>Dennis Rodman</td>\n",
              "      <td>Chicago Bulls</td>\n",
              "      <td>6-7</td>\n",
              "    </tr>\n",
              "    <tr>\n",
              "      <th>4</th>\n",
              "      <td>13</td>\n",
              "      <td>Luc Longley</td>\n",
              "      <td>Chicago Bulls</td>\n",
              "      <td>7-2</td>\n",
              "    </tr>\n",
              "  </tbody>\n",
              "</table>\n",
              "</div>"
            ],
            "text/plain": [
              "   number          player           team height\n",
              "0       9      Ron Harper  Chicago Bulls    6-6\n",
              "1      23  Michael Jordan  Chicago Bulls    6-6\n",
              "2      33  Scottie Pippen  Chicago Bulls    6-8\n",
              "3      91   Dennis Rodman  Chicago Bulls    6-7\n",
              "4      13     Luc Longley  Chicago Bulls    7-2"
            ]
          },
          "metadata": {
            "tags": []
          },
          "execution_count": 58
        }
      ]
    },
    {
      "cell_type": "markdown",
      "metadata": {
        "id": "Q3upT79mz0_o",
        "colab_type": "text"
      },
      "source": [
        "### New row"
      ]
    },
    {
      "cell_type": "code",
      "metadata": {
        "id": "6glGhuS4zs73",
        "colab_type": "code",
        "colab": {
          "base_uri": "https://localhost:8080/",
          "height": 235
        },
        "outputId": "31a05dd8-2521-4448-9c3c-1a79cfe59f87"
      },
      "source": [
        "numbers = [9, 23, 33, 91, 13]\n",
        "players = [\"Ron Harper\", \"Michael Jordan\", \"Scottie Pippen\", \"Dennis Rodman\", \"Luc Longley\"]\n",
        "\n",
        "df = pd.DataFrame()\n",
        "df[\"number\"] = numbers\n",
        "df[\"player\"] = players\n",
        "\n",
        "toni_kukoc = pd.DataFrame()\n",
        "toni_kukoc[\"number\"] = [7]\n",
        "toni_kukoc[\"player\"] = [\"Toni Kukoc\"]\n",
        "\n",
        "df = df.append(toni_kukoc)\n",
        "df = df.reset_index(drop=True)\n",
        "\n",
        "df"
      ],
      "execution_count": 60,
      "outputs": [
        {
          "output_type": "execute_result",
          "data": {
            "text/html": [
              "<div>\n",
              "<style scoped>\n",
              "    .dataframe tbody tr th:only-of-type {\n",
              "        vertical-align: middle;\n",
              "    }\n",
              "\n",
              "    .dataframe tbody tr th {\n",
              "        vertical-align: top;\n",
              "    }\n",
              "\n",
              "    .dataframe thead th {\n",
              "        text-align: right;\n",
              "    }\n",
              "</style>\n",
              "<table border=\"1\" class=\"dataframe\">\n",
              "  <thead>\n",
              "    <tr style=\"text-align: right;\">\n",
              "      <th></th>\n",
              "      <th>number</th>\n",
              "      <th>player</th>\n",
              "    </tr>\n",
              "  </thead>\n",
              "  <tbody>\n",
              "    <tr>\n",
              "      <th>0</th>\n",
              "      <td>9</td>\n",
              "      <td>Ron Harper</td>\n",
              "    </tr>\n",
              "    <tr>\n",
              "      <th>1</th>\n",
              "      <td>23</td>\n",
              "      <td>Michael Jordan</td>\n",
              "    </tr>\n",
              "    <tr>\n",
              "      <th>2</th>\n",
              "      <td>33</td>\n",
              "      <td>Scottie Pippen</td>\n",
              "    </tr>\n",
              "    <tr>\n",
              "      <th>3</th>\n",
              "      <td>91</td>\n",
              "      <td>Dennis Rodman</td>\n",
              "    </tr>\n",
              "    <tr>\n",
              "      <th>4</th>\n",
              "      <td>13</td>\n",
              "      <td>Luc Longley</td>\n",
              "    </tr>\n",
              "    <tr>\n",
              "      <th>5</th>\n",
              "      <td>7</td>\n",
              "      <td>Toni Kukoc</td>\n",
              "    </tr>\n",
              "  </tbody>\n",
              "</table>\n",
              "</div>"
            ],
            "text/plain": [
              "   number          player\n",
              "0       9      Ron Harper\n",
              "1      23  Michael Jordan\n",
              "2      33  Scottie Pippen\n",
              "3      91   Dennis Rodman\n",
              "4      13     Luc Longley\n",
              "5       7      Toni Kukoc"
            ]
          },
          "metadata": {
            "tags": []
          },
          "execution_count": 60
        }
      ]
    },
    {
      "cell_type": "markdown",
      "metadata": {
        "id": "W5B5ydJr0QYJ",
        "colab_type": "text"
      },
      "source": [
        "### summary"
      ]
    },
    {
      "cell_type": "code",
      "metadata": {
        "id": "3sZNQ4qV0HRS",
        "colab_type": "code",
        "colab": {
          "base_uri": "https://localhost:8080/",
          "height": 34
        },
        "outputId": "60f2131f-0447-4e63-e2b0-d884ef45f92f"
      },
      "source": [
        "csv_url = \"https://storage.googleapis.com/learn_pd_like_tidyverse/gapminder.csv\"\n",
        "df = pd.read_csv(csv_url)\n",
        "\n",
        "df[df.year==2007][\"pop\"].sum()"
      ],
      "execution_count": 61,
      "outputs": [
        {
          "output_type": "execute_result",
          "data": {
            "text/plain": [
              "6251013179"
            ]
          },
          "metadata": {
            "tags": []
          },
          "execution_count": 61
        }
      ]
    },
    {
      "cell_type": "markdown",
      "metadata": {
        "id": "C3VOEylcdQ8C",
        "colab_type": "text"
      },
      "source": [
        "### group\n"
      ]
    },
    {
      "cell_type": "code",
      "metadata": {
        "id": "SYPbna0hdWbh",
        "colab_type": "code",
        "colab": {
          "base_uri": "https://localhost:8080/",
          "height": 136
        },
        "outputId": "b5205666-1e0e-49e3-8c60-bf61c50c06c4"
      },
      "source": [
        "import pandas as pd\n",
        "\n",
        "csv_url = \"https://storage.googleapis.com/learn_pd_like_tidyverse/gapminder.csv\"\n",
        "df = pd.read_csv(csv_url)\n",
        "\n",
        "grouped = df[df.year == 2007].groupby(\"continent\")\n",
        "grouped[\"pop\"].sum()"
      ],
      "execution_count": 11,
      "outputs": [
        {
          "output_type": "execute_result",
          "data": {
            "text/plain": [
              "continent\n",
              "Africa       929539692\n",
              "Americas     898871184\n",
              "Asia        3811953827\n",
              "Europe       586098529\n",
              "Oceania       24549947\n",
              "Name: pop, dtype: int64"
            ]
          },
          "metadata": {
            "tags": []
          },
          "execution_count": 11
        }
      ]
    },
    {
      "cell_type": "code",
      "metadata": {
        "id": "mRKfRLE4dtxu",
        "colab_type": "code",
        "colab": {
          "base_uri": "https://localhost:8080/",
          "height": 221
        },
        "outputId": "1cf960d3-6142-4192-e13a-97f92712c50e"
      },
      "source": [
        "grouped = df.groupby([\"year\", \"continent\"])\n",
        "grouped[\"pop\"].sum().tail(n = 10)"
      ],
      "execution_count": 14,
      "outputs": [
        {
          "output_type": "execute_result",
          "data": {
            "text/plain": [
              "year  continent\n",
              "2002  Africa        833723916\n",
              "      Americas      849772762\n",
              "      Asia         3601802203\n",
              "      Europe        578223869\n",
              "      Oceania        23454829\n",
              "2007  Africa        929539692\n",
              "      Americas      898871184\n",
              "      Asia         3811953827\n",
              "      Europe        586098529\n",
              "      Oceania        24549947\n",
              "Name: pop, dtype: int64"
            ]
          },
          "metadata": {
            "tags": []
          },
          "execution_count": 14
        }
      ]
    },
    {
      "cell_type": "markdown",
      "metadata": {
        "id": "SRDk6OnneOBk",
        "colab_type": "text"
      },
      "source": [
        "## Chapter 8 Adavance data operation"
      ]
    },
    {
      "cell_type": "markdown",
      "metadata": {
        "id": "IPuYWH32eWix",
        "colab_type": "text"
      },
      "source": [
        "### adjust type"
      ]
    },
    {
      "cell_type": "code",
      "metadata": {
        "id": "OrcgEFamd76n",
        "colab_type": "code",
        "colab": {
          "base_uri": "https://localhost:8080/",
          "height": 51
        },
        "outputId": "dd8f5308-5ea4-476a-a357-fd6d265613b0"
      },
      "source": [
        "import pandas as pd\n",
        "\n",
        "numbers = [9, 23, 33, 91, 13]\n",
        "players = [\"Ron Harper\", \"Michael Jordan\", \"Scottie Pippen\", \"Dennis Rodman\", \"Luc Longley\"]\n",
        "\n",
        "df = pd.DataFrame()\n",
        "df[\"number\"] = numbers\n",
        "df[\"player\"] = players\n",
        "\n",
        "print(df['number'].dtype)\n",
        "print(df['number'].values)"
      ],
      "execution_count": 15,
      "outputs": [
        {
          "output_type": "stream",
          "text": [
            "int64\n",
            "[ 9 23 33 91 13]\n"
          ],
          "name": "stdout"
        }
      ]
    },
    {
      "cell_type": "code",
      "metadata": {
        "id": "AI6Pahu2eqqt",
        "colab_type": "code",
        "colab": {
          "base_uri": "https://localhost:8080/",
          "height": 51
        },
        "outputId": "90359e7e-79e7-4a9b-eb5b-15835258bfd1"
      },
      "source": [
        "df[\"number\"] = df[\"number\"].astype(str)\n",
        "print(df['number'].dtype)\n",
        "print(df['number'].values)"
      ],
      "execution_count": 16,
      "outputs": [
        {
          "output_type": "stream",
          "text": [
            "object\n",
            "['9' '23' '33' '91' '13']\n"
          ],
          "name": "stdout"
        }
      ]
    },
    {
      "cell_type": "markdown",
      "metadata": {
        "id": "wEMV6aTYe2FJ",
        "colab_type": "text"
      },
      "source": [
        "### map"
      ]
    },
    {
      "cell_type": "code",
      "metadata": {
        "id": "LlW1OyOTeygE",
        "colab_type": "code",
        "colab": {
          "base_uri": "https://localhost:8080/",
          "height": 204
        },
        "outputId": "681d60bf-0a75-49cd-bc35-211e79504529"
      },
      "source": [
        "\n",
        "numbers = [9, 23, 33, 91, 13]\n",
        "players = [\"Ron Harper\", \"Michael Jordan\", \"Scottie Pippen\", \"Dennis Rodman\", \"Luc Longley\"]\n",
        "\n",
        "df = pd.DataFrame()\n",
        "df[\"number\"] = numbers\n",
        "df[\"player\"] = players\n",
        "\n",
        "position_dict = {\n",
        "    \"Ron Harper\": \"PG\",\n",
        "    \"Michael Jordan\": \"SG\",\n",
        "    \"Scottie Pippen\": \"SF\",\n",
        "    \"Dennis Rodman\": \"PF\",\n",
        "    \"Luc Longley\": \"C\"\n",
        "}\n",
        "\n",
        "df[\"position\"] = df[\"player\"].map(position_dict)\n",
        "df"
      ],
      "execution_count": 17,
      "outputs": [
        {
          "output_type": "execute_result",
          "data": {
            "text/html": [
              "<div>\n",
              "<style scoped>\n",
              "    .dataframe tbody tr th:only-of-type {\n",
              "        vertical-align: middle;\n",
              "    }\n",
              "\n",
              "    .dataframe tbody tr th {\n",
              "        vertical-align: top;\n",
              "    }\n",
              "\n",
              "    .dataframe thead th {\n",
              "        text-align: right;\n",
              "    }\n",
              "</style>\n",
              "<table border=\"1\" class=\"dataframe\">\n",
              "  <thead>\n",
              "    <tr style=\"text-align: right;\">\n",
              "      <th></th>\n",
              "      <th>number</th>\n",
              "      <th>player</th>\n",
              "      <th>position</th>\n",
              "    </tr>\n",
              "  </thead>\n",
              "  <tbody>\n",
              "    <tr>\n",
              "      <th>0</th>\n",
              "      <td>9</td>\n",
              "      <td>Ron Harper</td>\n",
              "      <td>PG</td>\n",
              "    </tr>\n",
              "    <tr>\n",
              "      <th>1</th>\n",
              "      <td>23</td>\n",
              "      <td>Michael Jordan</td>\n",
              "      <td>SG</td>\n",
              "    </tr>\n",
              "    <tr>\n",
              "      <th>2</th>\n",
              "      <td>33</td>\n",
              "      <td>Scottie Pippen</td>\n",
              "      <td>SF</td>\n",
              "    </tr>\n",
              "    <tr>\n",
              "      <th>3</th>\n",
              "      <td>91</td>\n",
              "      <td>Dennis Rodman</td>\n",
              "      <td>PF</td>\n",
              "    </tr>\n",
              "    <tr>\n",
              "      <th>4</th>\n",
              "      <td>13</td>\n",
              "      <td>Luc Longley</td>\n",
              "      <td>C</td>\n",
              "    </tr>\n",
              "  </tbody>\n",
              "</table>\n",
              "</div>"
            ],
            "text/plain": [
              "   number          player position\n",
              "0       9      Ron Harper       PG\n",
              "1      23  Michael Jordan       SG\n",
              "2      33  Scottie Pippen       SF\n",
              "3      91   Dennis Rodman       PF\n",
              "4      13     Luc Longley        C"
            ]
          },
          "metadata": {
            "tags": []
          },
          "execution_count": 17
        }
      ]
    },
    {
      "cell_type": "code",
      "metadata": {
        "id": "Da5SKvUEfXVa",
        "colab_type": "code",
        "colab": {
          "base_uri": "https://localhost:8080/",
          "height": 204
        },
        "outputId": "21a42dba-34e9-45b9-fe96-88f887d212dd"
      },
      "source": [
        "court_dict = {\n",
        "    \"PG\": \"Back\",\n",
        "    \"SG\": \"Back\",\n",
        "    \"SF\": \"Front\",\n",
        "    \"PF\": \"Front\",\n",
        "    \"C\": \"Front\"\n",
        "}\n",
        "df[\"court\"] = df[\"position\"].map(court_dict)\n",
        "df"
      ],
      "execution_count": 18,
      "outputs": [
        {
          "output_type": "execute_result",
          "data": {
            "text/html": [
              "<div>\n",
              "<style scoped>\n",
              "    .dataframe tbody tr th:only-of-type {\n",
              "        vertical-align: middle;\n",
              "    }\n",
              "\n",
              "    .dataframe tbody tr th {\n",
              "        vertical-align: top;\n",
              "    }\n",
              "\n",
              "    .dataframe thead th {\n",
              "        text-align: right;\n",
              "    }\n",
              "</style>\n",
              "<table border=\"1\" class=\"dataframe\">\n",
              "  <thead>\n",
              "    <tr style=\"text-align: right;\">\n",
              "      <th></th>\n",
              "      <th>number</th>\n",
              "      <th>player</th>\n",
              "      <th>position</th>\n",
              "      <th>court</th>\n",
              "    </tr>\n",
              "  </thead>\n",
              "  <tbody>\n",
              "    <tr>\n",
              "      <th>0</th>\n",
              "      <td>9</td>\n",
              "      <td>Ron Harper</td>\n",
              "      <td>PG</td>\n",
              "      <td>Back</td>\n",
              "    </tr>\n",
              "    <tr>\n",
              "      <th>1</th>\n",
              "      <td>23</td>\n",
              "      <td>Michael Jordan</td>\n",
              "      <td>SG</td>\n",
              "      <td>Back</td>\n",
              "    </tr>\n",
              "    <tr>\n",
              "      <th>2</th>\n",
              "      <td>33</td>\n",
              "      <td>Scottie Pippen</td>\n",
              "      <td>SF</td>\n",
              "      <td>Front</td>\n",
              "    </tr>\n",
              "    <tr>\n",
              "      <th>3</th>\n",
              "      <td>91</td>\n",
              "      <td>Dennis Rodman</td>\n",
              "      <td>PF</td>\n",
              "      <td>Front</td>\n",
              "    </tr>\n",
              "    <tr>\n",
              "      <th>4</th>\n",
              "      <td>13</td>\n",
              "      <td>Luc Longley</td>\n",
              "      <td>C</td>\n",
              "      <td>Front</td>\n",
              "    </tr>\n",
              "  </tbody>\n",
              "</table>\n",
              "</div>"
            ],
            "text/plain": [
              "   number          player position  court\n",
              "0       9      Ron Harper       PG   Back\n",
              "1      23  Michael Jordan       SG   Back\n",
              "2      33  Scottie Pippen       SF  Front\n",
              "3      91   Dennis Rodman       PF  Front\n",
              "4      13     Luc Longley        C  Front"
            ]
          },
          "metadata": {
            "tags": []
          },
          "execution_count": 18
        }
      ]
    },
    {
      "cell_type": "code",
      "metadata": {
        "id": "L9PwiXr_fpjr",
        "colab_type": "code",
        "colab": {
          "base_uri": "https://localhost:8080/",
          "height": 204
        },
        "outputId": "96f2111f-a9cc-40c3-e20e-5746d0962521"
      },
      "source": [
        "numbers = [9, 23, 33, 91, 13]\n",
        "players = [\"Ron Harper\", \"Michael Jordan\", \"Scottie Pippen\", \"Dennis Rodman\", \"Luc Longley\"]\n",
        "\n",
        "df = pd.DataFrame()\n",
        "df[\"number\"] = numbers\n",
        "df[\"player\"] = players\n",
        "\n",
        "position_dict = {\n",
        "    \"Ron Harper\": \"PG\",\n",
        "    \"Michael Jordan\": \"SG\",\n",
        "    \"Scottie Pippen\": \"SF\",\n",
        "    \"Dennis Rodman\": \"PF\",\n",
        "    \"Luc Longley\": \"C\"\n",
        "}\n",
        "\n",
        "df[\"position\"] = df[\"player\"].map(position_dict)\n",
        "df[\"court\"] = df[\"position\"].map(lambda x: \"Back\" if x in ['PG', 'SG'] else \"Front\")\n",
        "df"
      ],
      "execution_count": 19,
      "outputs": [
        {
          "output_type": "execute_result",
          "data": {
            "text/html": [
              "<div>\n",
              "<style scoped>\n",
              "    .dataframe tbody tr th:only-of-type {\n",
              "        vertical-align: middle;\n",
              "    }\n",
              "\n",
              "    .dataframe tbody tr th {\n",
              "        vertical-align: top;\n",
              "    }\n",
              "\n",
              "    .dataframe thead th {\n",
              "        text-align: right;\n",
              "    }\n",
              "</style>\n",
              "<table border=\"1\" class=\"dataframe\">\n",
              "  <thead>\n",
              "    <tr style=\"text-align: right;\">\n",
              "      <th></th>\n",
              "      <th>number</th>\n",
              "      <th>player</th>\n",
              "      <th>position</th>\n",
              "      <th>court</th>\n",
              "    </tr>\n",
              "  </thead>\n",
              "  <tbody>\n",
              "    <tr>\n",
              "      <th>0</th>\n",
              "      <td>9</td>\n",
              "      <td>Ron Harper</td>\n",
              "      <td>PG</td>\n",
              "      <td>Back</td>\n",
              "    </tr>\n",
              "    <tr>\n",
              "      <th>1</th>\n",
              "      <td>23</td>\n",
              "      <td>Michael Jordan</td>\n",
              "      <td>SG</td>\n",
              "      <td>Back</td>\n",
              "    </tr>\n",
              "    <tr>\n",
              "      <th>2</th>\n",
              "      <td>33</td>\n",
              "      <td>Scottie Pippen</td>\n",
              "      <td>SF</td>\n",
              "      <td>Front</td>\n",
              "    </tr>\n",
              "    <tr>\n",
              "      <th>3</th>\n",
              "      <td>91</td>\n",
              "      <td>Dennis Rodman</td>\n",
              "      <td>PF</td>\n",
              "      <td>Front</td>\n",
              "    </tr>\n",
              "    <tr>\n",
              "      <th>4</th>\n",
              "      <td>13</td>\n",
              "      <td>Luc Longley</td>\n",
              "      <td>C</td>\n",
              "      <td>Front</td>\n",
              "    </tr>\n",
              "  </tbody>\n",
              "</table>\n",
              "</div>"
            ],
            "text/plain": [
              "   number          player position  court\n",
              "0       9      Ron Harper       PG   Back\n",
              "1      23  Michael Jordan       SG   Back\n",
              "2      33  Scottie Pippen       SF  Front\n",
              "3      91   Dennis Rodman       PF  Front\n",
              "4      13     Luc Longley        C  Front"
            ]
          },
          "metadata": {
            "tags": []
          },
          "execution_count": 19
        }
      ]
    },
    {
      "cell_type": "markdown",
      "metadata": {
        "id": "PhZhJX_XgDnx",
        "colab_type": "text"
      },
      "source": [
        "### number map to text"
      ]
    },
    {
      "cell_type": "code",
      "metadata": {
        "id": "_sZN6DZDf7qP",
        "colab_type": "code",
        "colab": {
          "base_uri": "https://localhost:8080/",
          "height": 204
        },
        "outputId": "02f785b5-6582-4e00-82db-34a7c9edc8fb"
      },
      "source": [
        "numbers = [9, 23, 33, 91, 13]\n",
        "players = [\"Ron Harper\", \"Michael Jordan\", \"Scottie Pippen\", \"Dennis Rodman\", \"Luc Longley\"]\n",
        "weights = [185, 195, 210, 210, 265]\n",
        "\n",
        "df = pd.DataFrame()\n",
        "df[\"number\"] = numbers\n",
        "df[\"player\"] = players\n",
        "df[\"weight\"] = weights\n",
        "\n",
        "def get_weight_category(wt):\n",
        "  if wt < 200:\n",
        "    return \"Light\"\n",
        "  elif 200 <= wt < 250:\n",
        "    return \"Medium\"\n",
        "  else:\n",
        "    return \"Heavy\"\n",
        "\n",
        "df[\"weight_category\"] = df[\"weight\"].map(get_weight_category)\n",
        "df"
      ],
      "execution_count": 21,
      "outputs": [
        {
          "output_type": "execute_result",
          "data": {
            "text/html": [
              "<div>\n",
              "<style scoped>\n",
              "    .dataframe tbody tr th:only-of-type {\n",
              "        vertical-align: middle;\n",
              "    }\n",
              "\n",
              "    .dataframe tbody tr th {\n",
              "        vertical-align: top;\n",
              "    }\n",
              "\n",
              "    .dataframe thead th {\n",
              "        text-align: right;\n",
              "    }\n",
              "</style>\n",
              "<table border=\"1\" class=\"dataframe\">\n",
              "  <thead>\n",
              "    <tr style=\"text-align: right;\">\n",
              "      <th></th>\n",
              "      <th>number</th>\n",
              "      <th>player</th>\n",
              "      <th>weight</th>\n",
              "      <th>weight_category</th>\n",
              "    </tr>\n",
              "  </thead>\n",
              "  <tbody>\n",
              "    <tr>\n",
              "      <th>0</th>\n",
              "      <td>9</td>\n",
              "      <td>Ron Harper</td>\n",
              "      <td>185</td>\n",
              "      <td>Light</td>\n",
              "    </tr>\n",
              "    <tr>\n",
              "      <th>1</th>\n",
              "      <td>23</td>\n",
              "      <td>Michael Jordan</td>\n",
              "      <td>195</td>\n",
              "      <td>Light</td>\n",
              "    </tr>\n",
              "    <tr>\n",
              "      <th>2</th>\n",
              "      <td>33</td>\n",
              "      <td>Scottie Pippen</td>\n",
              "      <td>210</td>\n",
              "      <td>Medium</td>\n",
              "    </tr>\n",
              "    <tr>\n",
              "      <th>3</th>\n",
              "      <td>91</td>\n",
              "      <td>Dennis Rodman</td>\n",
              "      <td>210</td>\n",
              "      <td>Medium</td>\n",
              "    </tr>\n",
              "    <tr>\n",
              "      <th>4</th>\n",
              "      <td>13</td>\n",
              "      <td>Luc Longley</td>\n",
              "      <td>265</td>\n",
              "      <td>Heavy</td>\n",
              "    </tr>\n",
              "  </tbody>\n",
              "</table>\n",
              "</div>"
            ],
            "text/plain": [
              "   number          player  weight weight_category\n",
              "0       9      Ron Harper     185           Light\n",
              "1      23  Michael Jordan     195           Light\n",
              "2      33  Scottie Pippen     210          Medium\n",
              "3      91   Dennis Rodman     210          Medium\n",
              "4      13     Luc Longley     265           Heavy"
            ]
          },
          "metadata": {
            "tags": []
          },
          "execution_count": 21
        }
      ]
    },
    {
      "cell_type": "markdown",
      "metadata": {
        "id": "g0O5K_ydgrwc",
        "colab_type": "text"
      },
      "source": [
        "### set default value\n",
        "\n",
        "* None or nan"
      ]
    },
    {
      "cell_type": "code",
      "metadata": {
        "id": "6-ISxcOmglBP",
        "colab_type": "code",
        "colab": {
          "base_uri": "https://localhost:8080/",
          "height": 235
        },
        "outputId": "058ee911-9779-44a5-840c-a0fb140f06a9"
      },
      "source": [
        "numbers = [9, 23, 33, 91, 13, 7]\n",
        "players = [\"Ron Harper\", \"Michael Jordan\", \"Scottie Pippen\", \"Dennis Rodman\", \"Luc Longley\", \"Toni Kukoc\"]\n",
        "colleges = [\"Miami University\", \"University of North Carolina\", \"University of Central Arkansas\", \"Southeastern Oklahoma State University\", \"University of New Mexico\", None]\n",
        "\n",
        "df = pd.DataFrame()\n",
        "df[\"number\"] = numbers\n",
        "df[\"player\"] = players\n",
        "df[\"college\"] = colleges\n",
        "\n",
        "df"
      ],
      "execution_count": 23,
      "outputs": [
        {
          "output_type": "execute_result",
          "data": {
            "text/html": [
              "<div>\n",
              "<style scoped>\n",
              "    .dataframe tbody tr th:only-of-type {\n",
              "        vertical-align: middle;\n",
              "    }\n",
              "\n",
              "    .dataframe tbody tr th {\n",
              "        vertical-align: top;\n",
              "    }\n",
              "\n",
              "    .dataframe thead th {\n",
              "        text-align: right;\n",
              "    }\n",
              "</style>\n",
              "<table border=\"1\" class=\"dataframe\">\n",
              "  <thead>\n",
              "    <tr style=\"text-align: right;\">\n",
              "      <th></th>\n",
              "      <th>number</th>\n",
              "      <th>player</th>\n",
              "      <th>college</th>\n",
              "    </tr>\n",
              "  </thead>\n",
              "  <tbody>\n",
              "    <tr>\n",
              "      <th>0</th>\n",
              "      <td>9</td>\n",
              "      <td>Ron Harper</td>\n",
              "      <td>Miami University</td>\n",
              "    </tr>\n",
              "    <tr>\n",
              "      <th>1</th>\n",
              "      <td>23</td>\n",
              "      <td>Michael Jordan</td>\n",
              "      <td>University of North Carolina</td>\n",
              "    </tr>\n",
              "    <tr>\n",
              "      <th>2</th>\n",
              "      <td>33</td>\n",
              "      <td>Scottie Pippen</td>\n",
              "      <td>University of Central Arkansas</td>\n",
              "    </tr>\n",
              "    <tr>\n",
              "      <th>3</th>\n",
              "      <td>91</td>\n",
              "      <td>Dennis Rodman</td>\n",
              "      <td>Southeastern Oklahoma State University</td>\n",
              "    </tr>\n",
              "    <tr>\n",
              "      <th>4</th>\n",
              "      <td>13</td>\n",
              "      <td>Luc Longley</td>\n",
              "      <td>University of New Mexico</td>\n",
              "    </tr>\n",
              "    <tr>\n",
              "      <th>5</th>\n",
              "      <td>7</td>\n",
              "      <td>Toni Kukoc</td>\n",
              "      <td>None</td>\n",
              "    </tr>\n",
              "  </tbody>\n",
              "</table>\n",
              "</div>"
            ],
            "text/plain": [
              "   number          player                                 college\n",
              "0       9      Ron Harper                        Miami University\n",
              "1      23  Michael Jordan            University of North Carolina\n",
              "2      33  Scottie Pippen          University of Central Arkansas\n",
              "3      91   Dennis Rodman  Southeastern Oklahoma State University\n",
              "4      13     Luc Longley                University of New Mexico\n",
              "5       7      Toni Kukoc                                    None"
            ]
          },
          "metadata": {
            "tags": []
          },
          "execution_count": 23
        }
      ]
    },
    {
      "cell_type": "code",
      "metadata": {
        "id": "nul33wyEhTI_",
        "colab_type": "code",
        "colab": {
          "base_uri": "https://localhost:8080/",
          "height": 199
        },
        "outputId": "ed5d959e-92ca-48ab-85f0-161dd9f197fe"
      },
      "source": [
        "numbers = [9, 23, 33, 91, 13, 7]\n",
        "players = [\"Ron Harper\", \"Michael Jordan\", \"Scottie Pippen\", \"Dennis Rodman\", \"Luc Longley\", \"Toni Kukoc\"]\n",
        "colleges = [\"Miami University\", \"University of North Carolina\", \"University of Central Arkansas\", \"Southeastern Oklahoma State University\", \"University of New Mexico\", None]\n",
        "\n",
        "df = pd.DataFrame()\n",
        "df[\"number\"] = numbers\n",
        "df[\"player\"] = players\n",
        "df[\"college\"] = colleges\n",
        "\n",
        "print(df[\"college\"].isna())\n",
        "df[df[\"college\"].isna()]"
      ],
      "execution_count": 24,
      "outputs": [
        {
          "output_type": "stream",
          "text": [
            "0    False\n",
            "1    False\n",
            "2    False\n",
            "3    False\n",
            "4    False\n",
            "5     True\n",
            "Name: college, dtype: bool\n"
          ],
          "name": "stdout"
        },
        {
          "output_type": "execute_result",
          "data": {
            "text/html": [
              "<div>\n",
              "<style scoped>\n",
              "    .dataframe tbody tr th:only-of-type {\n",
              "        vertical-align: middle;\n",
              "    }\n",
              "\n",
              "    .dataframe tbody tr th {\n",
              "        vertical-align: top;\n",
              "    }\n",
              "\n",
              "    .dataframe thead th {\n",
              "        text-align: right;\n",
              "    }\n",
              "</style>\n",
              "<table border=\"1\" class=\"dataframe\">\n",
              "  <thead>\n",
              "    <tr style=\"text-align: right;\">\n",
              "      <th></th>\n",
              "      <th>number</th>\n",
              "      <th>player</th>\n",
              "      <th>college</th>\n",
              "    </tr>\n",
              "  </thead>\n",
              "  <tbody>\n",
              "    <tr>\n",
              "      <th>5</th>\n",
              "      <td>7</td>\n",
              "      <td>Toni Kukoc</td>\n",
              "      <td>None</td>\n",
              "    </tr>\n",
              "  </tbody>\n",
              "</table>\n",
              "</div>"
            ],
            "text/plain": [
              "   number      player college\n",
              "5       7  Toni Kukoc    None"
            ]
          },
          "metadata": {
            "tags": []
          },
          "execution_count": 24
        }
      ]
    },
    {
      "cell_type": "code",
      "metadata": {
        "id": "HPGN8GyDhveJ",
        "colab_type": "code",
        "colab": {
          "base_uri": "https://localhost:8080/",
          "height": 323
        },
        "outputId": "9be9719f-9794-43fa-8cd3-f6bee23433a1"
      },
      "source": [
        "print(df[\"college\"].notna())\n",
        "df[df[\"college\"].notna()]"
      ],
      "execution_count": 25,
      "outputs": [
        {
          "output_type": "stream",
          "text": [
            "0     True\n",
            "1     True\n",
            "2     True\n",
            "3     True\n",
            "4     True\n",
            "5    False\n",
            "Name: college, dtype: bool\n"
          ],
          "name": "stdout"
        },
        {
          "output_type": "execute_result",
          "data": {
            "text/html": [
              "<div>\n",
              "<style scoped>\n",
              "    .dataframe tbody tr th:only-of-type {\n",
              "        vertical-align: middle;\n",
              "    }\n",
              "\n",
              "    .dataframe tbody tr th {\n",
              "        vertical-align: top;\n",
              "    }\n",
              "\n",
              "    .dataframe thead th {\n",
              "        text-align: right;\n",
              "    }\n",
              "</style>\n",
              "<table border=\"1\" class=\"dataframe\">\n",
              "  <thead>\n",
              "    <tr style=\"text-align: right;\">\n",
              "      <th></th>\n",
              "      <th>number</th>\n",
              "      <th>player</th>\n",
              "      <th>college</th>\n",
              "    </tr>\n",
              "  </thead>\n",
              "  <tbody>\n",
              "    <tr>\n",
              "      <th>0</th>\n",
              "      <td>9</td>\n",
              "      <td>Ron Harper</td>\n",
              "      <td>Miami University</td>\n",
              "    </tr>\n",
              "    <tr>\n",
              "      <th>1</th>\n",
              "      <td>23</td>\n",
              "      <td>Michael Jordan</td>\n",
              "      <td>University of North Carolina</td>\n",
              "    </tr>\n",
              "    <tr>\n",
              "      <th>2</th>\n",
              "      <td>33</td>\n",
              "      <td>Scottie Pippen</td>\n",
              "      <td>University of Central Arkansas</td>\n",
              "    </tr>\n",
              "    <tr>\n",
              "      <th>3</th>\n",
              "      <td>91</td>\n",
              "      <td>Dennis Rodman</td>\n",
              "      <td>Southeastern Oklahoma State University</td>\n",
              "    </tr>\n",
              "    <tr>\n",
              "      <th>4</th>\n",
              "      <td>13</td>\n",
              "      <td>Luc Longley</td>\n",
              "      <td>University of New Mexico</td>\n",
              "    </tr>\n",
              "  </tbody>\n",
              "</table>\n",
              "</div>"
            ],
            "text/plain": [
              "   number          player                                 college\n",
              "0       9      Ron Harper                        Miami University\n",
              "1      23  Michael Jordan            University of North Carolina\n",
              "2      33  Scottie Pippen          University of Central Arkansas\n",
              "3      91   Dennis Rodman  Southeastern Oklahoma State University\n",
              "4      13     Luc Longley                University of New Mexico"
            ]
          },
          "metadata": {
            "tags": []
          },
          "execution_count": 25
        }
      ]
    },
    {
      "cell_type": "code",
      "metadata": {
        "id": "y9Zy7_RSh6rY",
        "colab_type": "code",
        "colab": {
          "base_uri": "https://localhost:8080/",
          "height": 235
        },
        "outputId": "90ef1944-dd05-4b7f-d028-0874fbee5edc"
      },
      "source": [
        "df[\"college\"] = df[\"college\"].fillna(\"Croatia\")\n",
        "df"
      ],
      "execution_count": 26,
      "outputs": [
        {
          "output_type": "execute_result",
          "data": {
            "text/html": [
              "<div>\n",
              "<style scoped>\n",
              "    .dataframe tbody tr th:only-of-type {\n",
              "        vertical-align: middle;\n",
              "    }\n",
              "\n",
              "    .dataframe tbody tr th {\n",
              "        vertical-align: top;\n",
              "    }\n",
              "\n",
              "    .dataframe thead th {\n",
              "        text-align: right;\n",
              "    }\n",
              "</style>\n",
              "<table border=\"1\" class=\"dataframe\">\n",
              "  <thead>\n",
              "    <tr style=\"text-align: right;\">\n",
              "      <th></th>\n",
              "      <th>number</th>\n",
              "      <th>player</th>\n",
              "      <th>college</th>\n",
              "    </tr>\n",
              "  </thead>\n",
              "  <tbody>\n",
              "    <tr>\n",
              "      <th>0</th>\n",
              "      <td>9</td>\n",
              "      <td>Ron Harper</td>\n",
              "      <td>Miami University</td>\n",
              "    </tr>\n",
              "    <tr>\n",
              "      <th>1</th>\n",
              "      <td>23</td>\n",
              "      <td>Michael Jordan</td>\n",
              "      <td>University of North Carolina</td>\n",
              "    </tr>\n",
              "    <tr>\n",
              "      <th>2</th>\n",
              "      <td>33</td>\n",
              "      <td>Scottie Pippen</td>\n",
              "      <td>University of Central Arkansas</td>\n",
              "    </tr>\n",
              "    <tr>\n",
              "      <th>3</th>\n",
              "      <td>91</td>\n",
              "      <td>Dennis Rodman</td>\n",
              "      <td>Southeastern Oklahoma State University</td>\n",
              "    </tr>\n",
              "    <tr>\n",
              "      <th>4</th>\n",
              "      <td>13</td>\n",
              "      <td>Luc Longley</td>\n",
              "      <td>University of New Mexico</td>\n",
              "    </tr>\n",
              "    <tr>\n",
              "      <th>5</th>\n",
              "      <td>7</td>\n",
              "      <td>Toni Kukoc</td>\n",
              "      <td>Croatia</td>\n",
              "    </tr>\n",
              "  </tbody>\n",
              "</table>\n",
              "</div>"
            ],
            "text/plain": [
              "   number          player                                 college\n",
              "0       9      Ron Harper                        Miami University\n",
              "1      23  Michael Jordan            University of North Carolina\n",
              "2      33  Scottie Pippen          University of Central Arkansas\n",
              "3      91   Dennis Rodman  Southeastern Oklahoma State University\n",
              "4      13     Luc Longley                University of New Mexico\n",
              "5       7      Toni Kukoc                                 Croatia"
            ]
          },
          "metadata": {
            "tags": []
          },
          "execution_count": 26
        }
      ]
    },
    {
      "cell_type": "code",
      "metadata": {
        "id": "wwJNPUGHiGq4",
        "colab_type": "code",
        "colab": {
          "base_uri": "https://localhost:8080/",
          "height": 221
        },
        "outputId": "5c8cf120-a526-4f63-e951-d11bf8315096"
      },
      "source": [
        "numbers = [9, 23, 33, 91, 13]\n",
        "players = [\"Ron Harper\", \"Michael Jordan\", \"Scottie Pippen\", \"Dennis Rodman\", \"Luc Longley\"]\n",
        "birth_dates = [\"January 20, 1964\",\"February 17, 1963\",\"September 25, 1965\",\"May 13, 1961\",\"January 19, 1969\"]\n",
        "df = pd.DataFrame()\n",
        "df[\"number\"] = numbers\n",
        "df[\"player\"] = players\n",
        "df[\"birth_date\"] = birth_dates\n",
        "\n",
        "print(df[\"birth_date\"].dtype)\n",
        "df"
      ],
      "execution_count": 27,
      "outputs": [
        {
          "output_type": "stream",
          "text": [
            "object\n"
          ],
          "name": "stdout"
        },
        {
          "output_type": "execute_result",
          "data": {
            "text/html": [
              "<div>\n",
              "<style scoped>\n",
              "    .dataframe tbody tr th:only-of-type {\n",
              "        vertical-align: middle;\n",
              "    }\n",
              "\n",
              "    .dataframe tbody tr th {\n",
              "        vertical-align: top;\n",
              "    }\n",
              "\n",
              "    .dataframe thead th {\n",
              "        text-align: right;\n",
              "    }\n",
              "</style>\n",
              "<table border=\"1\" class=\"dataframe\">\n",
              "  <thead>\n",
              "    <tr style=\"text-align: right;\">\n",
              "      <th></th>\n",
              "      <th>number</th>\n",
              "      <th>player</th>\n",
              "      <th>birth_date</th>\n",
              "    </tr>\n",
              "  </thead>\n",
              "  <tbody>\n",
              "    <tr>\n",
              "      <th>0</th>\n",
              "      <td>9</td>\n",
              "      <td>Ron Harper</td>\n",
              "      <td>January 20, 1964</td>\n",
              "    </tr>\n",
              "    <tr>\n",
              "      <th>1</th>\n",
              "      <td>23</td>\n",
              "      <td>Michael Jordan</td>\n",
              "      <td>February 17, 1963</td>\n",
              "    </tr>\n",
              "    <tr>\n",
              "      <th>2</th>\n",
              "      <td>33</td>\n",
              "      <td>Scottie Pippen</td>\n",
              "      <td>September 25, 1965</td>\n",
              "    </tr>\n",
              "    <tr>\n",
              "      <th>3</th>\n",
              "      <td>91</td>\n",
              "      <td>Dennis Rodman</td>\n",
              "      <td>May 13, 1961</td>\n",
              "    </tr>\n",
              "    <tr>\n",
              "      <th>4</th>\n",
              "      <td>13</td>\n",
              "      <td>Luc Longley</td>\n",
              "      <td>January 19, 1969</td>\n",
              "    </tr>\n",
              "  </tbody>\n",
              "</table>\n",
              "</div>"
            ],
            "text/plain": [
              "   number          player          birth_date\n",
              "0       9      Ron Harper    January 20, 1964\n",
              "1      23  Michael Jordan   February 17, 1963\n",
              "2      33  Scottie Pippen  September 25, 1965\n",
              "3      91   Dennis Rodman        May 13, 1961\n",
              "4      13     Luc Longley    January 19, 1969"
            ]
          },
          "metadata": {
            "tags": []
          },
          "execution_count": 27
        }
      ]
    },
    {
      "cell_type": "code",
      "metadata": {
        "id": "Sgb95Coqilrd",
        "colab_type": "code",
        "colab": {
          "base_uri": "https://localhost:8080/",
          "height": 221
        },
        "outputId": "d66c9fb5-cda2-4b92-a8d0-de214dfb60bd"
      },
      "source": [
        "df[\"birth_date\"] = pd.to_datetime(df[\"birth_date\"])\n",
        "\n",
        "print(df[\"birth_date\"].dtype)\n",
        "df"
      ],
      "execution_count": 29,
      "outputs": [
        {
          "output_type": "stream",
          "text": [
            "datetime64[ns]\n"
          ],
          "name": "stdout"
        },
        {
          "output_type": "execute_result",
          "data": {
            "text/html": [
              "<div>\n",
              "<style scoped>\n",
              "    .dataframe tbody tr th:only-of-type {\n",
              "        vertical-align: middle;\n",
              "    }\n",
              "\n",
              "    .dataframe tbody tr th {\n",
              "        vertical-align: top;\n",
              "    }\n",
              "\n",
              "    .dataframe thead th {\n",
              "        text-align: right;\n",
              "    }\n",
              "</style>\n",
              "<table border=\"1\" class=\"dataframe\">\n",
              "  <thead>\n",
              "    <tr style=\"text-align: right;\">\n",
              "      <th></th>\n",
              "      <th>number</th>\n",
              "      <th>player</th>\n",
              "      <th>birth_date</th>\n",
              "    </tr>\n",
              "  </thead>\n",
              "  <tbody>\n",
              "    <tr>\n",
              "      <th>0</th>\n",
              "      <td>9</td>\n",
              "      <td>Ron Harper</td>\n",
              "      <td>1964-01-20</td>\n",
              "    </tr>\n",
              "    <tr>\n",
              "      <th>1</th>\n",
              "      <td>23</td>\n",
              "      <td>Michael Jordan</td>\n",
              "      <td>1963-02-17</td>\n",
              "    </tr>\n",
              "    <tr>\n",
              "      <th>2</th>\n",
              "      <td>33</td>\n",
              "      <td>Scottie Pippen</td>\n",
              "      <td>1965-09-25</td>\n",
              "    </tr>\n",
              "    <tr>\n",
              "      <th>3</th>\n",
              "      <td>91</td>\n",
              "      <td>Dennis Rodman</td>\n",
              "      <td>1961-05-13</td>\n",
              "    </tr>\n",
              "    <tr>\n",
              "      <th>4</th>\n",
              "      <td>13</td>\n",
              "      <td>Luc Longley</td>\n",
              "      <td>1969-01-19</td>\n",
              "    </tr>\n",
              "  </tbody>\n",
              "</table>\n",
              "</div>"
            ],
            "text/plain": [
              "   number          player birth_date\n",
              "0       9      Ron Harper 1964-01-20\n",
              "1      23  Michael Jordan 1963-02-17\n",
              "2      33  Scottie Pippen 1965-09-25\n",
              "3      91   Dennis Rodman 1961-05-13\n",
              "4      13     Luc Longley 1969-01-19"
            ]
          },
          "metadata": {
            "tags": []
          },
          "execution_count": 29
        }
      ]
    },
    {
      "cell_type": "code",
      "metadata": {
        "id": "gh4DM1qUi05B",
        "colab_type": "code",
        "colab": {
          "base_uri": "https://localhost:8080/",
          "height": 204
        },
        "outputId": "0f7ef660-469c-42a0-dead-1784ffa4abc5"
      },
      "source": [
        "df.sort_values(\"birth_date\")"
      ],
      "execution_count": 30,
      "outputs": [
        {
          "output_type": "execute_result",
          "data": {
            "text/html": [
              "<div>\n",
              "<style scoped>\n",
              "    .dataframe tbody tr th:only-of-type {\n",
              "        vertical-align: middle;\n",
              "    }\n",
              "\n",
              "    .dataframe tbody tr th {\n",
              "        vertical-align: top;\n",
              "    }\n",
              "\n",
              "    .dataframe thead th {\n",
              "        text-align: right;\n",
              "    }\n",
              "</style>\n",
              "<table border=\"1\" class=\"dataframe\">\n",
              "  <thead>\n",
              "    <tr style=\"text-align: right;\">\n",
              "      <th></th>\n",
              "      <th>number</th>\n",
              "      <th>player</th>\n",
              "      <th>birth_date</th>\n",
              "    </tr>\n",
              "  </thead>\n",
              "  <tbody>\n",
              "    <tr>\n",
              "      <th>3</th>\n",
              "      <td>91</td>\n",
              "      <td>Dennis Rodman</td>\n",
              "      <td>1961-05-13</td>\n",
              "    </tr>\n",
              "    <tr>\n",
              "      <th>1</th>\n",
              "      <td>23</td>\n",
              "      <td>Michael Jordan</td>\n",
              "      <td>1963-02-17</td>\n",
              "    </tr>\n",
              "    <tr>\n",
              "      <th>0</th>\n",
              "      <td>9</td>\n",
              "      <td>Ron Harper</td>\n",
              "      <td>1964-01-20</td>\n",
              "    </tr>\n",
              "    <tr>\n",
              "      <th>2</th>\n",
              "      <td>33</td>\n",
              "      <td>Scottie Pippen</td>\n",
              "      <td>1965-09-25</td>\n",
              "    </tr>\n",
              "    <tr>\n",
              "      <th>4</th>\n",
              "      <td>13</td>\n",
              "      <td>Luc Longley</td>\n",
              "      <td>1969-01-19</td>\n",
              "    </tr>\n",
              "  </tbody>\n",
              "</table>\n",
              "</div>"
            ],
            "text/plain": [
              "   number          player birth_date\n",
              "3      91   Dennis Rodman 1961-05-13\n",
              "1      23  Michael Jordan 1963-02-17\n",
              "0       9      Ron Harper 1964-01-20\n",
              "2      33  Scottie Pippen 1965-09-25\n",
              "4      13     Luc Longley 1969-01-19"
            ]
          },
          "metadata": {
            "tags": []
          },
          "execution_count": 30
        }
      ]
    },
    {
      "cell_type": "code",
      "metadata": {
        "id": "CTLQd3lUi9v_",
        "colab_type": "code",
        "colab": {
          "base_uri": "https://localhost:8080/",
          "height": 235
        },
        "outputId": "9b9e86b0-7c12-4ce7-9674-6845b92df85b"
      },
      "source": [
        "df = df.set_index(\"birth_date\", drop=True)\n",
        "df"
      ],
      "execution_count": 31,
      "outputs": [
        {
          "output_type": "execute_result",
          "data": {
            "text/html": [
              "<div>\n",
              "<style scoped>\n",
              "    .dataframe tbody tr th:only-of-type {\n",
              "        vertical-align: middle;\n",
              "    }\n",
              "\n",
              "    .dataframe tbody tr th {\n",
              "        vertical-align: top;\n",
              "    }\n",
              "\n",
              "    .dataframe thead th {\n",
              "        text-align: right;\n",
              "    }\n",
              "</style>\n",
              "<table border=\"1\" class=\"dataframe\">\n",
              "  <thead>\n",
              "    <tr style=\"text-align: right;\">\n",
              "      <th></th>\n",
              "      <th>number</th>\n",
              "      <th>player</th>\n",
              "    </tr>\n",
              "    <tr>\n",
              "      <th>birth_date</th>\n",
              "      <th></th>\n",
              "      <th></th>\n",
              "    </tr>\n",
              "  </thead>\n",
              "  <tbody>\n",
              "    <tr>\n",
              "      <th>1964-01-20</th>\n",
              "      <td>9</td>\n",
              "      <td>Ron Harper</td>\n",
              "    </tr>\n",
              "    <tr>\n",
              "      <th>1963-02-17</th>\n",
              "      <td>23</td>\n",
              "      <td>Michael Jordan</td>\n",
              "    </tr>\n",
              "    <tr>\n",
              "      <th>1965-09-25</th>\n",
              "      <td>33</td>\n",
              "      <td>Scottie Pippen</td>\n",
              "    </tr>\n",
              "    <tr>\n",
              "      <th>1961-05-13</th>\n",
              "      <td>91</td>\n",
              "      <td>Dennis Rodman</td>\n",
              "    </tr>\n",
              "    <tr>\n",
              "      <th>1969-01-19</th>\n",
              "      <td>13</td>\n",
              "      <td>Luc Longley</td>\n",
              "    </tr>\n",
              "  </tbody>\n",
              "</table>\n",
              "</div>"
            ],
            "text/plain": [
              "            number          player\n",
              "birth_date                        \n",
              "1964-01-20       9      Ron Harper\n",
              "1963-02-17      23  Michael Jordan\n",
              "1965-09-25      33  Scottie Pippen\n",
              "1961-05-13      91   Dennis Rodman\n",
              "1969-01-19      13     Luc Longley"
            ]
          },
          "metadata": {
            "tags": []
          },
          "execution_count": 31
        }
      ]
    },
    {
      "cell_type": "markdown",
      "metadata": {
        "id": "4Qs5CsYAjO1i",
        "colab_type": "text"
      },
      "source": [
        "### wide format and long format"
      ]
    },
    {
      "cell_type": "code",
      "metadata": {
        "id": "hdUltwL6jIY4",
        "colab_type": "code",
        "colab": {
          "base_uri": "https://localhost:8080/",
          "height": 235
        },
        "outputId": "015570db-09c7-4507-8f18-f042d7648b3b"
      },
      "source": [
        "\n",
        "players = [\"Ron Harper\", \"Michael Jordan\", \"Scottie Pippen\", \"Dennis Rodman\", \"Luc Longley\"]\n",
        "weights = [185, 195, 210, 210, 265]\n",
        "heights = [\"6-6\",\"6-6\",\"6-8\",\"6-7\",\"7-2\"]\n",
        "\n",
        "df = pd.DataFrame()\n",
        "df[\"player\"] = players\n",
        "df[\"height\"] = heights\n",
        "df[\"weight\"] = weights\n",
        "\n",
        "df = df.set_index(\"player\", drop=True)\n",
        "df"
      ],
      "execution_count": 34,
      "outputs": [
        {
          "output_type": "execute_result",
          "data": {
            "text/html": [
              "<div>\n",
              "<style scoped>\n",
              "    .dataframe tbody tr th:only-of-type {\n",
              "        vertical-align: middle;\n",
              "    }\n",
              "\n",
              "    .dataframe tbody tr th {\n",
              "        vertical-align: top;\n",
              "    }\n",
              "\n",
              "    .dataframe thead th {\n",
              "        text-align: right;\n",
              "    }\n",
              "</style>\n",
              "<table border=\"1\" class=\"dataframe\">\n",
              "  <thead>\n",
              "    <tr style=\"text-align: right;\">\n",
              "      <th></th>\n",
              "      <th>height</th>\n",
              "      <th>weight</th>\n",
              "    </tr>\n",
              "    <tr>\n",
              "      <th>player</th>\n",
              "      <th></th>\n",
              "      <th></th>\n",
              "    </tr>\n",
              "  </thead>\n",
              "  <tbody>\n",
              "    <tr>\n",
              "      <th>Ron Harper</th>\n",
              "      <td>6-6</td>\n",
              "      <td>185</td>\n",
              "    </tr>\n",
              "    <tr>\n",
              "      <th>Michael Jordan</th>\n",
              "      <td>6-6</td>\n",
              "      <td>195</td>\n",
              "    </tr>\n",
              "    <tr>\n",
              "      <th>Scottie Pippen</th>\n",
              "      <td>6-8</td>\n",
              "      <td>210</td>\n",
              "    </tr>\n",
              "    <tr>\n",
              "      <th>Dennis Rodman</th>\n",
              "      <td>6-7</td>\n",
              "      <td>210</td>\n",
              "    </tr>\n",
              "    <tr>\n",
              "      <th>Luc Longley</th>\n",
              "      <td>7-2</td>\n",
              "      <td>265</td>\n",
              "    </tr>\n",
              "  </tbody>\n",
              "</table>\n",
              "</div>"
            ],
            "text/plain": [
              "               height  weight\n",
              "player                       \n",
              "Ron Harper        6-6     185\n",
              "Michael Jordan    6-6     195\n",
              "Scottie Pippen    6-8     210\n",
              "Dennis Rodman     6-7     210\n",
              "Luc Longley       7-2     265"
            ]
          },
          "metadata": {
            "tags": []
          },
          "execution_count": 34
        }
      ]
    },
    {
      "cell_type": "code",
      "metadata": {
        "id": "mKZF-gzujdJ4",
        "colab_type": "code",
        "colab": {
          "base_uri": "https://localhost:8080/",
          "height": 221
        },
        "outputId": "61705db5-1297-4949-838f-51bf11b934c9"
      },
      "source": [
        "long_format = df.stack()\n",
        "long_format"
      ],
      "execution_count": 35,
      "outputs": [
        {
          "output_type": "execute_result",
          "data": {
            "text/plain": [
              "player                \n",
              "Ron Harper      height    6-6\n",
              "                weight    185\n",
              "Michael Jordan  height    6-6\n",
              "                weight    195\n",
              "Scottie Pippen  height    6-8\n",
              "                weight    210\n",
              "Dennis Rodman   height    6-7\n",
              "                weight    210\n",
              "Luc Longley     height    7-2\n",
              "                weight    265\n",
              "dtype: object"
            ]
          },
          "metadata": {
            "tags": []
          },
          "execution_count": 35
        }
      ]
    },
    {
      "cell_type": "markdown",
      "metadata": {
        "id": "fCNFrRmskPKM",
        "colab_type": "text"
      },
      "source": [
        "### merge dateframe"
      ]
    },
    {
      "cell_type": "code",
      "metadata": {
        "id": "ZRAgyD_Vjys_",
        "colab_type": "code",
        "colab": {
          "base_uri": "https://localhost:8080/",
          "height": 255
        },
        "outputId": "2b13d220-3b2a-4a32-8eee-5d74b2a1a180"
      },
      "source": [
        "numbers = [9, 23, 33, 91, 13, 7]\n",
        "players = [\"Ron Harper\", \"Michael Jordan\", \"Scottie Pippen\", \"Dennis Rodman\", \"Luc Longley\", \"Toni Kukoc\"]\n",
        "colleges = [\"Miami University\", \"University of North Carolina\", \"University of Central Arkansas\", \"Southeastern Oklahoma State University\", \"University of New Mexico\", None]\n",
        "\n",
        "number_df = pd.DataFrame()\n",
        "number_df[\"number\"] = numbers\n",
        "number_df[\"player\"] = players\n",
        "\n",
        "college_df = pd.DataFrame()\n",
        "college_df[\"player\"] = players\n",
        "college_df[\"college\"] = colleges\n",
        "\n",
        "print(number_df)\n",
        "print(college_df)\n"
      ],
      "execution_count": 36,
      "outputs": [
        {
          "output_type": "stream",
          "text": [
            "   number          player\n",
            "0       9      Ron Harper\n",
            "1      23  Michael Jordan\n",
            "2      33  Scottie Pippen\n",
            "3      91   Dennis Rodman\n",
            "4      13     Luc Longley\n",
            "5       7      Toni Kukoc\n",
            "           player                                 college\n",
            "0      Ron Harper                        Miami University\n",
            "1  Michael Jordan            University of North Carolina\n",
            "2  Scottie Pippen          University of Central Arkansas\n",
            "3   Dennis Rodman  Southeastern Oklahoma State University\n",
            "4     Luc Longley                University of New Mexico\n",
            "5      Toni Kukoc                                    None\n"
          ],
          "name": "stdout"
        }
      ]
    },
    {
      "cell_type": "code",
      "metadata": {
        "id": "-nDAuIE1kNKS",
        "colab_type": "code",
        "colab": {
          "base_uri": "https://localhost:8080/",
          "height": 235
        },
        "outputId": "cb9f59da-7122-463c-a524-e3f8ec66c902"
      },
      "source": [
        "pd.merge(number_df, college_df, on='player')"
      ],
      "execution_count": 37,
      "outputs": [
        {
          "output_type": "execute_result",
          "data": {
            "text/html": [
              "<div>\n",
              "<style scoped>\n",
              "    .dataframe tbody tr th:only-of-type {\n",
              "        vertical-align: middle;\n",
              "    }\n",
              "\n",
              "    .dataframe tbody tr th {\n",
              "        vertical-align: top;\n",
              "    }\n",
              "\n",
              "    .dataframe thead th {\n",
              "        text-align: right;\n",
              "    }\n",
              "</style>\n",
              "<table border=\"1\" class=\"dataframe\">\n",
              "  <thead>\n",
              "    <tr style=\"text-align: right;\">\n",
              "      <th></th>\n",
              "      <th>number</th>\n",
              "      <th>player</th>\n",
              "      <th>college</th>\n",
              "    </tr>\n",
              "  </thead>\n",
              "  <tbody>\n",
              "    <tr>\n",
              "      <th>0</th>\n",
              "      <td>9</td>\n",
              "      <td>Ron Harper</td>\n",
              "      <td>Miami University</td>\n",
              "    </tr>\n",
              "    <tr>\n",
              "      <th>1</th>\n",
              "      <td>23</td>\n",
              "      <td>Michael Jordan</td>\n",
              "      <td>University of North Carolina</td>\n",
              "    </tr>\n",
              "    <tr>\n",
              "      <th>2</th>\n",
              "      <td>33</td>\n",
              "      <td>Scottie Pippen</td>\n",
              "      <td>University of Central Arkansas</td>\n",
              "    </tr>\n",
              "    <tr>\n",
              "      <th>3</th>\n",
              "      <td>91</td>\n",
              "      <td>Dennis Rodman</td>\n",
              "      <td>Southeastern Oklahoma State University</td>\n",
              "    </tr>\n",
              "    <tr>\n",
              "      <th>4</th>\n",
              "      <td>13</td>\n",
              "      <td>Luc Longley</td>\n",
              "      <td>University of New Mexico</td>\n",
              "    </tr>\n",
              "    <tr>\n",
              "      <th>5</th>\n",
              "      <td>7</td>\n",
              "      <td>Toni Kukoc</td>\n",
              "      <td>None</td>\n",
              "    </tr>\n",
              "  </tbody>\n",
              "</table>\n",
              "</div>"
            ],
            "text/plain": [
              "   number          player                                 college\n",
              "0       9      Ron Harper                        Miami University\n",
              "1      23  Michael Jordan            University of North Carolina\n",
              "2      33  Scottie Pippen          University of Central Arkansas\n",
              "3      91   Dennis Rodman  Southeastern Oklahoma State University\n",
              "4      13     Luc Longley                University of New Mexico\n",
              "5       7      Toni Kukoc                                    None"
            ]
          },
          "metadata": {
            "tags": []
          },
          "execution_count": 37
        }
      ]
    },
    {
      "cell_type": "code",
      "metadata": {
        "id": "2qMNP_3TkX1J",
        "colab_type": "code",
        "colab": {
          "base_uri": "https://localhost:8080/",
          "height": 235
        },
        "outputId": "901e87c0-5ba2-48f1-9c6e-0604fb341018"
      },
      "source": [
        "number_df.join(college_df[[\"college\"]])"
      ],
      "execution_count": 38,
      "outputs": [
        {
          "output_type": "execute_result",
          "data": {
            "text/html": [
              "<div>\n",
              "<style scoped>\n",
              "    .dataframe tbody tr th:only-of-type {\n",
              "        vertical-align: middle;\n",
              "    }\n",
              "\n",
              "    .dataframe tbody tr th {\n",
              "        vertical-align: top;\n",
              "    }\n",
              "\n",
              "    .dataframe thead th {\n",
              "        text-align: right;\n",
              "    }\n",
              "</style>\n",
              "<table border=\"1\" class=\"dataframe\">\n",
              "  <thead>\n",
              "    <tr style=\"text-align: right;\">\n",
              "      <th></th>\n",
              "      <th>number</th>\n",
              "      <th>player</th>\n",
              "      <th>college</th>\n",
              "    </tr>\n",
              "  </thead>\n",
              "  <tbody>\n",
              "    <tr>\n",
              "      <th>0</th>\n",
              "      <td>9</td>\n",
              "      <td>Ron Harper</td>\n",
              "      <td>Miami University</td>\n",
              "    </tr>\n",
              "    <tr>\n",
              "      <th>1</th>\n",
              "      <td>23</td>\n",
              "      <td>Michael Jordan</td>\n",
              "      <td>University of North Carolina</td>\n",
              "    </tr>\n",
              "    <tr>\n",
              "      <th>2</th>\n",
              "      <td>33</td>\n",
              "      <td>Scottie Pippen</td>\n",
              "      <td>University of Central Arkansas</td>\n",
              "    </tr>\n",
              "    <tr>\n",
              "      <th>3</th>\n",
              "      <td>91</td>\n",
              "      <td>Dennis Rodman</td>\n",
              "      <td>Southeastern Oklahoma State University</td>\n",
              "    </tr>\n",
              "    <tr>\n",
              "      <th>4</th>\n",
              "      <td>13</td>\n",
              "      <td>Luc Longley</td>\n",
              "      <td>University of New Mexico</td>\n",
              "    </tr>\n",
              "    <tr>\n",
              "      <th>5</th>\n",
              "      <td>7</td>\n",
              "      <td>Toni Kukoc</td>\n",
              "      <td>None</td>\n",
              "    </tr>\n",
              "  </tbody>\n",
              "</table>\n",
              "</div>"
            ],
            "text/plain": [
              "   number          player                                 college\n",
              "0       9      Ron Harper                        Miami University\n",
              "1      23  Michael Jordan            University of North Carolina\n",
              "2      33  Scottie Pippen          University of Central Arkansas\n",
              "3      91   Dennis Rodman  Southeastern Oklahoma State University\n",
              "4      13     Luc Longley                University of New Mexico\n",
              "5       7      Toni Kukoc                                    None"
            ]
          },
          "metadata": {
            "tags": []
          },
          "execution_count": 38
        }
      ]
    },
    {
      "cell_type": "markdown",
      "metadata": {
        "id": "iq4TZNCQlCBz",
        "colab_type": "text"
      },
      "source": [
        "## Chapter 9 Text\n",
        "\n",
        "* number\n",
        "* text\n",
        "* boolean"
      ]
    },
    {
      "cell_type": "markdown",
      "metadata": {
        "id": "mehVCBdPlQzB",
        "colab_type": "text"
      },
      "source": [
        "### create\n"
      ]
    },
    {
      "cell_type": "code",
      "metadata": {
        "id": "zHODuQ7qkjAJ",
        "colab_type": "code",
        "colab": {
          "base_uri": "https://localhost:8080/",
          "height": 34
        },
        "outputId": "7234af2f-8097-4a06-ecfa-a4652a068c74"
      },
      "source": [
        "asset_tony_stark = \"12.4 billion\"\n",
        "print(type(asset_tony_stark))"
      ],
      "execution_count": 39,
      "outputs": [
        {
          "output_type": "stream",
          "text": [
            "<class 'str'>\n"
          ],
          "name": "stdout"
        }
      ]
    },
    {
      "cell_type": "code",
      "metadata": {
        "id": "k1QOUNVWlYw_",
        "colab_type": "code",
        "colab": {
          "base_uri": "https://localhost:8080/",
          "height": 34
        },
        "outputId": "7b3e700b-faf8-40ec-b9e6-5291769c7fd2"
      },
      "source": [
        "asset_tony_stark = \"12400000000\"\n",
        "print(type(asset_tony_stark))"
      ],
      "execution_count": 40,
      "outputs": [
        {
          "output_type": "stream",
          "text": [
            "<class 'str'>\n"
          ],
          "name": "stdout"
        }
      ]
    },
    {
      "cell_type": "code",
      "metadata": {
        "id": "5QZ5vAWPlfhA",
        "colab_type": "code",
        "colab": {
          "base_uri": "https://localhost:8080/",
          "height": 34
        },
        "outputId": "3f0d1557-3025-4bef-d2e7-d7fbc91958e4"
      },
      "source": [
        "tony_stark_is_rich = \"True\"\n",
        "print(type(tony_stark_is_rich))"
      ],
      "execution_count": 41,
      "outputs": [
        {
          "output_type": "stream",
          "text": [
            "<class 'str'>\n"
          ],
          "name": "stdout"
        }
      ]
    },
    {
      "cell_type": "code",
      "metadata": {
        "id": "mUMshZS-ll1H",
        "colab_type": "code",
        "colab": {
          "base_uri": "https://localhost:8080/",
          "height": 130
        },
        "outputId": "034bb884-413e-492a-8d95-09b2c9695d0b"
      },
      "source": [
        "print('Shaquille O'Neal')"
      ],
      "execution_count": 42,
      "outputs": [
        {
          "output_type": "error",
          "ename": "SyntaxError",
          "evalue": "ignored",
          "traceback": [
            "\u001b[0;36m  File \u001b[0;32m\"<ipython-input-42-758b3e8b4414>\"\u001b[0;36m, line \u001b[0;32m1\u001b[0m\n\u001b[0;31m    print('Shaquille O'Neal')\u001b[0m\n\u001b[0m                          ^\u001b[0m\n\u001b[0;31mSyntaxError\u001b[0m\u001b[0;31m:\u001b[0m invalid syntax\n"
          ]
        }
      ]
    },
    {
      "cell_type": "code",
      "metadata": {
        "id": "RHhftrEFlpxS",
        "colab_type": "code",
        "colab": {
          "base_uri": "https://localhost:8080/",
          "height": 34
        },
        "outputId": "2d93f13f-4929-456f-fca0-ce8971a3fc36"
      },
      "source": [
        "print(\"Shaquille O'Neal\")"
      ],
      "execution_count": 44,
      "outputs": [
        {
          "output_type": "stream",
          "text": [
            "Shaquille O'Neal\n"
          ],
          "name": "stdout"
        }
      ]
    },
    {
      "cell_type": "code",
      "metadata": {
        "id": "Hy1keg9Qlu9d",
        "colab_type": "code",
        "colab": {
          "base_uri": "https://localhost:8080/",
          "height": 34
        },
        "outputId": "74974a00-c121-4717-db5b-23fe812bac7c"
      },
      "source": [
        "print('Shaquille O\\'Neal')"
      ],
      "execution_count": 45,
      "outputs": [
        {
          "output_type": "stream",
          "text": [
            "Shaquille O'Neal\n"
          ],
          "name": "stdout"
        }
      ]
    },
    {
      "cell_type": "code",
      "metadata": {
        "id": "ugT_G7phl0p0",
        "colab_type": "code",
        "colab": {
          "base_uri": "https://localhost:8080/",
          "height": 34
        },
        "outputId": "df2f5037-88a9-4194-ff88-07c37f682a83"
      },
      "source": [
        "print(\"Okay, Lets pu aside the fact that you \\\"accidentally\\\" picked up my gradmother's ring and you \\\"accidentally\\\" proposed to Rachel.\")"
      ],
      "execution_count": 46,
      "outputs": [
        {
          "output_type": "stream",
          "text": [
            "Okay, Lets pu aside the fact that you \"accidentally\" picked up my gradmother's ring and you \"accidentally\" proposed to Rachel.\n"
          ],
          "name": "stdout"
        }
      ]
    },
    {
      "cell_type": "markdown",
      "metadata": {
        "id": "dEvaSBJCmGXV",
        "colab_type": "text"
      },
      "source": [
        "### length"
      ]
    },
    {
      "cell_type": "code",
      "metadata": {
        "id": "LWye1JxumDpP",
        "colab_type": "code",
        "colab": {
          "base_uri": "https://localhost:8080/",
          "height": 34
        },
        "outputId": "9d79c8eb-919e-4b04-bc59-9abd91ceb53d"
      },
      "source": [
        "shaq = \"Shaquille O'Neal\"\n",
        "\n",
        "print(len(shaq))"
      ],
      "execution_count": 47,
      "outputs": [
        {
          "output_type": "stream",
          "text": [
            "16\n"
          ],
          "name": "stdout"
        }
      ]
    },
    {
      "cell_type": "markdown",
      "metadata": {
        "id": "x0sXeq9-mPcq",
        "colab_type": "text"
      },
      "source": [
        "### cast convert\n",
        "\n",
        "* .upper()\n",
        "* .lower()\n",
        "* .title()\n",
        "* .capitalize()\n",
        "* .swapcase()"
      ]
    },
    {
      "cell_type": "code",
      "metadata": {
        "id": "NncwZJA_mL2f",
        "colab_type": "code",
        "colab": {
          "base_uri": "https://localhost:8080/",
          "height": 34
        },
        "outputId": "fe55887a-c4ad-47f0-b951-c8f0078e2560"
      },
      "source": [
        "shaq = \"Shaquille O'Neal\"\n",
        "print(shaq.upper())"
      ],
      "execution_count": 48,
      "outputs": [
        {
          "output_type": "stream",
          "text": [
            "SHAQUILLE O'NEAL\n"
          ],
          "name": "stdout"
        }
      ]
    },
    {
      "cell_type": "code",
      "metadata": {
        "id": "9b_dMo8cmdVa",
        "colab_type": "code",
        "colab": {
          "base_uri": "https://localhost:8080/",
          "height": 34
        },
        "outputId": "87b34a82-178c-477b-989e-33720fa6075a"
      },
      "source": [
        "print(shaq.lower())"
      ],
      "execution_count": 49,
      "outputs": [
        {
          "output_type": "stream",
          "text": [
            "shaquille o'neal\n"
          ],
          "name": "stdout"
        }
      ]
    },
    {
      "cell_type": "code",
      "metadata": {
        "id": "MRbSXqQrmfBs",
        "colab_type": "code",
        "colab": {
          "base_uri": "https://localhost:8080/",
          "height": 34
        },
        "outputId": "bb17bb90-4ce3-415d-dac9-7c26a9eb1382"
      },
      "source": [
        "print(shaq.lower().title())"
      ],
      "execution_count": 50,
      "outputs": [
        {
          "output_type": "stream",
          "text": [
            "Shaquille O'Neal\n"
          ],
          "name": "stdout"
        }
      ]
    },
    {
      "cell_type": "code",
      "metadata": {
        "id": "7Ks1k-l1micu",
        "colab_type": "code",
        "colab": {
          "base_uri": "https://localhost:8080/",
          "height": 34
        },
        "outputId": "0b5f4656-8026-4632-c3cb-780746e73a46"
      },
      "source": [
        "print(shaq.capitalize())"
      ],
      "execution_count": 51,
      "outputs": [
        {
          "output_type": "stream",
          "text": [
            "Shaquille o'neal\n"
          ],
          "name": "stdout"
        }
      ]
    },
    {
      "cell_type": "code",
      "metadata": {
        "id": "9Id4OKTLmk9d",
        "colab_type": "code",
        "colab": {
          "base_uri": "https://localhost:8080/",
          "height": 34
        },
        "outputId": "bda9aaa4-5d89-4050-e031-465c1f312753"
      },
      "source": [
        "print(shaq.swapcase())"
      ],
      "execution_count": 52,
      "outputs": [
        {
          "output_type": "stream",
          "text": [
            "sHAQUILLE o'nEAL\n"
          ],
          "name": "stdout"
        }
      ]
    },
    {
      "cell_type": "markdown",
      "metadata": {
        "id": "yF_tHAckmqa_",
        "colab_type": "text"
      },
      "source": [
        "### strip spaces\n",
        "\n",
        "* .lstrip()\n",
        "* .rstrip()\n",
        "* .strip()"
      ]
    },
    {
      "cell_type": "code",
      "metadata": {
        "id": "ZQqvg5-amnMA",
        "colab_type": "code",
        "colab": {
          "base_uri": "https://localhost:8080/",
          "height": 34
        },
        "outputId": "61431df7-ab30-4394-9a30-995cbd6d0f0a"
      },
      "source": [
        "shaq = \"    Shaquille O'Neal  \"\n",
        "\n",
        "shaq"
      ],
      "execution_count": 57,
      "outputs": [
        {
          "output_type": "execute_result",
          "data": {
            "text/plain": [
              "\"    Shaquille O'Neal  \""
            ]
          },
          "metadata": {
            "tags": []
          },
          "execution_count": 57
        }
      ]
    },
    {
      "cell_type": "code",
      "metadata": {
        "id": "wnG2E4_omzHf",
        "colab_type": "code",
        "colab": {
          "base_uri": "https://localhost:8080/",
          "height": 34
        },
        "outputId": "637cfa26-4aaa-47ab-a27e-424163951883"
      },
      "source": [
        "shaq.lstrip()"
      ],
      "execution_count": 58,
      "outputs": [
        {
          "output_type": "execute_result",
          "data": {
            "text/plain": [
              "\"Shaquille O'Neal  \""
            ]
          },
          "metadata": {
            "tags": []
          },
          "execution_count": 58
        }
      ]
    },
    {
      "cell_type": "code",
      "metadata": {
        "id": "zGsKAupzm2J9",
        "colab_type": "code",
        "colab": {
          "base_uri": "https://localhost:8080/",
          "height": 34
        },
        "outputId": "ea9b9c84-56bc-45b8-b840-3af7bcbce084"
      },
      "source": [
        "shaq.rstrip()"
      ],
      "execution_count": 59,
      "outputs": [
        {
          "output_type": "execute_result",
          "data": {
            "text/plain": [
              "\"    Shaquille O'Neal\""
            ]
          },
          "metadata": {
            "tags": []
          },
          "execution_count": 59
        }
      ]
    },
    {
      "cell_type": "code",
      "metadata": {
        "id": "cClrQcVUm5aN",
        "colab_type": "code",
        "colab": {
          "base_uri": "https://localhost:8080/",
          "height": 34
        },
        "outputId": "d86fd168-bcf0-46a4-cff4-aa79169cd0b8"
      },
      "source": [
        "shaq.strip()"
      ],
      "execution_count": 60,
      "outputs": [
        {
          "output_type": "execute_result",
          "data": {
            "text/plain": [
              "\"Shaquille O'Neal\""
            ]
          },
          "metadata": {
            "tags": []
          },
          "execution_count": 60
        }
      ]
    },
    {
      "cell_type": "markdown",
      "metadata": {
        "id": "O_Ncxs9xnFrn",
        "colab_type": "text"
      },
      "source": [
        "### format output"
      ]
    },
    {
      "cell_type": "code",
      "metadata": {
        "id": "TLlDA4EIm8n0",
        "colab_type": "code",
        "colab": {
          "base_uri": "https://localhost:8080/",
          "height": 34
        },
        "outputId": "845ade37-a9dd-468f-ee98-1e29f6bc6754"
      },
      "source": [
        "asset_tony_stark = 12400000000\n",
        "print(\"The net worth of Stark industries is ${} USD.\".format(asset_tony_stark))"
      ],
      "execution_count": 61,
      "outputs": [
        {
          "output_type": "stream",
          "text": [
            "The net worth of Stark industries is $12400000000USD.\n"
          ],
          "name": "stdout"
        }
      ]
    },
    {
      "cell_type": "code",
      "metadata": {
        "id": "rdqcbvGXnSTx",
        "colab_type": "code",
        "colab": {
          "base_uri": "https://localhost:8080/",
          "height": 34
        },
        "outputId": "896dcae6-7429-4a93-a3a8-edf1ad8606d8"
      },
      "source": [
        "print(\"The net worth of Stark industries is ${:,} USD.\".format(asset_tony_stark))"
      ],
      "execution_count": 62,
      "outputs": [
        {
          "output_type": "stream",
          "text": [
            "The net worth of Stark industries is $12,400,000,000 USD.\n"
          ],
          "name": "stdout"
        }
      ]
    },
    {
      "cell_type": "code",
      "metadata": {
        "id": "om686B04ndeo",
        "colab_type": "code",
        "colab": {
          "base_uri": "https://localhost:8080/",
          "height": 34
        },
        "outputId": "3eb6c318-a21e-4eb4-8f6e-e22810638fd7"
      },
      "source": [
        "print(\"The net worth of Stark industries is ${:,.2f} USD.\".format(asset_tony_stark))"
      ],
      "execution_count": 63,
      "outputs": [
        {
          "output_type": "stream",
          "text": [
            "The net worth of Stark industries is $12,400,000,000.00 USD.\n"
          ],
          "name": "stdout"
        }
      ]
    },
    {
      "cell_type": "markdown",
      "metadata": {
        "id": "dyfU676nnk_I",
        "colab_type": "text"
      },
      "source": [
        "### sub string"
      ]
    },
    {
      "cell_type": "code",
      "metadata": {
        "id": "bAcmF9DgnhC7",
        "colab_type": "code",
        "colab": {
          "base_uri": "https://localhost:8080/",
          "height": 51
        },
        "outputId": "fdaee68c-dd42-4521-bb4d-daa7fc272be0"
      },
      "source": [
        "shaq = \"Shaquille O'Neal\"\n",
        "nickname = shaq[:4]\n",
        "family_name = shaq[10:]\n",
        "\n",
        "print(nickname)\n",
        "print(family_name)"
      ],
      "execution_count": 66,
      "outputs": [
        {
          "output_type": "stream",
          "text": [
            "Shaq\n",
            "O'Neal\n"
          ],
          "name": "stdout"
        }
      ]
    },
    {
      "cell_type": "markdown",
      "metadata": {
        "id": "N8BNaYQ_n33A",
        "colab_type": "text"
      },
      "source": [
        "### date time format\n",
        "\n",
        "* %a: 縮寫星期\n",
        "* %A: 星期\n",
        "* %b: 縮寫月份\n",
        "* %B: 月份\n",
        "* %d: 月份日期 01-31\n",
        "* %m: 月份數字 01-12\n",
        "* %Y: 四份數西元年份 0-9999\n",
        "* %H: 小時 00-23\n",
        "* %M: 分鍾 00-59\n",
        "* %S: 秒數 00-61"
      ]
    },
    {
      "cell_type": "code",
      "metadata": {
        "id": "fdP0PVHInzBE",
        "colab_type": "code",
        "colab": {
          "base_uri": "https://localhost:8080/",
          "height": 51
        },
        "outputId": "169cf990-3af0-4828-a5f7-fc1cb067183d"
      },
      "source": [
        "from datetime import datetime, timedelta\n",
        "\n",
        "first_day_of_2019 = datetime.strptime('2019-01-01', \"%Y-%m-%d\")\n",
        "print(first_day_of_2019)\n",
        "first_day_of_2019"
      ],
      "execution_count": 70,
      "outputs": [
        {
          "output_type": "stream",
          "text": [
            "2019-01-01 00:00:00\n"
          ],
          "name": "stdout"
        },
        {
          "output_type": "execute_result",
          "data": {
            "text/plain": [
              "datetime.datetime(2019, 1, 1, 0, 0)"
            ]
          },
          "metadata": {
            "tags": []
          },
          "execution_count": 70
        }
      ]
    },
    {
      "cell_type": "code",
      "metadata": {
        "id": "n4UZ61Gmo16W",
        "colab_type": "code",
        "colab": {
          "base_uri": "https://localhost:8080/",
          "height": 34
        },
        "outputId": "4233798d-7035-48d7-d55c-411df258a277"
      },
      "source": [
        "second_day_of_2019 = first_day_of_2019 + timedelta(days=1)\n",
        "print(second_day_of_2019)"
      ],
      "execution_count": 71,
      "outputs": [
        {
          "output_type": "stream",
          "text": [
            "2019-01-02 00:00:00\n"
          ],
          "name": "stdout"
        }
      ]
    },
    {
      "cell_type": "code",
      "metadata": {
        "id": "r3-AsmmDpJL2",
        "colab_type": "code",
        "colab": {
          "base_uri": "https://localhost:8080/",
          "height": 34
        },
        "outputId": "856427df-9f92-4869-860a-1258f5988c3e"
      },
      "source": [
        "last_day_of_2018 = first_day_of_2019 - timedelta(days = 1)\n",
        "print(last_day_of_2018)"
      ],
      "execution_count": 72,
      "outputs": [
        {
          "output_type": "stream",
          "text": [
            "2018-12-31 00:00:00\n"
          ],
          "name": "stdout"
        }
      ]
    },
    {
      "cell_type": "code",
      "metadata": {
        "id": "IYrMqsiipRhP",
        "colab_type": "code",
        "colab": {
          "base_uri": "https://localhost:8080/",
          "height": 34
        },
        "outputId": "3d2b95da-15f8-4167-84c1-887b9fef8d4d"
      },
      "source": [
        "print(first_day_of_2019.strftime('%d, %B, %y %H:%M:%S'))"
      ],
      "execution_count": 73,
      "outputs": [
        {
          "output_type": "stream",
          "text": [
            "01, January, 19 00:00:00\n"
          ],
          "name": "stdout"
        }
      ]
    },
    {
      "cell_type": "markdown",
      "metadata": {
        "id": "hTIL_fsZpjhv",
        "colab_type": "text"
      },
      "source": [
        "### sep of split()"
      ]
    },
    {
      "cell_type": "code",
      "metadata": {
        "id": "BJXp6mfupYgN",
        "colab_type": "code",
        "colab": {
          "base_uri": "https://localhost:8080/",
          "height": 34
        },
        "outputId": "5e7e064d-bf89-45ec-d1ed-92477fc34b3a"
      },
      "source": [
        "shaq = \"Shaquille O'Neal\"\n",
        "print(shaq.split(sep=\" \"))\n"
      ],
      "execution_count": 74,
      "outputs": [
        {
          "output_type": "stream",
          "text": [
            "['Shaquille', \"O'Neal\"]\n"
          ],
          "name": "stdout"
        }
      ]
    },
    {
      "cell_type": "code",
      "metadata": {
        "id": "m9CCzivEpq7w",
        "colab_type": "code",
        "colab": {
          "base_uri": "https://localhost:8080/",
          "height": 34
        },
        "outputId": "3a5fe3b8-3be3-49a8-e2b8-913356f77f2e"
      },
      "source": [
        "shaq = \"O'Neal, Shaquille\"\n",
        "print(shaq.split(sep=\", \"))"
      ],
      "execution_count": 76,
      "outputs": [
        {
          "output_type": "stream",
          "text": [
            "[\"O'Neal\", 'Shaquille']\n"
          ],
          "name": "stdout"
        }
      ]
    },
    {
      "cell_type": "markdown",
      "metadata": {
        "id": "ys9vJFNlp38O",
        "colab_type": "text"
      },
      "source": [
        "### find"
      ]
    },
    {
      "cell_type": "code",
      "metadata": {
        "id": "lP8D0D-Npvqe",
        "colab_type": "code",
        "colab": {
          "base_uri": "https://localhost:8080/",
          "height": 34
        },
        "outputId": "f8a56c90-e424-4bc1-d29e-d120bab77a7f"
      },
      "source": [
        "shaq = \"Shaquille O'Neal\"\n",
        "print('a' in shaq)"
      ],
      "execution_count": 77,
      "outputs": [
        {
          "output_type": "stream",
          "text": [
            "True\n"
          ],
          "name": "stdout"
        }
      ]
    },
    {
      "cell_type": "code",
      "metadata": {
        "id": "HKsk6kQ7p97g",
        "colab_type": "code",
        "colab": {
          "base_uri": "https://localhost:8080/",
          "height": 34
        },
        "outputId": "fa7c5730-dc31-4196-acd0-fa1d741ae65f"
      },
      "source": [
        "print(shaq.find('a'))"
      ],
      "execution_count": 78,
      "outputs": [
        {
          "output_type": "stream",
          "text": [
            "2\n"
          ],
          "name": "stdout"
        }
      ]
    },
    {
      "cell_type": "code",
      "metadata": {
        "id": "bXUn9PJwqIDK",
        "colab_type": "code",
        "colab": {
          "base_uri": "https://localhost:8080/",
          "height": 34
        },
        "outputId": "12f77b84-5527-426d-89ef-9ec8f5dc1254"
      },
      "source": [
        "print('z' in shaq)"
      ],
      "execution_count": 79,
      "outputs": [
        {
          "output_type": "stream",
          "text": [
            "False\n"
          ],
          "name": "stdout"
        }
      ]
    },
    {
      "cell_type": "code",
      "metadata": {
        "id": "Q5WgRyj-qMZH",
        "colab_type": "code",
        "colab": {
          "base_uri": "https://localhost:8080/",
          "height": 34
        },
        "outputId": "a069220e-b432-406c-fa13-03887ffaaa89"
      },
      "source": [
        "print(shaq.find('z'))"
      ],
      "execution_count": 80,
      "outputs": [
        {
          "output_type": "stream",
          "text": [
            "-1\n"
          ],
          "name": "stdout"
        }
      ]
    },
    {
      "cell_type": "code",
      "metadata": {
        "id": "JpDnTPPaqO2l",
        "colab_type": "code",
        "colab": {
          "base_uri": "https://localhost:8080/",
          "height": 34
        },
        "outputId": "eae9f9f7-0837-4307-f075-f811429ad2e8"
      },
      "source": [
        "try:\n",
        "  print(shaq.index('z'))\n",
        "except ValueError:\n",
        "  print(\"找不到\")"
      ],
      "execution_count": 81,
      "outputs": [
        {
          "output_type": "stream",
          "text": [
            "找不到\n"
          ],
          "name": "stdout"
        }
      ]
    },
    {
      "cell_type": "markdown",
      "metadata": {
        "id": "o9WEs6KBqbGK",
        "colab_type": "text"
      },
      "source": [
        "### replace"
      ]
    },
    {
      "cell_type": "code",
      "metadata": {
        "id": "2m_CYPZbqWbE",
        "colab_type": "code",
        "colab": {
          "base_uri": "https://localhost:8080/",
          "height": 34
        },
        "outputId": "be4fa7e6-ffb6-4fe3-f687-daa907dbf4c8"
      },
      "source": [
        "shaq = \"Shaquille O'Neal\"\n",
        "print(shaq.replace('a', 'A'))"
      ],
      "execution_count": 82,
      "outputs": [
        {
          "output_type": "stream",
          "text": [
            "ShAquille O'NeAl\n"
          ],
          "name": "stdout"
        }
      ]
    },
    {
      "cell_type": "markdown",
      "metadata": {
        "id": "MTUrkg23qj82",
        "colab_type": "text"
      },
      "source": [
        "### reg exp\n",
        "\n",
        "* ?: 零次或一次\n",
        "* *: 零次以上\n",
        "* +: 一次以上\n",
        "* {m}: char count is m\n",
        "* {m, n}: char count between m and n (m < n)\n",
        "* []: combination\n",
        "* \\: escape char\n",
        "* \\s: space"
      ]
    },
    {
      "cell_type": "code",
      "metadata": {
        "id": "V9uFBb7EqhxI",
        "colab_type": "code",
        "colab": {
          "base_uri": "https://localhost:8080/",
          "height": 34
        },
        "outputId": "90e6ba23-430c-4c3d-d3a2-584e2378fbd0"
      },
      "source": [
        "import re\n",
        "shaq = \"Shaquille O'Neal\"\n",
        "print(re.split(pattern=\"\\s+\", string=shaq))"
      ],
      "execution_count": 85,
      "outputs": [
        {
          "output_type": "stream",
          "text": [
            "['Shaquille', \"O'Neal\"]\n"
          ],
          "name": "stdout"
        }
      ]
    },
    {
      "cell_type": "code",
      "metadata": {
        "id": "wp9BigM-rQ4G",
        "colab_type": "code",
        "colab": {
          "base_uri": "https://localhost:8080/",
          "height": 34
        },
        "outputId": "12af4b61-e320-48d3-ba67-afae3df46696"
      },
      "source": [
        "print(len(re.findall(pattern=\"\\s+\", string=shaq))>0)"
      ],
      "execution_count": 86,
      "outputs": [
        {
          "output_type": "stream",
          "text": [
            "True\n"
          ],
          "name": "stdout"
        }
      ]
    },
    {
      "cell_type": "code",
      "metadata": {
        "id": "YZdWUG2MriZD",
        "colab_type": "code",
        "colab": {
          "base_uri": "https://localhost:8080/",
          "height": 34
        },
        "outputId": "58badc52-228a-4f08-b9c4-12f7fbbcc9df"
      },
      "source": [
        "print(re.sub(pattern=\"\\s+\", repl=';', string=shaq))"
      ],
      "execution_count": 87,
      "outputs": [
        {
          "output_type": "stream",
          "text": [
            "Shaquille;O'Neal\n"
          ],
          "name": "stdout"
        }
      ]
    },
    {
      "cell_type": "markdown",
      "metadata": {
        "id": "bc3teprerr-G",
        "colab_type": "text"
      },
      "source": [
        "### text in array"
      ]
    },
    {
      "cell_type": "code",
      "metadata": {
        "id": "6CkuwsXQroK7",
        "colab_type": "code",
        "colab": {
          "base_uri": "https://localhost:8080/",
          "height": 51
        },
        "outputId": "3353478f-a9c1-4ca1-915f-8c9fc6e9230f"
      },
      "source": [
        "import re\n",
        "\n",
        "def remove_vowels(x):\n",
        "  ans = re.sub(pattern=\"[aeiouAEIOU]+\", repl='', string=x)\n",
        "  return ans\n",
        "\n",
        "fav_players = [\"Steve Nash\", \"Michael Jordan\", \"Paul Pierce\", \"Kevin Garnett\", \"Shaquille O'Neal\"]\n",
        "\n",
        "print(fav_players)\n",
        "print(list(map(remove_vowels, fav_players)))"
      ],
      "execution_count": 88,
      "outputs": [
        {
          "output_type": "stream",
          "text": [
            "['Steve Nash', 'Michael Jordan', 'Paul Pierce', 'Kevin Garnett', \"Shaquille O'Neal\"]\n",
            "['Stv Nsh', 'Mchl Jrdn', 'Pl Prc', 'Kvn Grntt', \"Shqll 'Nl\"]\n"
          ],
          "name": "stdout"
        }
      ]
    },
    {
      "cell_type": "markdown",
      "metadata": {
        "id": "-YVpXEvH7EB0",
        "colab_type": "text"
      },
      "source": [
        "## Chapter 10 Visualization\n",
        "\n",
        "matplotlib pyplot, seaborn, pandas"
      ]
    },
    {
      "cell_type": "markdown",
      "metadata": {
        "id": "hewY4ohx8tWc",
        "colab_type": "text"
      },
      "source": [
        "### bar chart"
      ]
    },
    {
      "cell_type": "code",
      "metadata": {
        "id": "wgHC9g-QsLCu",
        "colab_type": "code",
        "colab": {}
      },
      "source": [
        "import pandas as pd\n",
        "import matplotlib.pyplot as plt"
      ],
      "execution_count": 0,
      "outputs": []
    },
    {
      "cell_type": "code",
      "metadata": {
        "id": "wm6PYKg_7hpQ",
        "colab_type": "code",
        "colab": {
          "base_uri": "https://localhost:8080/",
          "height": 265
        },
        "outputId": "13b4f1ca-f8a2-4b96-c78a-cb0396cd9125"
      },
      "source": [
        "csv_url = \"https://storage.googleapis.com/ds_data_import/chicago_bulls_1995_1996.csv\"\n",
        "df = pd.read_csv(csv_url)\n",
        "\n",
        "grouped = df.groupby(\"Pos\")\n",
        "pos = grouped[\"Pos\"].count()\n",
        "\n",
        "plt.bar([1,2,3,4,5], pos)\n",
        "plt.xticks([1,2,3,4,5], pos.index)\n",
        "plt.yticks([1,2,3,4],[1,2,3,4])\n",
        "\n",
        "plt.show()"
      ],
      "execution_count": 3,
      "outputs": [
        {
          "output_type": "display_data",
          "data": {
            "image/png": "[encoded data removed]",
            "text/plain": [
              "<Figure size 432x288 with 1 Axes>"
            ]
          },
          "metadata": {
            "tags": [],
            "needs_background": "light"
          }
        }
      ]
    },
    {
      "cell_type": "code",
      "metadata": {
        "id": "rAQm2zRn8COY",
        "colab_type": "code",
        "colab": {
          "base_uri": "https://localhost:8080/",
          "height": 136
        },
        "outputId": "4171c550-e15e-476e-c6d5-8e11de28e312"
      },
      "source": [
        "pos"
      ],
      "execution_count": 4,
      "outputs": [
        {
          "output_type": "execute_result",
          "data": {
            "text/plain": [
              "Pos\n",
              "C     4\n",
              "PF    4\n",
              "PG    3\n",
              "SF    3\n",
              "SG    1\n",
              "Name: Pos, dtype: int64"
            ]
          },
          "metadata": {
            "tags": []
          },
          "execution_count": 4
        }
      ]
    },
    {
      "cell_type": "code",
      "metadata": {
        "id": "ZQHvJI_R8SFA",
        "colab_type": "code",
        "colab": {
          "base_uri": "https://localhost:8080/",
          "height": 34
        },
        "outputId": "e3a707a9-5d24-404a-bed1-e3b72978219e"
      },
      "source": [
        "pos.index"
      ],
      "execution_count": 5,
      "outputs": [
        {
          "output_type": "execute_result",
          "data": {
            "text/plain": [
              "Index(['C', 'PF', 'PG', 'SF', 'SG'], dtype='object', name='Pos')"
            ]
          },
          "metadata": {
            "tags": []
          },
          "execution_count": 5
        }
      ]
    },
    {
      "cell_type": "code",
      "metadata": {
        "id": "zHFfRb9Z8TUA",
        "colab_type": "code",
        "colab": {
          "base_uri": "https://localhost:8080/",
          "height": 514
        },
        "outputId": "71176459-c2d6-4e38-e2dc-4f495deff44e"
      },
      "source": [
        "df"
      ],
      "execution_count": 6,
      "outputs": [
        {
          "output_type": "execute_result",
          "data": {
            "text/html": [
              "<div>\n",
              "<style scoped>\n",
              "    .dataframe tbody tr th:only-of-type {\n",
              "        vertical-align: middle;\n",
              "    }\n",
              "\n",
              "    .dataframe tbody tr th {\n",
              "        vertical-align: top;\n",
              "    }\n",
              "\n",
              "    .dataframe thead th {\n",
              "        text-align: right;\n",
              "    }\n",
              "</style>\n",
              "<table border=\"1\" class=\"dataframe\">\n",
              "  <thead>\n",
              "    <tr style=\"text-align: right;\">\n",
              "      <th></th>\n",
              "      <th>No.</th>\n",
              "      <th>Player</th>\n",
              "      <th>Pos</th>\n",
              "      <th>Ht</th>\n",
              "      <th>Wt</th>\n",
              "      <th>Birth Date</th>\n",
              "      <th>College</th>\n",
              "    </tr>\n",
              "  </thead>\n",
              "  <tbody>\n",
              "    <tr>\n",
              "      <th>0</th>\n",
              "      <td>0</td>\n",
              "      <td>Randy Brown</td>\n",
              "      <td>PG</td>\n",
              "      <td>6-2</td>\n",
              "      <td>190</td>\n",
              "      <td>May 22, 1968</td>\n",
              "      <td>University of Houston, New Mexico State Univer...</td>\n",
              "    </tr>\n",
              "    <tr>\n",
              "      <th>1</th>\n",
              "      <td>30</td>\n",
              "      <td>Jud Buechler</td>\n",
              "      <td>SF</td>\n",
              "      <td>6-6</td>\n",
              "      <td>220</td>\n",
              "      <td>June 19, 1968</td>\n",
              "      <td>University of Arizona</td>\n",
              "    </tr>\n",
              "    <tr>\n",
              "      <th>2</th>\n",
              "      <td>35</td>\n",
              "      <td>Jason Caffey</td>\n",
              "      <td>PF</td>\n",
              "      <td>6-8</td>\n",
              "      <td>255</td>\n",
              "      <td>June 12, 1973</td>\n",
              "      <td>University of Alabama</td>\n",
              "    </tr>\n",
              "    <tr>\n",
              "      <th>3</th>\n",
              "      <td>53</td>\n",
              "      <td>James Edwards</td>\n",
              "      <td>C</td>\n",
              "      <td>7-0</td>\n",
              "      <td>225</td>\n",
              "      <td>November 22, 1955</td>\n",
              "      <td>University of Washington</td>\n",
              "    </tr>\n",
              "    <tr>\n",
              "      <th>4</th>\n",
              "      <td>54</td>\n",
              "      <td>Jack Haley</td>\n",
              "      <td>C</td>\n",
              "      <td>6-10</td>\n",
              "      <td>240</td>\n",
              "      <td>January 27, 1964</td>\n",
              "      <td>University of California, Los Angeles</td>\n",
              "    </tr>\n",
              "    <tr>\n",
              "      <th>5</th>\n",
              "      <td>9</td>\n",
              "      <td>Ron Harper</td>\n",
              "      <td>PG</td>\n",
              "      <td>6-6</td>\n",
              "      <td>185</td>\n",
              "      <td>January 20, 1964</td>\n",
              "      <td>Miami University</td>\n",
              "    </tr>\n",
              "    <tr>\n",
              "      <th>6</th>\n",
              "      <td>23</td>\n",
              "      <td>Michael Jordan</td>\n",
              "      <td>SG</td>\n",
              "      <td>6-6</td>\n",
              "      <td>195</td>\n",
              "      <td>February 17, 1963</td>\n",
              "      <td>University of North Carolina</td>\n",
              "    </tr>\n",
              "    <tr>\n",
              "      <th>7</th>\n",
              "      <td>25</td>\n",
              "      <td>Steve Kerr</td>\n",
              "      <td>PG</td>\n",
              "      <td>6-3</td>\n",
              "      <td>175</td>\n",
              "      <td>September 27, 1965</td>\n",
              "      <td>University of Arizona</td>\n",
              "    </tr>\n",
              "    <tr>\n",
              "      <th>8</th>\n",
              "      <td>7</td>\n",
              "      <td>Toni Kukoc</td>\n",
              "      <td>SF</td>\n",
              "      <td>6-10</td>\n",
              "      <td>192</td>\n",
              "      <td>September 18, 1968</td>\n",
              "      <td>NaN</td>\n",
              "    </tr>\n",
              "    <tr>\n",
              "      <th>9</th>\n",
              "      <td>13</td>\n",
              "      <td>Luc Longley</td>\n",
              "      <td>C</td>\n",
              "      <td>7-2</td>\n",
              "      <td>265</td>\n",
              "      <td>January 19, 1969</td>\n",
              "      <td>University of New Mexico</td>\n",
              "    </tr>\n",
              "    <tr>\n",
              "      <th>10</th>\n",
              "      <td>33</td>\n",
              "      <td>Scottie Pippen</td>\n",
              "      <td>SF</td>\n",
              "      <td>6-8</td>\n",
              "      <td>210</td>\n",
              "      <td>September 25, 1965</td>\n",
              "      <td>University of Central Arkansas</td>\n",
              "    </tr>\n",
              "    <tr>\n",
              "      <th>11</th>\n",
              "      <td>91</td>\n",
              "      <td>Dennis Rodman</td>\n",
              "      <td>PF</td>\n",
              "      <td>6-7</td>\n",
              "      <td>210</td>\n",
              "      <td>May 13, 1961</td>\n",
              "      <td>Southeastern Oklahoma State University</td>\n",
              "    </tr>\n",
              "    <tr>\n",
              "      <th>12</th>\n",
              "      <td>22</td>\n",
              "      <td>John Salley</td>\n",
              "      <td>PF</td>\n",
              "      <td>6-11</td>\n",
              "      <td>230</td>\n",
              "      <td>May 16, 1964</td>\n",
              "      <td>Georgia Institute of Technology</td>\n",
              "    </tr>\n",
              "    <tr>\n",
              "      <th>13</th>\n",
              "      <td>8</td>\n",
              "      <td>Dickey Simpkins</td>\n",
              "      <td>PF</td>\n",
              "      <td>6-9</td>\n",
              "      <td>248</td>\n",
              "      <td>April 6, 1972</td>\n",
              "      <td>Providence College</td>\n",
              "    </tr>\n",
              "    <tr>\n",
              "      <th>14</th>\n",
              "      <td>34</td>\n",
              "      <td>Bill Wennington</td>\n",
              "      <td>C</td>\n",
              "      <td>7-0</td>\n",
              "      <td>245</td>\n",
              "      <td>April 26, 1963</td>\n",
              "      <td>St. John's University</td>\n",
              "    </tr>\n",
              "  </tbody>\n",
              "</table>\n",
              "</div>"
            ],
            "text/plain": [
              "    No.  ...                                            College\n",
              "0     0  ...  University of Houston, New Mexico State Univer...\n",
              "1    30  ...                              University of Arizona\n",
              "2    35  ...                              University of Alabama\n",
              "3    53  ...                           University of Washington\n",
              "4    54  ...              University of California, Los Angeles\n",
              "5     9  ...                                   Miami University\n",
              "6    23  ...                       University of North Carolina\n",
              "7    25  ...                              University of Arizona\n",
              "8     7  ...                                                NaN\n",
              "9    13  ...                           University of New Mexico\n",
              "10   33  ...                     University of Central Arkansas\n",
              "11   91  ...             Southeastern Oklahoma State University\n",
              "12   22  ...                    Georgia Institute of Technology\n",
              "13    8  ...                                 Providence College\n",
              "14   34  ...                              St. John's University\n",
              "\n",
              "[15 rows x 7 columns]"
            ]
          },
          "metadata": {
            "tags": []
          },
          "execution_count": 6
        }
      ]
    },
    {
      "cell_type": "code",
      "metadata": {
        "id": "Mez6IybH8hqI",
        "colab_type": "code",
        "colab": {
          "base_uri": "https://localhost:8080/",
          "height": 283
        },
        "outputId": "a0d8898c-affc-4859-856c-ad498c65605c"
      },
      "source": [
        "pos.plot.bar()\n",
        "plt.yticks([1,2,3,4],[1,2,3,4])\n",
        "plt.show()"
      ],
      "execution_count": 7,
      "outputs": [
        {
          "output_type": "display_data",
          "data": {
            "image/png": "[encoded data removed]",
            "text/plain": [
              "<Figure size 432x288 with 1 Axes>"
            ]
          },
          "metadata": {
            "tags": [],
            "needs_background": "light"
          }
        }
      ]
    },
    {
      "cell_type": "code",
      "metadata": {
        "id": "2SGt8RJ287lI",
        "colab_type": "code",
        "colab": {
          "base_uri": "https://localhost:8080/",
          "height": 265
        },
        "outputId": "a323342b-6788-48a7-a885-be8f7a3c1143"
      },
      "source": [
        "per_game_url = \"https://storage.googleapis.com/ds_data_import/stats_per_game_chicago_bulls_1995_1996.csv\"\n",
        "player_info_url = \"https://storage.googleapis.com/ds_data_import/chicago_bulls_1995_1996.csv\"\n",
        "per_game = pd.read_csv(per_game_url)\n",
        "player_info = pd.read_csv(player_info_url)\n",
        "\n",
        "df = pd.merge(player_info, per_game[[\"Name\",\"PTS/G\"]], left_on=\"Player\", right_on=\"Name\")\n",
        "grouped = df.groupby(\"Pos\")\n",
        "points_per_game = grouped[\"PTS/G\"].mean()\n",
        "\n",
        "plt.bar([1,2,3,4,5], points_per_game)\n",
        "plt.xticks([1,2,3,4,5], points_per_game.index)\n",
        "\n",
        "plt.show()"
      ],
      "execution_count": 17,
      "outputs": [
        {
          "output_type": "display_data",
          "data": {
            "image/png": "[encoded data removed]",
            "text/plain": [
              "<Figure size 432x288 with 1 Axes>"
            ]
          },
          "metadata": {
            "tags": [],
            "needs_background": "light"
          }
        }
      ]
    },
    {
      "cell_type": "code",
      "metadata": {
        "id": "2kVk9ZOCNFWc",
        "colab_type": "code",
        "colab": {
          "base_uri": "https://localhost:8080/",
          "height": 283
        },
        "outputId": "4e976a45-fef7-4841-b1ea-d19ba5ad1ee6"
      },
      "source": [
        "points_per_game.plot.bar()\n",
        "plt.show()"
      ],
      "execution_count": 18,
      "outputs": [
        {
          "output_type": "display_data",
          "data": {
            "image/png": "[encoded data removed]",
            "text/plain": [
              "<Figure size 432x288 with 1 Axes>"
            ]
          },
          "metadata": {
            "tags": [],
            "needs_background": "light"
          }
        }
      ]
    },
    {
      "cell_type": "markdown",
      "metadata": {
        "id": "JzseOUC9NXkP",
        "colab_type": "text"
      },
      "source": [
        "### distribution"
      ]
    },
    {
      "cell_type": "code",
      "metadata": {
        "id": "PwYBs9o8O4qj",
        "colab_type": "code",
        "colab": {
          "base_uri": "https://localhost:8080/",
          "height": 156
        },
        "outputId": "2672e4d0-3c05-4577-b44d-c76ecfb7a5c6"
      },
      "source": [
        "!pip install pyquery"
      ],
      "execution_count": 20,
      "outputs": [
        {
          "output_type": "stream",
          "text": [
            "Collecting pyquery\n",
            "  Downloading https://files.pythonhosted.org/packages/78/43/95d42e386c61cb639d1a0b94f0c0b9f0b7d6b981ad3c043a836c8b5bc68b/pyquery-1.4.1-py2.py3-none-any.whl\n",
            "Requirement already satisfied: lxml>=2.1 in /usr/local/lib/python3.6/dist-packages (from pyquery) (4.2.6)\n",
            "Collecting cssselect>0.7.9\n",
            "  Downloading https://files.pythonhosted.org/packages/3b/d4/3b5c17f00cce85b9a1e6f91096e1cc8e8ede2e1be8e96b87ce1ed09e92c5/cssselect-1.1.0-py2.py3-none-any.whl\n",
            "Installing collected packages: cssselect, pyquery\n",
            "Successfully installed cssselect-1.1.0 pyquery-1.4.1\n"
          ],
          "name": "stdout"
        }
      ]
    },
    {
      "cell_type": "code",
      "metadata": {
        "id": "hWjrQswcNanf",
        "colab_type": "code",
        "colab": {
          "base_uri": "https://localhost:8080/",
          "height": 297
        },
        "outputId": "ae3cfb35-f986-48ac-b347-04f3554904fd"
      },
      "source": [
        "from pyquery import PyQuery as pq\n",
        "import pandas as pd\n",
        "import matplotlib.pyplot as plt\n",
        "\n",
        "def get_nba_sallary():\n",
        "  \"\"\"\n",
        "  Get NBA players' salary from SPOTRAC.COM\n",
        "  \"\"\"\n",
        "  nba_salary_ranking_url = \"https://www.spotrac.com/nba/ranings/\"\n",
        "  html_doc = pq(nba_salary_ranking_url)\n",
        "  \n",
        "  player_css = \".team-name\"\n",
        "  pos_css = \".rank-position\"\n",
        "  salary_css = \".info\"\n",
        "\n",
        "  players = [p.text for p in html_doc(player_css)]\n",
        "  positions = [p.text for p in html_doc(pos_css)]\n",
        "  salaries = [s.text.replace(\"$\", \"\") for s in html_doc(salary_css)]\n",
        "  salaries = [int(s.replace(\",\", \"\")) for s in salaries]\n",
        "\n",
        "  df = pd.DataFrame()\n",
        "  df[\"player\"] = players\n",
        "  df[\"pos\"] = positions\n",
        "  df[\"salary\"] = salaries\n",
        "\n",
        "  return df\n",
        "\n",
        "nba_salary = get_nba_sallary()\n",
        "plt.hist(nba_salary[\"salary\"], bins=15)\n",
        "plt.show()\n",
        "\n",
        "nba_salary"
      ],
      "execution_count": 24,
      "outputs": [
        {
          "output_type": "display_data",
          "data": {
            "image/png": "[encoded data removed]",
            "text/plain": [
              "<Figure size 432x288 with 1 Axes>"
            ]
          },
          "metadata": {
            "tags": [],
            "needs_background": "light"
          }
        },
        {
          "output_type": "execute_result",
          "data": {
            "text/html": [
              "<div>\n",
              "<style scoped>\n",
              "    .dataframe tbody tr th:only-of-type {\n",
              "        vertical-align: middle;\n",
              "    }\n",
              "\n",
              "    .dataframe tbody tr th {\n",
              "        vertical-align: top;\n",
              "    }\n",
              "\n",
              "    .dataframe thead th {\n",
              "        text-align: right;\n",
              "    }\n",
              "</style>\n",
              "<table border=\"1\" class=\"dataframe\">\n",
              "  <thead>\n",
              "    <tr style=\"text-align: right;\">\n",
              "      <th></th>\n",
              "      <th>player</th>\n",
              "      <th>pos</th>\n",
              "      <th>salary</th>\n",
              "    </tr>\n",
              "  </thead>\n",
              "  <tbody>\n",
              "  </tbody>\n",
              "</table>\n",
              "</div>"
            ],
            "text/plain": [
              "Empty DataFrame\n",
              "Columns: [player, pos, salary]\n",
              "Index: []"
            ]
          },
          "metadata": {
            "tags": []
          },
          "execution_count": 24
        }
      ]
    },
    {
      "cell_type": "code",
      "metadata": {
        "id": "SfewxEOOPAK2",
        "colab_type": "code",
        "colab": {
          "base_uri": "https://localhost:8080/",
          "height": 265
        },
        "outputId": "fa36bf3c-8a71-4b27-8b3f-dabd4c9fead2"
      },
      "source": [
        "nba_salary[\"salary\"].plot.hist(bins=15)\n",
        "plt.show()"
      ],
      "execution_count": 25,
      "outputs": [
        {
          "output_type": "display_data",
          "data": {
            "image/png": "[encoded data removed]",
            "text/plain": [
              "<Figure size 432x288 with 1 Axes>"
            ]
          },
          "metadata": {
            "tags": [],
            "needs_background": "light"
          }
        }
      ]
    },
    {
      "cell_type": "code",
      "metadata": {
        "id": "CUbl0qH4QhrP",
        "colab_type": "code",
        "colab": {
          "base_uri": "https://localhost:8080/",
          "height": 252
        },
        "outputId": "b2ab6125-1d0b-4ecf-eb3a-8bca6b90ca09"
      },
      "source": [
        "box_df = nba_salary.pivot(index='player', columns='pos', values='salary')\n",
        "data_to_plot = [box_df[col].values[~np.isnan(box_df[col].values)] for col in box_df.columns]\n",
        "plt.boxplot(data_to_plot)\n",
        "plt.xticks(range(1,6), box_df.columns)\n",
        "plt.show()"
      ],
      "execution_count": 27,
      "outputs": [
        {
          "output_type": "display_data",
          "data": {
            "image/png": "[encoded data removed]",
            "text/plain": [
              "<Figure size 432x288 with 1 Axes>"
            ]
          },
          "metadata": {
            "tags": [],
            "needs_background": "light"
          }
        }
      ]
    },
    {
      "cell_type": "code",
      "metadata": {
        "id": "QO46E9kmRB6Z",
        "colab_type": "code",
        "colab": {
          "base_uri": "https://localhost:8080/",
          "height": 324
        },
        "outputId": "7542d2ac-b74d-4eef-fcb5-74280090edda"
      },
      "source": [
        "box_df.plot.box()\n",
        "plt.show()"
      ],
      "execution_count": 28,
      "outputs": [
        {
          "output_type": "error",
          "ename": "TypeError",
          "evalue": "ignored",
          "traceback": [
            "\u001b[0;31m---------------------------------------------------------------------------\u001b[0m",
            "\u001b[0;31mTypeError\u001b[0m                                 Traceback (most recent call last)",
            "\u001b[0;32m<ipython-input-28-ce297ef2e880>\u001b[0m in \u001b[0;36m<module>\u001b[0;34m()\u001b[0m\n\u001b[0;32m----> 1\u001b[0;31m \u001b[0mbox_df\u001b[0m\u001b[0;34m.\u001b[0m\u001b[0mplot\u001b[0m\u001b[0;34m.\u001b[0m\u001b[0mbox\u001b[0m\u001b[0;34m(\u001b[0m\u001b[0;34m)\u001b[0m\u001b[0;34m\u001b[0m\u001b[0;34m\u001b[0m\u001b[0m\n\u001b[0m\u001b[1;32m      2\u001b[0m \u001b[0mplt\u001b[0m\u001b[0;34m.\u001b[0m\u001b[0mshow\u001b[0m\u001b[0;34m(\u001b[0m\u001b[0;34m)\u001b[0m\u001b[0;34m\u001b[0m\u001b[0;34m\u001b[0m\u001b[0m\n",
            "\u001b[0;32m/usr/local/lib/python3.6/dist-packages/pandas/plotting/_core.py\u001b[0m in \u001b[0;36mbox\u001b[0;34m(self, by, **kwargs)\u001b[0m\n\u001b[1;32m   1131\u001b[0m             \u001b[0;34m>>\u001b[0m\u001b[0;34m>\u001b[0m \u001b[0max\u001b[0m \u001b[0;34m=\u001b[0m \u001b[0mdf\u001b[0m\u001b[0;34m.\u001b[0m\u001b[0mplot\u001b[0m\u001b[0;34m.\u001b[0m\u001b[0mbox\u001b[0m\u001b[0;34m(\u001b[0m\u001b[0;34m)\u001b[0m\u001b[0;34m\u001b[0m\u001b[0;34m\u001b[0m\u001b[0m\n\u001b[1;32m   1132\u001b[0m         \"\"\"\n\u001b[0;32m-> 1133\u001b[0;31m         \u001b[0;32mreturn\u001b[0m \u001b[0mself\u001b[0m\u001b[0;34m(\u001b[0m\u001b[0mkind\u001b[0m\u001b[0;34m=\u001b[0m\u001b[0;34m\"box\"\u001b[0m\u001b[0;34m,\u001b[0m \u001b[0mby\u001b[0m\u001b[0;34m=\u001b[0m\u001b[0mby\u001b[0m\u001b[0;34m,\u001b[0m \u001b[0;34m**\u001b[0m\u001b[0mkwargs\u001b[0m\u001b[0;34m)\u001b[0m\u001b[0;34m\u001b[0m\u001b[0;34m\u001b[0m\u001b[0m\n\u001b[0m\u001b[1;32m   1134\u001b[0m \u001b[0;34m\u001b[0m\u001b[0m\n\u001b[1;32m   1135\u001b[0m     \u001b[0;32mdef\u001b[0m \u001b[0mhist\u001b[0m\u001b[0;34m(\u001b[0m\u001b[0mself\u001b[0m\u001b[0;34m,\u001b[0m \u001b[0mby\u001b[0m\u001b[0;34m=\u001b[0m\u001b[0;32mNone\u001b[0m\u001b[0;34m,\u001b[0m \u001b[0mbins\u001b[0m\u001b[0;34m=\u001b[0m\u001b[0;36m10\u001b[0m\u001b[0;34m,\u001b[0m \u001b[0;34m**\u001b[0m\u001b[0mkwargs\u001b[0m\u001b[0;34m)\u001b[0m\u001b[0;34m:\u001b[0m\u001b[0;34m\u001b[0m\u001b[0;34m\u001b[0m\u001b[0m\n",
            "\u001b[0;32m/usr/local/lib/python3.6/dist-packages/pandas/plotting/_core.py\u001b[0m in \u001b[0;36m__call__\u001b[0;34m(self, *args, **kwargs)\u001b[0m\n\u001b[1;32m    845\u001b[0m                     \u001b[0mdata\u001b[0m\u001b[0;34m.\u001b[0m\u001b[0mcolumns\u001b[0m \u001b[0;34m=\u001b[0m \u001b[0mlabel_name\u001b[0m\u001b[0;34m\u001b[0m\u001b[0;34m\u001b[0m\u001b[0m\n\u001b[1;32m    846\u001b[0m \u001b[0;34m\u001b[0m\u001b[0m\n\u001b[0;32m--> 847\u001b[0;31m         \u001b[0;32mreturn\u001b[0m \u001b[0mplot_backend\u001b[0m\u001b[0;34m.\u001b[0m\u001b[0mplot\u001b[0m\u001b[0;34m(\u001b[0m\u001b[0mdata\u001b[0m\u001b[0;34m,\u001b[0m \u001b[0mkind\u001b[0m\u001b[0;34m=\u001b[0m\u001b[0mkind\u001b[0m\u001b[0;34m,\u001b[0m \u001b[0;34m**\u001b[0m\u001b[0mkwargs\u001b[0m\u001b[0;34m)\u001b[0m\u001b[0;34m\u001b[0m\u001b[0;34m\u001b[0m\u001b[0m\n\u001b[0m\u001b[1;32m    848\u001b[0m \u001b[0;34m\u001b[0m\u001b[0m\n\u001b[1;32m    849\u001b[0m     \u001b[0m__call__\u001b[0m\u001b[0;34m.\u001b[0m\u001b[0m__doc__\u001b[0m \u001b[0;34m=\u001b[0m \u001b[0m__doc__\u001b[0m\u001b[0;34m\u001b[0m\u001b[0;34m\u001b[0m\u001b[0m\n",
            "\u001b[0;32m/usr/local/lib/python3.6/dist-packages/pandas/plotting/_matplotlib/__init__.py\u001b[0m in \u001b[0;36mplot\u001b[0;34m(data, kind, **kwargs)\u001b[0m\n\u001b[1;32m     59\u001b[0m             \u001b[0mkwargs\u001b[0m\u001b[0;34m[\u001b[0m\u001b[0;34m\"ax\"\u001b[0m\u001b[0;34m]\u001b[0m \u001b[0;34m=\u001b[0m \u001b[0mgetattr\u001b[0m\u001b[0;34m(\u001b[0m\u001b[0max\u001b[0m\u001b[0;34m,\u001b[0m \u001b[0;34m\"left_ax\"\u001b[0m\u001b[0;34m,\u001b[0m \u001b[0max\u001b[0m\u001b[0;34m)\u001b[0m\u001b[0;34m\u001b[0m\u001b[0;34m\u001b[0m\u001b[0m\n\u001b[1;32m     60\u001b[0m     \u001b[0mplot_obj\u001b[0m \u001b[0;34m=\u001b[0m \u001b[0mPLOT_CLASSES\u001b[0m\u001b[0;34m[\u001b[0m\u001b[0mkind\u001b[0m\u001b[0;34m]\u001b[0m\u001b[0;34m(\u001b[0m\u001b[0mdata\u001b[0m\u001b[0;34m,\u001b[0m \u001b[0;34m**\u001b[0m\u001b[0mkwargs\u001b[0m\u001b[0;34m)\u001b[0m\u001b[0;34m\u001b[0m\u001b[0;34m\u001b[0m\u001b[0m\n\u001b[0;32m---> 61\u001b[0;31m     \u001b[0mplot_obj\u001b[0m\u001b[0;34m.\u001b[0m\u001b[0mgenerate\u001b[0m\u001b[0;34m(\u001b[0m\u001b[0;34m)\u001b[0m\u001b[0;34m\u001b[0m\u001b[0;34m\u001b[0m\u001b[0m\n\u001b[0m\u001b[1;32m     62\u001b[0m     \u001b[0mplot_obj\u001b[0m\u001b[0;34m.\u001b[0m\u001b[0mdraw\u001b[0m\u001b[0;34m(\u001b[0m\u001b[0;34m)\u001b[0m\u001b[0;34m\u001b[0m\u001b[0;34m\u001b[0m\u001b[0m\n\u001b[1;32m     63\u001b[0m     \u001b[0;32mreturn\u001b[0m \u001b[0mplot_obj\u001b[0m\u001b[0;34m.\u001b[0m\u001b[0mresult\u001b[0m\u001b[0;34m\u001b[0m\u001b[0;34m\u001b[0m\u001b[0m\n",
            "\u001b[0;32m/usr/local/lib/python3.6/dist-packages/pandas/plotting/_matplotlib/core.py\u001b[0m in \u001b[0;36mgenerate\u001b[0;34m(self)\u001b[0m\n\u001b[1;32m    259\u001b[0m     \u001b[0;32mdef\u001b[0m \u001b[0mgenerate\u001b[0m\u001b[0;34m(\u001b[0m\u001b[0mself\u001b[0m\u001b[0;34m)\u001b[0m\u001b[0;34m:\u001b[0m\u001b[0;34m\u001b[0m\u001b[0;34m\u001b[0m\u001b[0m\n\u001b[1;32m    260\u001b[0m         \u001b[0mself\u001b[0m\u001b[0;34m.\u001b[0m\u001b[0m_args_adjust\u001b[0m\u001b[0;34m(\u001b[0m\u001b[0;34m)\u001b[0m\u001b[0;34m\u001b[0m\u001b[0;34m\u001b[0m\u001b[0m\n\u001b[0;32m--> 261\u001b[0;31m         \u001b[0mself\u001b[0m\u001b[0;34m.\u001b[0m\u001b[0m_compute_plot_data\u001b[0m\u001b[0;34m(\u001b[0m\u001b[0;34m)\u001b[0m\u001b[0;34m\u001b[0m\u001b[0;34m\u001b[0m\u001b[0m\n\u001b[0m\u001b[1;32m    262\u001b[0m         \u001b[0mself\u001b[0m\u001b[0;34m.\u001b[0m\u001b[0m_setup_subplots\u001b[0m\u001b[0;34m(\u001b[0m\u001b[0;34m)\u001b[0m\u001b[0;34m\u001b[0m\u001b[0;34m\u001b[0m\u001b[0m\n\u001b[1;32m    263\u001b[0m         \u001b[0mself\u001b[0m\u001b[0;34m.\u001b[0m\u001b[0m_make_plot\u001b[0m\u001b[0;34m(\u001b[0m\u001b[0;34m)\u001b[0m\u001b[0;34m\u001b[0m\u001b[0;34m\u001b[0m\u001b[0m\n",
            "\u001b[0;32m/usr/local/lib/python3.6/dist-packages/pandas/plotting/_matplotlib/core.py\u001b[0m in \u001b[0;36m_compute_plot_data\u001b[0;34m(self)\u001b[0m\n\u001b[1;32m    408\u001b[0m         \u001b[0;31m# no non-numeric frames or series allowed\u001b[0m\u001b[0;34m\u001b[0m\u001b[0;34m\u001b[0m\u001b[0;34m\u001b[0m\u001b[0m\n\u001b[1;32m    409\u001b[0m         \u001b[0;32mif\u001b[0m \u001b[0mis_empty\u001b[0m\u001b[0;34m:\u001b[0m\u001b[0;34m\u001b[0m\u001b[0;34m\u001b[0m\u001b[0m\n\u001b[0;32m--> 410\u001b[0;31m             \u001b[0;32mraise\u001b[0m \u001b[0mTypeError\u001b[0m\u001b[0;34m(\u001b[0m\u001b[0;34m\"no numeric data to plot\"\u001b[0m\u001b[0;34m)\u001b[0m\u001b[0;34m\u001b[0m\u001b[0;34m\u001b[0m\u001b[0m\n\u001b[0m\u001b[1;32m    411\u001b[0m \u001b[0;34m\u001b[0m\u001b[0m\n\u001b[1;32m    412\u001b[0m         \u001b[0;31m# GH25587: cast ExtensionArray of pandas (IntegerArray, etc.) to\u001b[0m\u001b[0;34m\u001b[0m\u001b[0;34m\u001b[0m\u001b[0;34m\u001b[0m\u001b[0m\n",
            "\u001b[0;31mTypeError\u001b[0m: no numeric data to plot"
          ]
        }
      ]
    },
    {
      "cell_type": "markdown",
      "metadata": {
        "id": "xmUU_I6iRLr8",
        "colab_type": "text"
      },
      "source": [
        "### scatter plot"
      ]
    },
    {
      "cell_type": "code",
      "metadata": {
        "id": "NY4Bn7UYRPVG",
        "colab_type": "code",
        "colab": {
          "base_uri": "https://localhost:8080/",
          "height": 341
        },
        "outputId": "bf876963-8386-4ff9-a0ea-785e5314bda0"
      },
      "source": [
        "from pyquery import PyQuery as pq\n",
        "from requests import get\n",
        "import pandas as pd\n",
        "import matplotlib.pyplot as plt\n",
        "\n",
        "def get_nba_sallary():\n",
        "  \"\"\"\n",
        "  Get NBA players' salary from SPOTRAC.COM\n",
        "  \"\"\"\n",
        "  nba_salary_ranking_url = \"https://www.spotrac.com/nba/ranings/\"\n",
        "  html_doc = pq(nba_salary_ranking_url)\n",
        "  \n",
        "  player_css = \".team-name\"\n",
        "  pos_css = \".rank-position\"\n",
        "  salary_css = \".info\"\n",
        "\n",
        "  players = [p.text for p in html_doc(player_css)]\n",
        "  positions = [p.text for p in html_doc(pos_css)]\n",
        "  salaries = [s.text.replace(\"$\", \"\") for s in html_doc(salary_css)]\n",
        "  salaries = [int(s.replace(\",\", \"\")) for s in salaries]\n",
        "\n",
        "  df = pd.DataFrame()\n",
        "  df[\"player\"] = players\n",
        "  df[\"pos\"] = positions\n",
        "  df[\"salary\"] = salaries\n",
        "\n",
        "  return df\n",
        "\n",
        "def get_pts_game():\n",
        "  \"\"\"\n",
        "  Get NBA players' PTS/G from NBA.com\n",
        "  \"\"\"\n",
        "\n",
        "  nba_stats_url = \"https://stats.nba.com/stats/leagueLeaders?LeagueID=00&PerMode=PerGame&Scope=S&Season=2017-18&SeasonType=Regular+Season&StatCategory=PTS\"\n",
        "  pts_game_dict = get(nba_stats_url).json()\n",
        "\n",
        "  players = [pts_game_dict[\"resultSet\"][\"rowSet\"][i][2] for i in range(len(pts_game_dict[\"resultSet\"][\"rowSet\"]))] \n",
        "  pts_game = [pts_game_dict[\"resultSet\"][\"rowSet\"][i][22] for i in range(len(pts_game_dict[\"resultSet\"][\"rowSet\"]))]\n",
        "\n",
        "  df = pd.DataFrame()\n",
        "  df[\"player\"] = players\n",
        "  df[\"pts_game\"] = pts_game\n",
        "\n",
        "  return df\n",
        "\n",
        "pts_game = get_pts_game()\n",
        "pts_game"
      ],
      "execution_count": 29,
      "outputs": [
        {
          "output_type": "error",
          "ename": "JSONDecodeError",
          "evalue": "ignored",
          "traceback": [
            "\u001b[0;31m---------------------------------------------------------------------------\u001b[0m",
            "\u001b[0;31mJSONDecodeError\u001b[0m                           Traceback (most recent call last)",
            "\u001b[0;32m<ipython-input-29-65d373bbb951>\u001b[0m in \u001b[0;36m<module>\u001b[0;34m()\u001b[0m\n\u001b[1;32m     44\u001b[0m   \u001b[0;32mreturn\u001b[0m \u001b[0mdf\u001b[0m\u001b[0;34m\u001b[0m\u001b[0;34m\u001b[0m\u001b[0m\n\u001b[1;32m     45\u001b[0m \u001b[0;34m\u001b[0m\u001b[0m\n\u001b[0;32m---> 46\u001b[0;31m \u001b[0mpts_game\u001b[0m \u001b[0;34m=\u001b[0m \u001b[0mget_pts_game\u001b[0m\u001b[0;34m(\u001b[0m\u001b[0;34m)\u001b[0m\u001b[0;34m\u001b[0m\u001b[0;34m\u001b[0m\u001b[0m\n\u001b[0m\u001b[1;32m     47\u001b[0m \u001b[0mpts_game\u001b[0m\u001b[0;34m\u001b[0m\u001b[0;34m\u001b[0m\u001b[0m\n",
            "\u001b[0;32m<ipython-input-29-65d373bbb951>\u001b[0m in \u001b[0;36mget_pts_game\u001b[0;34m()\u001b[0m\n\u001b[1;32m     33\u001b[0m \u001b[0;34m\u001b[0m\u001b[0m\n\u001b[1;32m     34\u001b[0m   \u001b[0mnba_stats_url\u001b[0m \u001b[0;34m=\u001b[0m \u001b[0;34m\"https://stats.nba.com/stats/leagueLeaders?LeagueID=00&PerMode=PerGame&Scope=S&Season=2017-18&SeasonType=Regular+Season&StatCategory=PTS\"\u001b[0m\u001b[0;34m\u001b[0m\u001b[0;34m\u001b[0m\u001b[0m\n\u001b[0;32m---> 35\u001b[0;31m   \u001b[0mpts_game_dict\u001b[0m \u001b[0;34m=\u001b[0m \u001b[0mget\u001b[0m\u001b[0;34m(\u001b[0m\u001b[0mnba_stats_url\u001b[0m\u001b[0;34m)\u001b[0m\u001b[0;34m.\u001b[0m\u001b[0mjson\u001b[0m\u001b[0;34m(\u001b[0m\u001b[0;34m)\u001b[0m\u001b[0;34m\u001b[0m\u001b[0;34m\u001b[0m\u001b[0m\n\u001b[0m\u001b[1;32m     36\u001b[0m \u001b[0;34m\u001b[0m\u001b[0m\n\u001b[1;32m     37\u001b[0m   \u001b[0mplayers\u001b[0m \u001b[0;34m=\u001b[0m \u001b[0;34m[\u001b[0m\u001b[0mpts_game_dict\u001b[0m\u001b[0;34m[\u001b[0m\u001b[0;34m\"resultSet\"\u001b[0m\u001b[0;34m]\u001b[0m\u001b[0;34m[\u001b[0m\u001b[0;34m\"rowSet\"\u001b[0m\u001b[0;34m]\u001b[0m\u001b[0;34m[\u001b[0m\u001b[0mi\u001b[0m\u001b[0;34m]\u001b[0m\u001b[0;34m[\u001b[0m\u001b[0;36m2\u001b[0m\u001b[0;34m]\u001b[0m \u001b[0;32mfor\u001b[0m \u001b[0mi\u001b[0m \u001b[0;32min\u001b[0m \u001b[0mrange\u001b[0m\u001b[0;34m(\u001b[0m\u001b[0mlen\u001b[0m\u001b[0;34m(\u001b[0m\u001b[0mpts_game_dict\u001b[0m\u001b[0;34m[\u001b[0m\u001b[0;34m\"resultSet\"\u001b[0m\u001b[0;34m]\u001b[0m\u001b[0;34m[\u001b[0m\u001b[0;34m\"rowSet\"\u001b[0m\u001b[0;34m]\u001b[0m\u001b[0;34m)\u001b[0m\u001b[0;34m)\u001b[0m\u001b[0;34m]\u001b[0m\u001b[0;34m\u001b[0m\u001b[0;34m\u001b[0m\u001b[0m\n",
            "\u001b[0;32m/usr/local/lib/python3.6/dist-packages/requests/models.py\u001b[0m in \u001b[0;36mjson\u001b[0;34m(self, **kwargs)\u001b[0m\n\u001b[1;32m    896\u001b[0m                     \u001b[0;31m# used.\u001b[0m\u001b[0;34m\u001b[0m\u001b[0;34m\u001b[0m\u001b[0;34m\u001b[0m\u001b[0m\n\u001b[1;32m    897\u001b[0m                     \u001b[0;32mpass\u001b[0m\u001b[0;34m\u001b[0m\u001b[0;34m\u001b[0m\u001b[0m\n\u001b[0;32m--> 898\u001b[0;31m         \u001b[0;32mreturn\u001b[0m \u001b[0mcomplexjson\u001b[0m\u001b[0;34m.\u001b[0m\u001b[0mloads\u001b[0m\u001b[0;34m(\u001b[0m\u001b[0mself\u001b[0m\u001b[0;34m.\u001b[0m\u001b[0mtext\u001b[0m\u001b[0;34m,\u001b[0m \u001b[0;34m**\u001b[0m\u001b[0mkwargs\u001b[0m\u001b[0;34m)\u001b[0m\u001b[0;34m\u001b[0m\u001b[0;34m\u001b[0m\u001b[0m\n\u001b[0m\u001b[1;32m    899\u001b[0m \u001b[0;34m\u001b[0m\u001b[0m\n\u001b[1;32m    900\u001b[0m     \u001b[0;34m@\u001b[0m\u001b[0mproperty\u001b[0m\u001b[0;34m\u001b[0m\u001b[0;34m\u001b[0m\u001b[0m\n",
            "\u001b[0;32m/usr/lib/python3.6/json/__init__.py\u001b[0m in \u001b[0;36mloads\u001b[0;34m(s, encoding, cls, object_hook, parse_float, parse_int, parse_constant, object_pairs_hook, **kw)\u001b[0m\n\u001b[1;32m    352\u001b[0m             \u001b[0mparse_int\u001b[0m \u001b[0;32mis\u001b[0m \u001b[0;32mNone\u001b[0m \u001b[0;32mand\u001b[0m \u001b[0mparse_float\u001b[0m \u001b[0;32mis\u001b[0m \u001b[0;32mNone\u001b[0m \u001b[0;32mand\u001b[0m\u001b[0;34m\u001b[0m\u001b[0;34m\u001b[0m\u001b[0m\n\u001b[1;32m    353\u001b[0m             parse_constant is None and object_pairs_hook is None and not kw):\n\u001b[0;32m--> 354\u001b[0;31m         \u001b[0;32mreturn\u001b[0m \u001b[0m_default_decoder\u001b[0m\u001b[0;34m.\u001b[0m\u001b[0mdecode\u001b[0m\u001b[0;34m(\u001b[0m\u001b[0ms\u001b[0m\u001b[0;34m)\u001b[0m\u001b[0;34m\u001b[0m\u001b[0;34m\u001b[0m\u001b[0m\n\u001b[0m\u001b[1;32m    355\u001b[0m     \u001b[0;32mif\u001b[0m \u001b[0mcls\u001b[0m \u001b[0;32mis\u001b[0m \u001b[0;32mNone\u001b[0m\u001b[0;34m:\u001b[0m\u001b[0;34m\u001b[0m\u001b[0;34m\u001b[0m\u001b[0m\n\u001b[1;32m    356\u001b[0m         \u001b[0mcls\u001b[0m \u001b[0;34m=\u001b[0m \u001b[0mJSONDecoder\u001b[0m\u001b[0;34m\u001b[0m\u001b[0;34m\u001b[0m\u001b[0m\n",
            "\u001b[0;32m/usr/lib/python3.6/json/decoder.py\u001b[0m in \u001b[0;36mdecode\u001b[0;34m(self, s, _w)\u001b[0m\n\u001b[1;32m    337\u001b[0m \u001b[0;34m\u001b[0m\u001b[0m\n\u001b[1;32m    338\u001b[0m         \"\"\"\n\u001b[0;32m--> 339\u001b[0;31m         \u001b[0mobj\u001b[0m\u001b[0;34m,\u001b[0m \u001b[0mend\u001b[0m \u001b[0;34m=\u001b[0m \u001b[0mself\u001b[0m\u001b[0;34m.\u001b[0m\u001b[0mraw_decode\u001b[0m\u001b[0;34m(\u001b[0m\u001b[0ms\u001b[0m\u001b[0;34m,\u001b[0m \u001b[0midx\u001b[0m\u001b[0;34m=\u001b[0m\u001b[0m_w\u001b[0m\u001b[0;34m(\u001b[0m\u001b[0ms\u001b[0m\u001b[0;34m,\u001b[0m \u001b[0;36m0\u001b[0m\u001b[0;34m)\u001b[0m\u001b[0;34m.\u001b[0m\u001b[0mend\u001b[0m\u001b[0;34m(\u001b[0m\u001b[0;34m)\u001b[0m\u001b[0;34m)\u001b[0m\u001b[0;34m\u001b[0m\u001b[0;34m\u001b[0m\u001b[0m\n\u001b[0m\u001b[1;32m    340\u001b[0m         \u001b[0mend\u001b[0m \u001b[0;34m=\u001b[0m \u001b[0m_w\u001b[0m\u001b[0;34m(\u001b[0m\u001b[0ms\u001b[0m\u001b[0;34m,\u001b[0m \u001b[0mend\u001b[0m\u001b[0;34m)\u001b[0m\u001b[0;34m.\u001b[0m\u001b[0mend\u001b[0m\u001b[0;34m(\u001b[0m\u001b[0;34m)\u001b[0m\u001b[0;34m\u001b[0m\u001b[0;34m\u001b[0m\u001b[0m\n\u001b[1;32m    341\u001b[0m         \u001b[0;32mif\u001b[0m \u001b[0mend\u001b[0m \u001b[0;34m!=\u001b[0m \u001b[0mlen\u001b[0m\u001b[0;34m(\u001b[0m\u001b[0ms\u001b[0m\u001b[0;34m)\u001b[0m\u001b[0;34m:\u001b[0m\u001b[0;34m\u001b[0m\u001b[0;34m\u001b[0m\u001b[0m\n",
            "\u001b[0;32m/usr/lib/python3.6/json/decoder.py\u001b[0m in \u001b[0;36mraw_decode\u001b[0;34m(self, s, idx)\u001b[0m\n\u001b[1;32m    355\u001b[0m             \u001b[0mobj\u001b[0m\u001b[0;34m,\u001b[0m \u001b[0mend\u001b[0m \u001b[0;34m=\u001b[0m \u001b[0mself\u001b[0m\u001b[0;34m.\u001b[0m\u001b[0mscan_once\u001b[0m\u001b[0;34m(\u001b[0m\u001b[0ms\u001b[0m\u001b[0;34m,\u001b[0m \u001b[0midx\u001b[0m\u001b[0;34m)\u001b[0m\u001b[0;34m\u001b[0m\u001b[0;34m\u001b[0m\u001b[0m\n\u001b[1;32m    356\u001b[0m         \u001b[0;32mexcept\u001b[0m \u001b[0mStopIteration\u001b[0m \u001b[0;32mas\u001b[0m \u001b[0merr\u001b[0m\u001b[0;34m:\u001b[0m\u001b[0;34m\u001b[0m\u001b[0;34m\u001b[0m\u001b[0m\n\u001b[0;32m--> 357\u001b[0;31m             \u001b[0;32mraise\u001b[0m \u001b[0mJSONDecodeError\u001b[0m\u001b[0;34m(\u001b[0m\u001b[0;34m\"Expecting value\"\u001b[0m\u001b[0;34m,\u001b[0m \u001b[0ms\u001b[0m\u001b[0;34m,\u001b[0m \u001b[0merr\u001b[0m\u001b[0;34m.\u001b[0m\u001b[0mvalue\u001b[0m\u001b[0;34m)\u001b[0m \u001b[0;32mfrom\u001b[0m \u001b[0;32mNone\u001b[0m\u001b[0;34m\u001b[0m\u001b[0;34m\u001b[0m\u001b[0m\n\u001b[0m\u001b[1;32m    358\u001b[0m         \u001b[0;32mreturn\u001b[0m \u001b[0mobj\u001b[0m\u001b[0;34m,\u001b[0m \u001b[0mend\u001b[0m\u001b[0;34m\u001b[0m\u001b[0;34m\u001b[0m\u001b[0m\n",
            "\u001b[0;31mJSONDecodeError\u001b[0m: Expecting value: line 1 column 1 (char 0)"
          ]
        }
      ]
    },
    {
      "cell_type": "code",
      "metadata": {
        "id": "IjBqFi6tTovz",
        "colab_type": "code",
        "colab": {
          "base_uri": "https://localhost:8080/",
          "height": 324
        },
        "outputId": "1b9c510b-8163-44fa-e7b2-077512490adf"
      },
      "source": [
        "\n",
        "nba_stats_url = \"https://stats.nba.com/stats/leagueLeaders?LeagueID=00&PerMode=PerGame&Scope=S&Season=2017-18&SeasonType=Regular+Season&StatCategory=PTS\"\n",
        "pts_game_text = get(nba_stats_url)\n",
        "\n",
        "import json\n",
        "json.loads(pts_game_text.text)"
      ],
      "execution_count": 32,
      "outputs": [
        {
          "output_type": "error",
          "ename": "JSONDecodeError",
          "evalue": "ignored",
          "traceback": [
            "\u001b[0;31m---------------------------------------------------------------------------\u001b[0m",
            "\u001b[0;31mJSONDecodeError\u001b[0m                           Traceback (most recent call last)",
            "\u001b[0;32m<ipython-input-32-03dcacf8206a>\u001b[0m in \u001b[0;36m<module>\u001b[0;34m()\u001b[0m\n\u001b[1;32m      4\u001b[0m \u001b[0;34m\u001b[0m\u001b[0m\n\u001b[1;32m      5\u001b[0m \u001b[0;32mimport\u001b[0m \u001b[0mjson\u001b[0m\u001b[0;34m\u001b[0m\u001b[0;34m\u001b[0m\u001b[0m\n\u001b[0;32m----> 6\u001b[0;31m \u001b[0mjson\u001b[0m\u001b[0;34m.\u001b[0m\u001b[0mloads\u001b[0m\u001b[0;34m(\u001b[0m\u001b[0mpts_game_text\u001b[0m\u001b[0;34m.\u001b[0m\u001b[0mtext\u001b[0m\u001b[0;34m)\u001b[0m\u001b[0;34m\u001b[0m\u001b[0;34m\u001b[0m\u001b[0m\n\u001b[0m",
            "\u001b[0;32m/usr/lib/python3.6/json/__init__.py\u001b[0m in \u001b[0;36mloads\u001b[0;34m(s, encoding, cls, object_hook, parse_float, parse_int, parse_constant, object_pairs_hook, **kw)\u001b[0m\n\u001b[1;32m    352\u001b[0m             \u001b[0mparse_int\u001b[0m \u001b[0;32mis\u001b[0m \u001b[0;32mNone\u001b[0m \u001b[0;32mand\u001b[0m \u001b[0mparse_float\u001b[0m \u001b[0;32mis\u001b[0m \u001b[0;32mNone\u001b[0m \u001b[0;32mand\u001b[0m\u001b[0;34m\u001b[0m\u001b[0;34m\u001b[0m\u001b[0m\n\u001b[1;32m    353\u001b[0m             parse_constant is None and object_pairs_hook is None and not kw):\n\u001b[0;32m--> 354\u001b[0;31m         \u001b[0;32mreturn\u001b[0m \u001b[0m_default_decoder\u001b[0m\u001b[0;34m.\u001b[0m\u001b[0mdecode\u001b[0m\u001b[0;34m(\u001b[0m\u001b[0ms\u001b[0m\u001b[0;34m)\u001b[0m\u001b[0;34m\u001b[0m\u001b[0;34m\u001b[0m\u001b[0m\n\u001b[0m\u001b[1;32m    355\u001b[0m     \u001b[0;32mif\u001b[0m \u001b[0mcls\u001b[0m \u001b[0;32mis\u001b[0m \u001b[0;32mNone\u001b[0m\u001b[0;34m:\u001b[0m\u001b[0;34m\u001b[0m\u001b[0;34m\u001b[0m\u001b[0m\n\u001b[1;32m    356\u001b[0m         \u001b[0mcls\u001b[0m \u001b[0;34m=\u001b[0m \u001b[0mJSONDecoder\u001b[0m\u001b[0;34m\u001b[0m\u001b[0;34m\u001b[0m\u001b[0m\n",
            "\u001b[0;32m/usr/lib/python3.6/json/decoder.py\u001b[0m in \u001b[0;36mdecode\u001b[0;34m(self, s, _w)\u001b[0m\n\u001b[1;32m    337\u001b[0m \u001b[0;34m\u001b[0m\u001b[0m\n\u001b[1;32m    338\u001b[0m         \"\"\"\n\u001b[0;32m--> 339\u001b[0;31m         \u001b[0mobj\u001b[0m\u001b[0;34m,\u001b[0m \u001b[0mend\u001b[0m \u001b[0;34m=\u001b[0m \u001b[0mself\u001b[0m\u001b[0;34m.\u001b[0m\u001b[0mraw_decode\u001b[0m\u001b[0;34m(\u001b[0m\u001b[0ms\u001b[0m\u001b[0;34m,\u001b[0m \u001b[0midx\u001b[0m\u001b[0;34m=\u001b[0m\u001b[0m_w\u001b[0m\u001b[0;34m(\u001b[0m\u001b[0ms\u001b[0m\u001b[0;34m,\u001b[0m \u001b[0;36m0\u001b[0m\u001b[0;34m)\u001b[0m\u001b[0;34m.\u001b[0m\u001b[0mend\u001b[0m\u001b[0;34m(\u001b[0m\u001b[0;34m)\u001b[0m\u001b[0;34m)\u001b[0m\u001b[0;34m\u001b[0m\u001b[0;34m\u001b[0m\u001b[0m\n\u001b[0m\u001b[1;32m    340\u001b[0m         \u001b[0mend\u001b[0m \u001b[0;34m=\u001b[0m \u001b[0m_w\u001b[0m\u001b[0;34m(\u001b[0m\u001b[0ms\u001b[0m\u001b[0;34m,\u001b[0m \u001b[0mend\u001b[0m\u001b[0;34m)\u001b[0m\u001b[0;34m.\u001b[0m\u001b[0mend\u001b[0m\u001b[0;34m(\u001b[0m\u001b[0;34m)\u001b[0m\u001b[0;34m\u001b[0m\u001b[0;34m\u001b[0m\u001b[0m\n\u001b[1;32m    341\u001b[0m         \u001b[0;32mif\u001b[0m \u001b[0mend\u001b[0m \u001b[0;34m!=\u001b[0m \u001b[0mlen\u001b[0m\u001b[0;34m(\u001b[0m\u001b[0ms\u001b[0m\u001b[0;34m)\u001b[0m\u001b[0;34m:\u001b[0m\u001b[0;34m\u001b[0m\u001b[0;34m\u001b[0m\u001b[0m\n",
            "\u001b[0;32m/usr/lib/python3.6/json/decoder.py\u001b[0m in \u001b[0;36mraw_decode\u001b[0;34m(self, s, idx)\u001b[0m\n\u001b[1;32m    355\u001b[0m             \u001b[0mobj\u001b[0m\u001b[0;34m,\u001b[0m \u001b[0mend\u001b[0m \u001b[0;34m=\u001b[0m \u001b[0mself\u001b[0m\u001b[0;34m.\u001b[0m\u001b[0mscan_once\u001b[0m\u001b[0;34m(\u001b[0m\u001b[0ms\u001b[0m\u001b[0;34m,\u001b[0m \u001b[0midx\u001b[0m\u001b[0;34m)\u001b[0m\u001b[0;34m\u001b[0m\u001b[0;34m\u001b[0m\u001b[0m\n\u001b[1;32m    356\u001b[0m         \u001b[0;32mexcept\u001b[0m \u001b[0mStopIteration\u001b[0m \u001b[0;32mas\u001b[0m \u001b[0merr\u001b[0m\u001b[0;34m:\u001b[0m\u001b[0;34m\u001b[0m\u001b[0;34m\u001b[0m\u001b[0m\n\u001b[0;32m--> 357\u001b[0;31m             \u001b[0;32mraise\u001b[0m \u001b[0mJSONDecodeError\u001b[0m\u001b[0;34m(\u001b[0m\u001b[0;34m\"Expecting value\"\u001b[0m\u001b[0;34m,\u001b[0m \u001b[0ms\u001b[0m\u001b[0;34m,\u001b[0m \u001b[0merr\u001b[0m\u001b[0;34m.\u001b[0m\u001b[0mvalue\u001b[0m\u001b[0;34m)\u001b[0m \u001b[0;32mfrom\u001b[0m \u001b[0;32mNone\u001b[0m\u001b[0;34m\u001b[0m\u001b[0;34m\u001b[0m\u001b[0m\n\u001b[0m\u001b[1;32m    358\u001b[0m         \u001b[0;32mreturn\u001b[0m \u001b[0mobj\u001b[0m\u001b[0;34m,\u001b[0m \u001b[0mend\u001b[0m\u001b[0;34m\u001b[0m\u001b[0;34m\u001b[0m\u001b[0m\n",
            "\u001b[0;31mJSONDecodeError\u001b[0m: Expecting value: line 1 column 1 (char 0)"
          ]
        }
      ]
    },
    {
      "cell_type": "markdown",
      "metadata": {
        "id": "Nkei1XDfXpSY",
        "colab_type": "text"
      },
      "source": [
        "### line graph\n"
      ]
    },
    {
      "cell_type": "code",
      "metadata": {
        "id": "_TE0Bpg0XuOm",
        "colab_type": "code",
        "colab": {
          "base_uri": "https://localhost:8080/",
          "height": 638
        },
        "outputId": "130f303b-76b0-4bca-a628-1f2caa2c1ed4"
      },
      "source": [
        "from pyquery import PyQuery as pq\n",
        "import pandas as pd\n",
        "import matplotlib.pyplot as plt\n",
        "\n",
        "def get_pp_stats():\n",
        "  \"\"\"\n",
        "  Get Paul Pierce stats from basketball-reference.com\n",
        "  \"\"\"\n",
        "\n",
        "  stats_url = \"https://www.basketball-reference.com/players/p/piercpa01.html\"\n",
        "  html_doc = pq(stats_url)\n",
        "\n",
        "  pts_css = \"#per_game .full_table .right:nth-child(30)\"\n",
        "  ast_css = \"#per_game .full_table .right:nth-child(25)\"\n",
        "  reb_css = \"#per_game .full_table .right:nth-child(24)\"\n",
        "\n",
        "  year = [str(i)+\"-01-01\" for i in range(1999,2018)]\n",
        "  pts = [float(p.text) for p in html_doc(pts_css)]\n",
        "  ast = [float(a.text) for a in html_doc(ast_css)]\n",
        "  reb = [float(r.text) for r in html_doc(reb_css)]\n",
        "\n",
        "  df = pd.DataFrame()\n",
        "  df[\"year\"] = year\n",
        "  df[\"pts\"] = pts\n",
        "  df[\"ast\"] = ast\n",
        "  df[\"reb\"] = reb\n",
        "\n",
        "  return df\n",
        "\n",
        "pp_stats = get_pp_stats()\n",
        "pp_stats  "
      ],
      "execution_count": 38,
      "outputs": [
        {
          "output_type": "execute_result",
          "data": {
            "text/html": [
              "<div>\n",
              "<style scoped>\n",
              "    .dataframe tbody tr th:only-of-type {\n",
              "        vertical-align: middle;\n",
              "    }\n",
              "\n",
              "    .dataframe tbody tr th {\n",
              "        vertical-align: top;\n",
              "    }\n",
              "\n",
              "    .dataframe thead th {\n",
              "        text-align: right;\n",
              "    }\n",
              "</style>\n",
              "<table border=\"1\" class=\"dataframe\">\n",
              "  <thead>\n",
              "    <tr style=\"text-align: right;\">\n",
              "      <th></th>\n",
              "      <th>year</th>\n",
              "      <th>pts</th>\n",
              "      <th>ast</th>\n",
              "      <th>reb</th>\n",
              "    </tr>\n",
              "  </thead>\n",
              "  <tbody>\n",
              "    <tr>\n",
              "      <th>0</th>\n",
              "      <td>1999-01-01</td>\n",
              "      <td>16.5</td>\n",
              "      <td>2.4</td>\n",
              "      <td>6.4</td>\n",
              "    </tr>\n",
              "    <tr>\n",
              "      <th>1</th>\n",
              "      <td>2000-01-01</td>\n",
              "      <td>19.5</td>\n",
              "      <td>3.0</td>\n",
              "      <td>5.4</td>\n",
              "    </tr>\n",
              "    <tr>\n",
              "      <th>2</th>\n",
              "      <td>2001-01-01</td>\n",
              "      <td>25.3</td>\n",
              "      <td>3.1</td>\n",
              "      <td>6.4</td>\n",
              "    </tr>\n",
              "    <tr>\n",
              "      <th>3</th>\n",
              "      <td>2002-01-01</td>\n",
              "      <td>26.1</td>\n",
              "      <td>3.2</td>\n",
              "      <td>6.9</td>\n",
              "    </tr>\n",
              "    <tr>\n",
              "      <th>4</th>\n",
              "      <td>2003-01-01</td>\n",
              "      <td>25.9</td>\n",
              "      <td>4.4</td>\n",
              "      <td>7.3</td>\n",
              "    </tr>\n",
              "    <tr>\n",
              "      <th>5</th>\n",
              "      <td>2004-01-01</td>\n",
              "      <td>23.0</td>\n",
              "      <td>5.1</td>\n",
              "      <td>6.5</td>\n",
              "    </tr>\n",
              "    <tr>\n",
              "      <th>6</th>\n",
              "      <td>2005-01-01</td>\n",
              "      <td>21.6</td>\n",
              "      <td>4.2</td>\n",
              "      <td>6.6</td>\n",
              "    </tr>\n",
              "    <tr>\n",
              "      <th>7</th>\n",
              "      <td>2006-01-01</td>\n",
              "      <td>26.8</td>\n",
              "      <td>4.7</td>\n",
              "      <td>6.7</td>\n",
              "    </tr>\n",
              "    <tr>\n",
              "      <th>8</th>\n",
              "      <td>2007-01-01</td>\n",
              "      <td>25.0</td>\n",
              "      <td>4.1</td>\n",
              "      <td>5.9</td>\n",
              "    </tr>\n",
              "    <tr>\n",
              "      <th>9</th>\n",
              "      <td>2008-01-01</td>\n",
              "      <td>19.6</td>\n",
              "      <td>4.5</td>\n",
              "      <td>5.1</td>\n",
              "    </tr>\n",
              "    <tr>\n",
              "      <th>10</th>\n",
              "      <td>2009-01-01</td>\n",
              "      <td>20.5</td>\n",
              "      <td>3.6</td>\n",
              "      <td>5.6</td>\n",
              "    </tr>\n",
              "    <tr>\n",
              "      <th>11</th>\n",
              "      <td>2010-01-01</td>\n",
              "      <td>18.3</td>\n",
              "      <td>3.1</td>\n",
              "      <td>4.4</td>\n",
              "    </tr>\n",
              "    <tr>\n",
              "      <th>12</th>\n",
              "      <td>2011-01-01</td>\n",
              "      <td>18.9</td>\n",
              "      <td>3.3</td>\n",
              "      <td>5.4</td>\n",
              "    </tr>\n",
              "    <tr>\n",
              "      <th>13</th>\n",
              "      <td>2012-01-01</td>\n",
              "      <td>19.4</td>\n",
              "      <td>4.5</td>\n",
              "      <td>5.2</td>\n",
              "    </tr>\n",
              "    <tr>\n",
              "      <th>14</th>\n",
              "      <td>2013-01-01</td>\n",
              "      <td>18.6</td>\n",
              "      <td>4.8</td>\n",
              "      <td>6.3</td>\n",
              "    </tr>\n",
              "    <tr>\n",
              "      <th>15</th>\n",
              "      <td>2014-01-01</td>\n",
              "      <td>13.5</td>\n",
              "      <td>2.4</td>\n",
              "      <td>4.6</td>\n",
              "    </tr>\n",
              "    <tr>\n",
              "      <th>16</th>\n",
              "      <td>2015-01-01</td>\n",
              "      <td>11.9</td>\n",
              "      <td>2.0</td>\n",
              "      <td>4.0</td>\n",
              "    </tr>\n",
              "    <tr>\n",
              "      <th>17</th>\n",
              "      <td>2016-01-01</td>\n",
              "      <td>6.1</td>\n",
              "      <td>1.0</td>\n",
              "      <td>2.7</td>\n",
              "    </tr>\n",
              "    <tr>\n",
              "      <th>18</th>\n",
              "      <td>2017-01-01</td>\n",
              "      <td>3.2</td>\n",
              "      <td>0.4</td>\n",
              "      <td>1.9</td>\n",
              "    </tr>\n",
              "  </tbody>\n",
              "</table>\n",
              "</div>"
            ],
            "text/plain": [
              "          year   pts  ast  reb\n",
              "0   1999-01-01  16.5  2.4  6.4\n",
              "1   2000-01-01  19.5  3.0  5.4\n",
              "2   2001-01-01  25.3  3.1  6.4\n",
              "3   2002-01-01  26.1  3.2  6.9\n",
              "4   2003-01-01  25.9  4.4  7.3\n",
              "5   2004-01-01  23.0  5.1  6.5\n",
              "6   2005-01-01  21.6  4.2  6.6\n",
              "7   2006-01-01  26.8  4.7  6.7\n",
              "8   2007-01-01  25.0  4.1  5.9\n",
              "9   2008-01-01  19.6  4.5  5.1\n",
              "10  2009-01-01  20.5  3.6  5.6\n",
              "11  2010-01-01  18.3  3.1  4.4\n",
              "12  2011-01-01  18.9  3.3  5.4\n",
              "13  2012-01-01  19.4  4.5  5.2\n",
              "14  2013-01-01  18.6  4.8  6.3\n",
              "15  2014-01-01  13.5  2.4  4.6\n",
              "16  2015-01-01  11.9  2.0  4.0\n",
              "17  2016-01-01   6.1  1.0  2.7\n",
              "18  2017-01-01   3.2  0.4  1.9"
            ]
          },
          "metadata": {
            "tags": []
          },
          "execution_count": 38
        }
      ]
    },
    {
      "cell_type": "code",
      "metadata": {
        "id": "tnj9MU_3ZCl0",
        "colab_type": "code",
        "colab": {
          "base_uri": "https://localhost:8080/",
          "height": 265
        },
        "outputId": "1985958b-e533-4b08-dc8c-24f95e3cdcef"
      },
      "source": [
        "pp_stats[\"year\"] = pd.to_datetime(pp_stats[\"year\"])\n",
        "pp_stats = pp_stats.set_index(\"year\")\n",
        "\n",
        "plt.plot(pp_stats[\"pts\"])\n",
        "plt.plot(pp_stats[\"reb\"])\n",
        "plt.plot(pp_stats[\"ast\"])\n",
        "\n",
        "plt.legend([\"PTS\",\"REB\",\"AST\"], loc='upper right')\n",
        "plt.show()"
      ],
      "execution_count": 39,
      "outputs": [
        {
          "output_type": "display_data",
          "data": {
            "image/png": "[encoded data removed]",
            "text/plain": [
              "<Figure size 432x288 with 1 Axes>"
            ]
          },
          "metadata": {
            "tags": [],
            "needs_background": "light"
          }
        }
      ]
    },
    {
      "cell_type": "code",
      "metadata": {
        "id": "Qz2PEI7yZcdL",
        "colab_type": "code",
        "colab": {
          "base_uri": "https://localhost:8080/",
          "height": 279
        },
        "outputId": "77a3f786-76c9-4aa4-85ed-bd521f050def"
      },
      "source": [
        "pp_stats.plot.line()\n",
        "plt.show()"
      ],
      "execution_count": 36,
      "outputs": [
        {
          "output_type": "display_data",
          "data": {
            "image/png": "[encoded data removed]",
            "text/plain": [
              "<Figure size 432x288 with 1 Axes>"
            ]
          },
          "metadata": {
            "tags": [],
            "needs_background": "light"
          }
        }
      ]
    },
    {
      "cell_type": "code",
      "metadata": {
        "id": "KK4KP5Ht-DqO",
        "colab_type": "code",
        "colab": {
          "base_uri": "https://localhost:8080/",
          "height": 34
        },
        "outputId": "0b262be3-47c0-4c5c-f8e6-0b278902ac76"
      },
      "source": [
        "(-80538738812075974)**3 + (80435758145817515)**3 +  (12602123297335631)**3"
      ],
      "execution_count": 14,
      "outputs": [
        {
          "output_type": "execute_result",
          "data": {
            "text/plain": [
              "42"
            ]
          },
          "metadata": {
            "tags": []
          },
          "execution_count": 14
        }
      ]
    },
    {
      "cell_type": "code",
      "metadata": {
        "id": "Fj2IgnqwAN4m",
        "colab_type": "code",
        "colab": {
          "base_uri": "https://localhost:8080/",
          "height": 34
        },
        "outputId": "34c1fc7a-2032-441b-ab73-6c0f0cc9fc84"
      },
      "source": [
        "(80435758145817515)**3"
      ],
      "execution_count": 11,
      "outputs": [
        {
          "output_type": "execute_result",
          "data": {
            "text/plain": [
              "520412211582497361738652718463552780369306583065875"
            ]
          },
          "metadata": {
            "tags": []
          },
          "execution_count": 11
        }
      ]
    },
    {
      "cell_type": "code",
      "metadata": {
        "id": "Ahc8IQMAAPkH",
        "colab_type": "code",
        "colab": {
          "base_uri": "https://localhost:8080/",
          "height": 34
        },
        "outputId": "9cdfc9ac-bbcb-41f3-9763-0ac9d82dc3c4"
      },
      "source": [
        "(12602123297335631)**3"
      ],
      "execution_count": 12,
      "outputs": [
        {
          "output_type": "execute_result",
          "data": {
            "text/plain": [
              "2001387454481788542313426390100466780457779044591"
            ]
          },
          "metadata": {
            "tags": []
          },
          "execution_count": 12
        }
      ]
    },
    {
      "cell_type": "code",
      "metadata": {
        "id": "ZhDvlLB7ASO_",
        "colab_type": "code",
        "colab": {
          "base_uri": "https://localhost:8080/",
          "height": 34
        },
        "outputId": "9afa0490-e684-4ce2-f2f8-908fc0c46115"
      },
      "source": [
        "(-80538738812075974)**3"
      ],
      "execution_count": 13,
      "outputs": [
        {
          "output_type": "execute_result",
          "data": {
            "text/plain": [
              "-522413599036979150280966144853653247149764362110424"
            ]
          },
          "metadata": {
            "tags": []
          },
          "execution_count": 13
        }
      ]
    },
    {
      "cell_type": "code",
      "metadata": {
        "id": "RLi4zdMkAUqp",
        "colab_type": "code",
        "colab": {}
      },
      "source": [
        ""
      ],
      "execution_count": 0,
      "outputs": []
    }
  ]
}